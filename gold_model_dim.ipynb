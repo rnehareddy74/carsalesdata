{
 "cells": [
  {
   "cell_type": "markdown",
   "metadata": {
    "application/vnd.databricks.v1+cell": {
     "cellMetadata": {},
     "inputWidgets": {},
     "nuid": "0f790d5a-83b3-48d3-a1fe-f00319751955",
     "showTitle": false,
     "tableResultSettingsMap": {},
     "title": ""
    }
   },
   "source": [
    "create flag parameter\n"
   ]
  },
  {
   "cell_type": "code",
   "execution_count": 0,
   "metadata": {
    "application/vnd.databricks.v1+cell": {
     "cellMetadata": {
      "byteLimit": 2048000,
      "rowLimit": 10000
     },
     "inputWidgets": {},
     "nuid": "0677cc75-ce5a-4075-9f0e-be17aefb3b07",
     "showTitle": false,
     "tableResultSettingsMap": {},
     "title": ""
    }
   },
   "outputs": [],
   "source": [
    "from pyspark.sql.functions import*\n",
    "from pyspark.sql.types import*"
   ]
  },
  {
   "cell_type": "code",
   "execution_count": 0,
   "metadata": {
    "application/vnd.databricks.v1+cell": {
     "cellMetadata": {
      "byteLimit": 2048000,
      "rowLimit": 10000
     },
     "inputWidgets": {},
     "nuid": "512e5dc4-34ad-4cf9-8a6a-81a7680ac899",
     "showTitle": false,
     "tableResultSettingsMap": {},
     "title": ""
    }
   },
   "outputs": [],
   "source": [
    "dbutils.widgets.text('incremental_flag','0')"
   ]
  },
  {
   "cell_type": "code",
   "execution_count": 0,
   "metadata": {
    "application/vnd.databricks.v1+cell": {
     "cellMetadata": {
      "byteLimit": 2048000,
      "rowLimit": 10000
     },
     "inputWidgets": {},
     "nuid": "e24f2b00-97b2-444c-947e-a26b565f63c1",
     "showTitle": false,
     "tableResultSettingsMap": {},
     "title": ""
    }
   },
   "outputs": [
    {
     "output_type": "stream",
     "name": "stdout",
     "output_type": "stream",
     "text": [
      "<class 'str'>\n"
     ]
    }
   ],
   "source": [
    "incremental_flag = dbutils.widgets.get('incremental_flag')\n",
    "print (type(incremental_flag))"
   ]
  },
  {
   "cell_type": "markdown",
   "metadata": {
    "application/vnd.databricks.v1+cell": {
     "cellMetadata": {},
     "inputWidgets": {},
     "nuid": "b2c444ce-d84b-4911-9c56-96382925591c",
     "showTitle": false,
     "tableResultSettingsMap": {},
     "title": ""
    }
   },
   "source": [
    "creating dimenion model\n",
    "__"
   ]
  },
  {
   "cell_type": "markdown",
   "metadata": {
    "application/vnd.databricks.v1+cell": {
     "cellMetadata": {},
     "inputWidgets": {},
     "nuid": "10d6358b-3a1b-404a-855c-d0e33f146863",
     "showTitle": false,
     "tableResultSettingsMap": {},
     "title": ""
    }
   },
   "source": [
    "#\n",
    "# fetch relative columns"
   ]
  },
  {
   "cell_type": "code",
   "execution_count": 0,
   "metadata": {
    "application/vnd.databricks.v1+cell": {
     "cellMetadata": {
      "byteLimit": 2048000,
      "implicitDf": true,
      "rowLimit": 10000
     },
     "inputWidgets": {},
     "nuid": "0de7862d-2d0d-4fd1-baa3-0398327b12a2",
     "showTitle": false,
     "tableResultSettingsMap": {},
     "title": ""
    }
   },
   "outputs": [],
   "source": [
    "df_source=spark.sql('''\n",
    "select DISTINCT(Model_ID) AS Model_ID,Model_category \n",
    "from parquet.`abfss://silver@azurecarsalesdata7.dfs.core.windows.net/carsales`\n",
    "''')"
   ]
  },
  {
   "cell_type": "code",
   "execution_count": 0,
   "metadata": {
    "application/vnd.databricks.v1+cell": {
     "cellMetadata": {
      "byteLimit": 2048000,
      "rowLimit": 10000
     },
     "inputWidgets": {},
     "nuid": "3495653c-1eaa-4bbf-9bdb-0f901a963b8c",
     "showTitle": false,
     "tableResultSettingsMap": {},
     "title": ""
    }
   },
   "outputs": [
    {
     "output_type": "display_data",
     "data": {
      "text/html": [
       "<style scoped>\n",
       "  .table-result-container {\n",
       "    max-height: 300px;\n",
       "    overflow: auto;\n",
       "  }\n",
       "  table, th, td {\n",
       "    border: 1px solid black;\n",
       "    border-collapse: collapse;\n",
       "  }\n",
       "  th, td {\n",
       "    padding: 5px;\n",
       "  }\n",
       "  th {\n",
       "    text-align: left;\n",
       "  }\n",
       "</style><div class='table-result-container'><table class='table-result'><thead style='background-color: white'><tr><th>Model_ID</th><th>Model_category</th></tr></thead><tbody><tr><td>Hon-M220</td><td>Hon</td></tr><tr><td>Hon-M215</td><td>Hon</td></tr><tr><td>Vol-M110</td><td>Vol</td></tr><tr><td>Vol-M260</td><td>Vol</td></tr><tr><td>Bui-M31</td><td>Bui</td></tr><tr><td>BMW-M2</td><td>BMW</td></tr><tr><td>Acu-M60</td><td>Acu</td></tr><tr><td>Hyu-M157</td><td>Hyu</td></tr><tr><td>Ren-M130</td><td>Ren</td></tr><tr><td>Lin-M29</td><td>Lin</td></tr><tr><td>Tat-M179</td><td>Tat</td></tr><tr><td>Aud-M227</td><td>Aud</td></tr><tr><td>Aud-M234</td><td>Aud</td></tr><tr><td>Mar-M142</td><td>Mar</td></tr><tr><td>Kia-M212</td><td>Kia</td></tr><tr><td>Toy-M198</td><td>Toy</td></tr><tr><td>For-M20</td><td>For</td></tr><tr><td>Mah-M178</td><td>Mah</td></tr><tr><td>Hyu-M161</td><td>Hyu</td></tr><tr><td>Nis-M86</td><td>Nis</td></tr><tr><td>Hon-M217</td><td>Hon</td></tr><tr><td>BMW-M1</td><td>BMW</td></tr><tr><td>Vol-M256</td><td>Vol</td></tr><tr><td>Nis-M264</td><td>Nis</td></tr><tr><td>Hyu-M158</td><td>Hyu</td></tr><tr><td>Vol-M136</td><td>Vol</td></tr><tr><td>Toy-M100</td><td>Toy</td></tr><tr><td>Hyu-M74</td><td>Hyu</td></tr><tr><td>Aud-M240</td><td>Aud</td></tr><tr><td>Nis-M85</td><td>Nis</td></tr><tr><td>Nis-M269</td><td>Nis</td></tr><tr><td>BMW-M250</td><td>BMW</td></tr><tr><td>Toy-M203</td><td>Toy</td></tr><tr><td>Kia-M213</td><td>Kia</td></tr><tr><td>Che-M114</td><td>Che</td></tr><tr><td>Nis-M83</td><td>Nis</td></tr><tr><td>Fia-M118</td><td>Fia</td></tr><tr><td>For-M18</td><td>For</td></tr><tr><td>Toy-M104</td><td>Toy</td></tr><tr><td>Mer-M122</td><td>Mer</td></tr><tr><td>Cit-M116</td><td>Cit</td></tr><tr><td>Nis-M261</td><td>Nis</td></tr><tr><td>Mah-M173</td><td>Mah</td></tr><tr><td>Mer-M121</td><td>Mer</td></tr><tr><td>BMW-M243</td><td>BMW</td></tr><tr><td>Nis-M87</td><td>Nis</td></tr><tr><td>Toy-M206</td><td>Toy</td></tr><tr><td>Hon-M64</td><td>Hon</td></tr><tr><td>Vol-M258</td><td>Vol</td></tr><tr><td>For-M19</td><td>For</td></tr><tr><td>Hon-M219</td><td>Hon</td></tr><tr><td>GMC-M55</td><td>GMC</td></tr><tr><td>Inf-M79</td><td>Inf</td></tr><tr><td>Jee-M253</td><td>Jee</td></tr><tr><td>Hon-M70</td><td>Hon</td></tr><tr><td>GMC-M54</td><td>GMC</td></tr><tr><td>Jee-M12</td><td>Jee</td></tr><tr><td>Hon-M71</td><td>Hon</td></tr><tr><td>Mar-M137</td><td>Mar</td></tr><tr><td>Nis-M81</td><td>Nis</td></tr><tr><td>Aud-M232</td><td>Aud</td></tr><tr><td>Hyu-M75</td><td>Hyu</td></tr><tr><td>Acu-M61</td><td>Acu</td></tr><tr><td>For-M226</td><td>For</td></tr><tr><td>Cit-M115</td><td>Cit</td></tr><tr><td>BMW-M244</td><td>BMW</td></tr><tr><td>Hon-M216</td><td>Hon</td></tr><tr><td>Toy-M106</td><td>Toy</td></tr><tr><td>Ren-M132</td><td>Ren</td></tr><tr><td>Tat-M191</td><td>Tat</td></tr><tr><td>For-M21</td><td>For</td></tr><tr><td>Acu-M63</td><td>Acu</td></tr><tr><td>Acu-M59</td><td>Acu</td></tr><tr><td>Ram-M15</td><td>Ram</td></tr><tr><td>Nis-M88</td><td>Nis</td></tr><tr><td>BMW-M242</td><td>BMW</td></tr><tr><td>GMC-M52</td><td>GMC</td></tr><tr><td>Mar-M146</td><td>Mar</td></tr><tr><td>Aud-M239</td><td>Aud</td></tr><tr><td>Jee-M10</td><td>Jee</td></tr><tr><td>Aud-M233</td><td>Aud</td></tr><tr><td>Sko-M271</td><td>Sko</td></tr><tr><td>BMW-M245</td><td>BMW</td></tr><tr><td>Aud-M241</td><td>Aud</td></tr><tr><td>Vol-M259</td><td>Vol</td></tr><tr><td>Ram-M14</td><td>Ram</td></tr><tr><td>Nis-M262</td><td>Nis</td></tr><tr><td>Tat-M194</td><td>Tat</td></tr><tr><td>Aud-M238</td><td>Aud</td></tr><tr><td>MG-M251</td><td>MG</td></tr><tr><td>Jee-M254</td><td>Jee</td></tr><tr><td>Riv-M91</td><td>Riv</td></tr><tr><td>Che-M49</td><td>Che</td></tr><tr><td>Toy-M105</td><td>Toy</td></tr><tr><td>Hyu-M159</td><td>Hyu</td></tr><tr><td>Vol-M255</td><td>Vol</td></tr><tr><td>Tat-M188</td><td>Tat</td></tr><tr><td>BMW-M4</td><td>BMW</td></tr><tr><td>Toy-M200</td><td>Toy</td></tr><tr><td>Toy-M103</td><td>Toy</td></tr><tr><td>BMW-M247</td><td>BMW</td></tr><tr><td>Mah-M176</td><td>Mah</td></tr><tr><td>For-M221</td><td>For</td></tr><tr><td>Nis-M266</td><td>Nis</td></tr><tr><td>For-M17</td><td>For</td></tr><tr><td>Hyu-M154</td><td>Hyu</td></tr><tr><td>Mer-M7</td><td>Mer</td></tr><tr><td>Tes-M96</td><td>Tes</td></tr><tr><td>Lin-M30</td><td>Lin</td></tr><tr><td>Hon-M218</td><td>Hon</td></tr><tr><td>Vol-M108</td><td>Vol</td></tr><tr><td>Mah-M165</td><td>Mah</td></tr><tr><td>Hon-M66</td><td>Hon</td></tr><tr><td>Toy-M202</td><td>Toy</td></tr><tr><td>Cad-M36</td><td>Cad</td></tr><tr><td>Sub-M95</td><td>Sub</td></tr><tr><td>Tat-M181</td><td>Tat</td></tr><tr><td>Cad-M32</td><td>Cad</td></tr><tr><td>Hyu-M73</td><td>Hyu</td></tr><tr><td>Nis-M267</td><td>Nis</td></tr><tr><td>GMC-M53</td><td>GMC</td></tr><tr><td>Che-M40</td><td>Che</td></tr><tr><td>Che-M50</td><td>Che</td></tr><tr><td>Mar-M152</td><td>Mar</td></tr><tr><td>Cad-M38</td><td>Cad</td></tr><tr><td>Che-M41</td><td>Che</td></tr><tr><td>Vol-M257</td><td>Vol</td></tr><tr><td>For-M225</td><td>For</td></tr><tr><td>For-M223</td><td>For</td></tr><tr><td>Ren-M131</td><td>Ren</td></tr><tr><td>Che-M43</td><td>Che</td></tr><tr><td>Mah-M166</td><td>Mah</td></tr><tr><td>Mar-M151</td><td>Mar</td></tr><tr><td>Sub-M93</td><td>Sub</td></tr><tr><td>GMC-M57</td><td>GMC</td></tr><tr><td>Agr-M112</td><td>Agr</td></tr><tr><td>Mar-M138</td><td>Mar</td></tr><tr><td>Mar-M149</td><td>Mar</td></tr><tr><td>Che-M47</td><td>Che</td></tr><tr><td>Toy-M204</td><td>Toy</td></tr><tr><td>Cad-M39</td><td>Cad</td></tr><tr><td>Cad-M33</td><td>Cad</td></tr><tr><td>Hyu-M160</td><td>Hyu</td></tr><tr><td>Mah-M171</td><td>Mah</td></tr><tr><td>Tat-M184</td><td>Tat</td></tr><tr><td>Agr-M111</td><td>Agr</td></tr><tr><td>Lin-M27</td><td>Lin</td></tr><tr><td>Ren-M211</td><td>Ren</td></tr><tr><td>Nis-M265</td><td>Nis</td></tr><tr><td>Tat-M193</td><td>Tat</td></tr><tr><td>Che-M44</td><td>Che</td></tr><tr><td>Aud-M231</td><td>Aud</td></tr><tr><td>Ren-M208</td><td>Ren</td></tr><tr><td>MG-M252</td><td>MG</td></tr><tr><td>Tat-M182</td><td>Tat</td></tr><tr><td>GMC-M56</td><td>GMC</td></tr><tr><td>Mar-M141</td><td>Mar</td></tr><tr><td>Hyu-M164</td><td>Hyu</td></tr><tr><td>Peu-M125</td><td>Peu</td></tr><tr><td>Nis-M263</td><td>Nis</td></tr><tr><td>Hyu-M72</td><td>Hyu</td></tr><tr><td>Mit-M277</td><td>Mit</td></tr><tr><td>Toy-M101</td><td>Toy</td></tr><tr><td>For-M22</td><td>For</td></tr><tr><td>BMW-M248</td><td>BMW</td></tr><tr><td>Nis-M84</td><td>Nis</td></tr><tr><td>Mar-M150</td><td>Mar</td></tr><tr><td>Mar-M143</td><td>Mar</td></tr><tr><td>BMW-M246</td><td>BMW</td></tr><tr><td>Cad-M37</td><td>Cad</td></tr><tr><td>Nis-M268</td><td>Nis</td></tr><tr><td>Kia-M76</td><td>Kia</td></tr><tr><td>Aud-M228</td><td>Aud</td></tr><tr><td>Peu-M126</td><td>Peu</td></tr><tr><td>Tes-M97</td><td>Tes</td></tr><tr><td>Mah-M175</td><td>Mah</td></tr><tr><td>Hyu-M156</td><td>Hyu</td></tr><tr><td>Lin-M28</td><td>Lin</td></tr><tr><td>Toy-M107</td><td>Toy</td></tr><tr><td>Sub-M92</td><td>Sub</td></tr><tr><td>Che-M48</td><td>Che</td></tr><tr><td>For-M26</td><td>For</td></tr><tr><td>Vol-M135</td><td>Vol</td></tr><tr><td>Tat-M187</td><td>Tat</td></tr><tr><td>Hon-M120</td><td>Hon</td></tr><tr><td>Hyu-M163</td><td>Hyu</td></tr><tr><td>Mah-M177</td><td>Mah</td></tr><tr><td>Tat-M192</td><td>Tat</td></tr><tr><td>Kia-M77</td><td>Kia</td></tr><tr><td>Toy-M196</td><td>Toy</td></tr><tr><td>GMC-M58</td><td>GMC</td></tr><tr><td>Mah-M167</td><td>Mah</td></tr><tr><td>BMW-M5</td><td>BMW</td></tr><tr><td>BMW-M249</td><td>BMW</td></tr><tr><td>Mah-M172</td><td>Mah</td></tr><tr><td>Sub-M94</td><td>Sub</td></tr><tr><td>Tat-M180</td><td>Tat</td></tr><tr><td>For-M25</td><td>For</td></tr><tr><td>Che-M42</td><td>Che</td></tr><tr><td>Mer-M123</td><td>Mer</td></tr><tr><td>Peu-M124</td><td>Peu</td></tr><tr><td>Dod-M9</td><td>Dod</td></tr><tr><td>Mar-M140</td><td>Mar</td></tr><tr><td>For-M119</td><td>For</td></tr><tr><td>Tes-M98</td><td>Tes</td></tr><tr><td>Toy-M205</td><td>Toy</td></tr><tr><td>Ren-M129</td><td>Ren</td></tr><tr><td>Aud-M237</td><td>Aud</td></tr><tr><td>Toy-M133</td><td>Toy</td></tr><tr><td>Nis-M82</td><td>Nis</td></tr><tr><td>Tat-M183</td><td>Tat</td></tr><tr><td>Che-M51</td><td>Che</td></tr><tr><td>Jee-M11</td><td>Jee</td></tr><tr><td>Ren-M128</td><td>Ren</td></tr><tr><td>Cad-M34</td><td>Cad</td></tr><tr><td>Che-M46</td><td>Che</td></tr><tr><td>Ren-M127</td><td>Ren</td></tr><tr><td>Agr-M113</td><td>Agr</td></tr><tr><td>Toy-M199</td><td>Toy</td></tr><tr><td>Mar-M145</td><td>Mar</td></tr><tr><td>Sko-M273</td><td>Sko</td></tr><tr><td>Nis-M270</td><td>Nis</td></tr><tr><td>Aud-M235</td><td>Aud</td></tr><tr><td>Cad-M35</td><td>Cad</td></tr><tr><td>Mer-M8</td><td>Mer</td></tr><tr><td>For-M23</td><td>For</td></tr><tr><td>Aud-M236</td><td>Aud</td></tr><tr><td>Lex-M99</td><td>Lex</td></tr><tr><td>Ren-M209</td><td>Ren</td></tr><tr><td>Kia-M78</td><td>Kia</td></tr><tr><td>BMW-M3</td><td>BMW</td></tr><tr><td>Mah-M169</td><td>Mah</td></tr><tr><td>For-M16</td><td>For</td></tr><tr><td>Nis-M80</td><td>Nis</td></tr><tr><td>Toy-M201</td><td>Toy</td></tr><tr><td>Che-M45</td><td>Che</td></tr><tr><td>Mit-M275</td><td>Mit</td></tr><tr><td>Toy-M197</td><td>Toy</td></tr><tr><td>Tat-M190</td><td>Tat</td></tr><tr><td>Hon-M65</td><td>Hon</td></tr><tr><td>Toy-M102</td><td>Toy</td></tr><tr><td>Hon-M67</td><td>Hon</td></tr><tr><td>Sko-M274</td><td>Sko</td></tr><tr><td>Mah-M168</td><td>Mah</td></tr><tr><td>Mer-M6</td><td>Mer</td></tr><tr><td>Ren-M207</td><td>Ren</td></tr><tr><td>Hon-M68</td><td>Hon</td></tr><tr><td>Hon-M69</td><td>Hon</td></tr><tr><td>Mar-M144</td><td>Mar</td></tr><tr><td>Kia-M214</td><td>Kia</td></tr><tr><td>Sko-M272</td><td>Sko</td></tr><tr><td>Mit-M276</td><td>Mit</td></tr><tr><td>Mar-M148</td><td>Mar</td></tr><tr><td>For-M24</td><td>For</td></tr><tr><td>Mah-M170</td><td>Mah</td></tr><tr><td>Acu-M62</td><td>Acu</td></tr><tr><td>Hyu-M162</td><td>Hyu</td></tr><tr><td>Hyu-M155</td><td>Hyu</td></tr><tr><td>Ren-M210</td><td>Ren</td></tr><tr><td>Aud-M229</td><td>Aud</td></tr><tr><td>Tat-M185</td><td>Tat</td></tr><tr><td>Vol-M109</td><td>Vol</td></tr><tr><td>Mar-M147</td><td>Mar</td></tr><tr><td>Hyu-M153</td><td>Hyu</td></tr><tr><td>For-M224</td><td>For</td></tr><tr><td>Nis-M89</td><td>Nis</td></tr><tr><td>Riv-M90</td><td>Riv</td></tr><tr><td>Mar-M139</td><td>Mar</td></tr><tr><td>Jee-M13</td><td>Jee</td></tr><tr><td>Tat-M189</td><td>Tat</td></tr><tr><td>Toy-M134</td><td>Toy</td></tr><tr><td>Mah-M174</td><td>Mah</td></tr><tr><td>Aud-M230</td><td>Aud</td></tr><tr><td>Toy-M195</td><td>Toy</td></tr><tr><td>Fia-M117</td><td>Fia</td></tr><tr><td>For-M222</td><td>For</td></tr><tr><td>Tat-M186</td><td>Tat</td></tr></tbody></table></div>"
      ]
     },
     "metadata": {
      "application/vnd.databricks.v1+output": {
       "addedWidgets": {},
       "aggData": [],
       "aggError": "",
       "aggOverflow": false,
       "aggSchema": [],
       "aggSeriesLimitReached": false,
       "aggType": "",
       "arguments": {},
       "columnCustomDisplayInfos": {},
       "data": [
        [
         "Hon-M220",
         "Hon"
        ],
        [
         "Hon-M215",
         "Hon"
        ],
        [
         "Vol-M110",
         "Vol"
        ],
        [
         "Vol-M260",
         "Vol"
        ],
        [
         "Bui-M31",
         "Bui"
        ],
        [
         "BMW-M2",
         "BMW"
        ],
        [
         "Acu-M60",
         "Acu"
        ],
        [
         "Hyu-M157",
         "Hyu"
        ],
        [
         "Ren-M130",
         "Ren"
        ],
        [
         "Lin-M29",
         "Lin"
        ],
        [
         "Tat-M179",
         "Tat"
        ],
        [
         "Aud-M227",
         "Aud"
        ],
        [
         "Aud-M234",
         "Aud"
        ],
        [
         "Mar-M142",
         "Mar"
        ],
        [
         "Kia-M212",
         "Kia"
        ],
        [
         "Toy-M198",
         "Toy"
        ],
        [
         "For-M20",
         "For"
        ],
        [
         "Mah-M178",
         "Mah"
        ],
        [
         "Hyu-M161",
         "Hyu"
        ],
        [
         "Nis-M86",
         "Nis"
        ],
        [
         "Hon-M217",
         "Hon"
        ],
        [
         "BMW-M1",
         "BMW"
        ],
        [
         "Vol-M256",
         "Vol"
        ],
        [
         "Nis-M264",
         "Nis"
        ],
        [
         "Hyu-M158",
         "Hyu"
        ],
        [
         "Vol-M136",
         "Vol"
        ],
        [
         "Toy-M100",
         "Toy"
        ],
        [
         "Hyu-M74",
         "Hyu"
        ],
        [
         "Aud-M240",
         "Aud"
        ],
        [
         "Nis-M85",
         "Nis"
        ],
        [
         "Nis-M269",
         "Nis"
        ],
        [
         "BMW-M250",
         "BMW"
        ],
        [
         "Toy-M203",
         "Toy"
        ],
        [
         "Kia-M213",
         "Kia"
        ],
        [
         "Che-M114",
         "Che"
        ],
        [
         "Nis-M83",
         "Nis"
        ],
        [
         "Fia-M118",
         "Fia"
        ],
        [
         "For-M18",
         "For"
        ],
        [
         "Toy-M104",
         "Toy"
        ],
        [
         "Mer-M122",
         "Mer"
        ],
        [
         "Cit-M116",
         "Cit"
        ],
        [
         "Nis-M261",
         "Nis"
        ],
        [
         "Mah-M173",
         "Mah"
        ],
        [
         "Mer-M121",
         "Mer"
        ],
        [
         "BMW-M243",
         "BMW"
        ],
        [
         "Nis-M87",
         "Nis"
        ],
        [
         "Toy-M206",
         "Toy"
        ],
        [
         "Hon-M64",
         "Hon"
        ],
        [
         "Vol-M258",
         "Vol"
        ],
        [
         "For-M19",
         "For"
        ],
        [
         "Hon-M219",
         "Hon"
        ],
        [
         "GMC-M55",
         "GMC"
        ],
        [
         "Inf-M79",
         "Inf"
        ],
        [
         "Jee-M253",
         "Jee"
        ],
        [
         "Hon-M70",
         "Hon"
        ],
        [
         "GMC-M54",
         "GMC"
        ],
        [
         "Jee-M12",
         "Jee"
        ],
        [
         "Hon-M71",
         "Hon"
        ],
        [
         "Mar-M137",
         "Mar"
        ],
        [
         "Nis-M81",
         "Nis"
        ],
        [
         "Aud-M232",
         "Aud"
        ],
        [
         "Hyu-M75",
         "Hyu"
        ],
        [
         "Acu-M61",
         "Acu"
        ],
        [
         "For-M226",
         "For"
        ],
        [
         "Cit-M115",
         "Cit"
        ],
        [
         "BMW-M244",
         "BMW"
        ],
        [
         "Hon-M216",
         "Hon"
        ],
        [
         "Toy-M106",
         "Toy"
        ],
        [
         "Ren-M132",
         "Ren"
        ],
        [
         "Tat-M191",
         "Tat"
        ],
        [
         "For-M21",
         "For"
        ],
        [
         "Acu-M63",
         "Acu"
        ],
        [
         "Acu-M59",
         "Acu"
        ],
        [
         "Ram-M15",
         "Ram"
        ],
        [
         "Nis-M88",
         "Nis"
        ],
        [
         "BMW-M242",
         "BMW"
        ],
        [
         "GMC-M52",
         "GMC"
        ],
        [
         "Mar-M146",
         "Mar"
        ],
        [
         "Aud-M239",
         "Aud"
        ],
        [
         "Jee-M10",
         "Jee"
        ],
        [
         "Aud-M233",
         "Aud"
        ],
        [
         "Sko-M271",
         "Sko"
        ],
        [
         "BMW-M245",
         "BMW"
        ],
        [
         "Aud-M241",
         "Aud"
        ],
        [
         "Vol-M259",
         "Vol"
        ],
        [
         "Ram-M14",
         "Ram"
        ],
        [
         "Nis-M262",
         "Nis"
        ],
        [
         "Tat-M194",
         "Tat"
        ],
        [
         "Aud-M238",
         "Aud"
        ],
        [
         "MG-M251",
         "MG"
        ],
        [
         "Jee-M254",
         "Jee"
        ],
        [
         "Riv-M91",
         "Riv"
        ],
        [
         "Che-M49",
         "Che"
        ],
        [
         "Toy-M105",
         "Toy"
        ],
        [
         "Hyu-M159",
         "Hyu"
        ],
        [
         "Vol-M255",
         "Vol"
        ],
        [
         "Tat-M188",
         "Tat"
        ],
        [
         "BMW-M4",
         "BMW"
        ],
        [
         "Toy-M200",
         "Toy"
        ],
        [
         "Toy-M103",
         "Toy"
        ],
        [
         "BMW-M247",
         "BMW"
        ],
        [
         "Mah-M176",
         "Mah"
        ],
        [
         "For-M221",
         "For"
        ],
        [
         "Nis-M266",
         "Nis"
        ],
        [
         "For-M17",
         "For"
        ],
        [
         "Hyu-M154",
         "Hyu"
        ],
        [
         "Mer-M7",
         "Mer"
        ],
        [
         "Tes-M96",
         "Tes"
        ],
        [
         "Lin-M30",
         "Lin"
        ],
        [
         "Hon-M218",
         "Hon"
        ],
        [
         "Vol-M108",
         "Vol"
        ],
        [
         "Mah-M165",
         "Mah"
        ],
        [
         "Hon-M66",
         "Hon"
        ],
        [
         "Toy-M202",
         "Toy"
        ],
        [
         "Cad-M36",
         "Cad"
        ],
        [
         "Sub-M95",
         "Sub"
        ],
        [
         "Tat-M181",
         "Tat"
        ],
        [
         "Cad-M32",
         "Cad"
        ],
        [
         "Hyu-M73",
         "Hyu"
        ],
        [
         "Nis-M267",
         "Nis"
        ],
        [
         "GMC-M53",
         "GMC"
        ],
        [
         "Che-M40",
         "Che"
        ],
        [
         "Che-M50",
         "Che"
        ],
        [
         "Mar-M152",
         "Mar"
        ],
        [
         "Cad-M38",
         "Cad"
        ],
        [
         "Che-M41",
         "Che"
        ],
        [
         "Vol-M257",
         "Vol"
        ],
        [
         "For-M225",
         "For"
        ],
        [
         "For-M223",
         "For"
        ],
        [
         "Ren-M131",
         "Ren"
        ],
        [
         "Che-M43",
         "Che"
        ],
        [
         "Mah-M166",
         "Mah"
        ],
        [
         "Mar-M151",
         "Mar"
        ],
        [
         "Sub-M93",
         "Sub"
        ],
        [
         "GMC-M57",
         "GMC"
        ],
        [
         "Agr-M112",
         "Agr"
        ],
        [
         "Mar-M138",
         "Mar"
        ],
        [
         "Mar-M149",
         "Mar"
        ],
        [
         "Che-M47",
         "Che"
        ],
        [
         "Toy-M204",
         "Toy"
        ],
        [
         "Cad-M39",
         "Cad"
        ],
        [
         "Cad-M33",
         "Cad"
        ],
        [
         "Hyu-M160",
         "Hyu"
        ],
        [
         "Mah-M171",
         "Mah"
        ],
        [
         "Tat-M184",
         "Tat"
        ],
        [
         "Agr-M111",
         "Agr"
        ],
        [
         "Lin-M27",
         "Lin"
        ],
        [
         "Ren-M211",
         "Ren"
        ],
        [
         "Nis-M265",
         "Nis"
        ],
        [
         "Tat-M193",
         "Tat"
        ],
        [
         "Che-M44",
         "Che"
        ],
        [
         "Aud-M231",
         "Aud"
        ],
        [
         "Ren-M208",
         "Ren"
        ],
        [
         "MG-M252",
         "MG"
        ],
        [
         "Tat-M182",
         "Tat"
        ],
        [
         "GMC-M56",
         "GMC"
        ],
        [
         "Mar-M141",
         "Mar"
        ],
        [
         "Hyu-M164",
         "Hyu"
        ],
        [
         "Peu-M125",
         "Peu"
        ],
        [
         "Nis-M263",
         "Nis"
        ],
        [
         "Hyu-M72",
         "Hyu"
        ],
        [
         "Mit-M277",
         "Mit"
        ],
        [
         "Toy-M101",
         "Toy"
        ],
        [
         "For-M22",
         "For"
        ],
        [
         "BMW-M248",
         "BMW"
        ],
        [
         "Nis-M84",
         "Nis"
        ],
        [
         "Mar-M150",
         "Mar"
        ],
        [
         "Mar-M143",
         "Mar"
        ],
        [
         "BMW-M246",
         "BMW"
        ],
        [
         "Cad-M37",
         "Cad"
        ],
        [
         "Nis-M268",
         "Nis"
        ],
        [
         "Kia-M76",
         "Kia"
        ],
        [
         "Aud-M228",
         "Aud"
        ],
        [
         "Peu-M126",
         "Peu"
        ],
        [
         "Tes-M97",
         "Tes"
        ],
        [
         "Mah-M175",
         "Mah"
        ],
        [
         "Hyu-M156",
         "Hyu"
        ],
        [
         "Lin-M28",
         "Lin"
        ],
        [
         "Toy-M107",
         "Toy"
        ],
        [
         "Sub-M92",
         "Sub"
        ],
        [
         "Che-M48",
         "Che"
        ],
        [
         "For-M26",
         "For"
        ],
        [
         "Vol-M135",
         "Vol"
        ],
        [
         "Tat-M187",
         "Tat"
        ],
        [
         "Hon-M120",
         "Hon"
        ],
        [
         "Hyu-M163",
         "Hyu"
        ],
        [
         "Mah-M177",
         "Mah"
        ],
        [
         "Tat-M192",
         "Tat"
        ],
        [
         "Kia-M77",
         "Kia"
        ],
        [
         "Toy-M196",
         "Toy"
        ],
        [
         "GMC-M58",
         "GMC"
        ],
        [
         "Mah-M167",
         "Mah"
        ],
        [
         "BMW-M5",
         "BMW"
        ],
        [
         "BMW-M249",
         "BMW"
        ],
        [
         "Mah-M172",
         "Mah"
        ],
        [
         "Sub-M94",
         "Sub"
        ],
        [
         "Tat-M180",
         "Tat"
        ],
        [
         "For-M25",
         "For"
        ],
        [
         "Che-M42",
         "Che"
        ],
        [
         "Mer-M123",
         "Mer"
        ],
        [
         "Peu-M124",
         "Peu"
        ],
        [
         "Dod-M9",
         "Dod"
        ],
        [
         "Mar-M140",
         "Mar"
        ],
        [
         "For-M119",
         "For"
        ],
        [
         "Tes-M98",
         "Tes"
        ],
        [
         "Toy-M205",
         "Toy"
        ],
        [
         "Ren-M129",
         "Ren"
        ],
        [
         "Aud-M237",
         "Aud"
        ],
        [
         "Toy-M133",
         "Toy"
        ],
        [
         "Nis-M82",
         "Nis"
        ],
        [
         "Tat-M183",
         "Tat"
        ],
        [
         "Che-M51",
         "Che"
        ],
        [
         "Jee-M11",
         "Jee"
        ],
        [
         "Ren-M128",
         "Ren"
        ],
        [
         "Cad-M34",
         "Cad"
        ],
        [
         "Che-M46",
         "Che"
        ],
        [
         "Ren-M127",
         "Ren"
        ],
        [
         "Agr-M113",
         "Agr"
        ],
        [
         "Toy-M199",
         "Toy"
        ],
        [
         "Mar-M145",
         "Mar"
        ],
        [
         "Sko-M273",
         "Sko"
        ],
        [
         "Nis-M270",
         "Nis"
        ],
        [
         "Aud-M235",
         "Aud"
        ],
        [
         "Cad-M35",
         "Cad"
        ],
        [
         "Mer-M8",
         "Mer"
        ],
        [
         "For-M23",
         "For"
        ],
        [
         "Aud-M236",
         "Aud"
        ],
        [
         "Lex-M99",
         "Lex"
        ],
        [
         "Ren-M209",
         "Ren"
        ],
        [
         "Kia-M78",
         "Kia"
        ],
        [
         "BMW-M3",
         "BMW"
        ],
        [
         "Mah-M169",
         "Mah"
        ],
        [
         "For-M16",
         "For"
        ],
        [
         "Nis-M80",
         "Nis"
        ],
        [
         "Toy-M201",
         "Toy"
        ],
        [
         "Che-M45",
         "Che"
        ],
        [
         "Mit-M275",
         "Mit"
        ],
        [
         "Toy-M197",
         "Toy"
        ],
        [
         "Tat-M190",
         "Tat"
        ],
        [
         "Hon-M65",
         "Hon"
        ],
        [
         "Toy-M102",
         "Toy"
        ],
        [
         "Hon-M67",
         "Hon"
        ],
        [
         "Sko-M274",
         "Sko"
        ],
        [
         "Mah-M168",
         "Mah"
        ],
        [
         "Mer-M6",
         "Mer"
        ],
        [
         "Ren-M207",
         "Ren"
        ],
        [
         "Hon-M68",
         "Hon"
        ],
        [
         "Hon-M69",
         "Hon"
        ],
        [
         "Mar-M144",
         "Mar"
        ],
        [
         "Kia-M214",
         "Kia"
        ],
        [
         "Sko-M272",
         "Sko"
        ],
        [
         "Mit-M276",
         "Mit"
        ],
        [
         "Mar-M148",
         "Mar"
        ],
        [
         "For-M24",
         "For"
        ],
        [
         "Mah-M170",
         "Mah"
        ],
        [
         "Acu-M62",
         "Acu"
        ],
        [
         "Hyu-M162",
         "Hyu"
        ],
        [
         "Hyu-M155",
         "Hyu"
        ],
        [
         "Ren-M210",
         "Ren"
        ],
        [
         "Aud-M229",
         "Aud"
        ],
        [
         "Tat-M185",
         "Tat"
        ],
        [
         "Vol-M109",
         "Vol"
        ],
        [
         "Mar-M147",
         "Mar"
        ],
        [
         "Hyu-M153",
         "Hyu"
        ],
        [
         "For-M224",
         "For"
        ],
        [
         "Nis-M89",
         "Nis"
        ],
        [
         "Riv-M90",
         "Riv"
        ],
        [
         "Mar-M139",
         "Mar"
        ],
        [
         "Jee-M13",
         "Jee"
        ],
        [
         "Tat-M189",
         "Tat"
        ],
        [
         "Toy-M134",
         "Toy"
        ],
        [
         "Mah-M174",
         "Mah"
        ],
        [
         "Aud-M230",
         "Aud"
        ],
        [
         "Toy-M195",
         "Toy"
        ],
        [
         "Fia-M117",
         "Fia"
        ],
        [
         "For-M222",
         "For"
        ],
        [
         "Tat-M186",
         "Tat"
        ]
       ],
       "datasetInfos": [],
       "dbfsResultPath": null,
       "isJsonSchema": true,
       "metadata": {},
       "overflow": false,
       "plotOptions": {
        "customPlotOptions": {},
        "displayType": "table",
        "pivotAggregation": null,
        "pivotColumns": null,
        "xColumns": null,
        "yColumns": null
       },
       "removedWidgets": [],
       "schema": [
        {
         "metadata": "{}",
         "name": "Model_ID",
         "type": "\"string\""
        },
        {
         "metadata": "{}",
         "name": "Model_category",
         "type": "\"string\""
        }
       ],
       "type": "table"
      }
     },
     "output_type": "display_data"
    }
   ],
   "source": [
    "display(df_source)"
   ]
  },
  {
   "cell_type": "markdown",
   "metadata": {
    "application/vnd.databricks.v1+cell": {
     "cellMetadata": {},
     "inputWidgets": {},
     "nuid": "81507b3b-b170-494c-b47a-3dde59f3f099",
     "showTitle": false,
     "tableResultSettingsMap": {},
     "title": ""
    }
   },
   "source": [
    "dim_model sink -Initial and incremental"
   ]
  },
  {
   "cell_type": "code",
   "execution_count": 0,
   "metadata": {
    "application/vnd.databricks.v1+cell": {
     "cellMetadata": {
      "byteLimit": 2048000,
      "rowLimit": 10000
     },
     "inputWidgets": {},
     "nuid": "14d21631-34d4-4a3e-832c-6bbc7626ca48",
     "showTitle": false,
     "tableResultSettingsMap": {},
     "title": ""
    }
   },
   "outputs": [],
   "source": [
    "if spark.catalog.tableExists('cars_sales_catalog.silver.dim_model'):\n",
    "    df_sink=spark.sql('''\n",
    "    select dim_model_key,Model_ID,Model_category\n",
    "    from cars_sales_catalog.silver.dim_model\n",
    "    ''')\n",
    "\n",
    "\n",
    "else:\n",
    "   df_sink=spark.sql('''\n",
    "   select 1 as  dim_model_key,Model_ID,Model_category\n",
    "   from parquet.`abfss://silver@azurecarsalesdata7.dfs.core.windows.net/carsales`\n",
    "   where 1=0''')\n",
    "\n"
   ]
  },
  {
   "cell_type": "code",
   "execution_count": 0,
   "metadata": {
    "application/vnd.databricks.v1+cell": {
     "cellMetadata": {
      "byteLimit": 2048000,
      "rowLimit": 10000
     },
     "inputWidgets": {},
     "nuid": "bc99607a-ac56-46f9-8c1e-187c95c37d3e",
     "showTitle": false,
     "tableResultSettingsMap": {},
     "title": ""
    }
   },
   "outputs": [
    {
     "output_type": "display_data",
     "data": {
      "text/html": [
       "<style scoped>\n",
       "  .table-result-container {\n",
       "    max-height: 300px;\n",
       "    overflow: auto;\n",
       "  }\n",
       "  table, th, td {\n",
       "    border: 1px solid black;\n",
       "    border-collapse: collapse;\n",
       "  }\n",
       "  th, td {\n",
       "    padding: 5px;\n",
       "  }\n",
       "  th {\n",
       "    text-align: left;\n",
       "  }\n",
       "</style><div class='table-result-container'><table class='table-result'><thead style='background-color: white'><tr><th>dim_model_key</th><th>Model_ID</th><th>Model_category</th></tr></thead><tbody></tbody></table></div>"
      ]
     },
     "metadata": {
      "application/vnd.databricks.v1+output": {
       "addedWidgets": {},
       "aggData": [],
       "aggError": "",
       "aggOverflow": false,
       "aggSchema": [],
       "aggSeriesLimitReached": false,
       "aggType": "",
       "arguments": {},
       "columnCustomDisplayInfos": {},
       "data": [],
       "datasetInfos": [],
       "dbfsResultPath": null,
       "isJsonSchema": true,
       "metadata": {},
       "overflow": false,
       "plotOptions": {
        "customPlotOptions": {},
        "displayType": "table",
        "pivotAggregation": null,
        "pivotColumns": null,
        "xColumns": null,
        "yColumns": null
       },
       "removedWidgets": [],
       "schema": [
        {
         "metadata": "{}",
         "name": "dim_model_key",
         "type": "\"integer\""
        },
        {
         "metadata": "{}",
         "name": "Model_ID",
         "type": "\"string\""
        },
        {
         "metadata": "{}",
         "name": "Model_category",
         "type": "\"string\""
        }
       ],
       "type": "table"
      }
     },
     "output_type": "display_data"
    }
   ],
   "source": [
    "display(df_sink)"
   ]
  },
  {
   "cell_type": "markdown",
   "metadata": {
    "application/vnd.databricks.v1+cell": {
     "cellMetadata": {},
     "inputWidgets": {},
     "nuid": "778a0012-50b0-4a35-8f7f-af38bb76b4a8",
     "showTitle": false,
     "tableResultSettingsMap": {},
     "title": ""
    }
   },
   "source": [
    "#existing records\n"
   ]
  },
  {
   "cell_type": "code",
   "execution_count": 0,
   "metadata": {
    "application/vnd.databricks.v1+cell": {
     "cellMetadata": {
      "byteLimit": 2048000,
      "rowLimit": 10000
     },
     "inputWidgets": {},
     "nuid": "8546b5af-9436-4ba4-9fc9-83e2c2592a6e",
     "showTitle": false,
     "tableResultSettingsMap": {},
     "title": ""
    }
   },
   "outputs": [],
   "source": [
    "df_filter = df_source.join(df_sink,df_source['Model_ID']==df_sink['Model_ID'],'left').select(df_source['Model_ID'],df_source['Model_category'],df_sink['dim_model_key'])"
   ]
  },
  {
   "cell_type": "code",
   "execution_count": 0,
   "metadata": {
    "application/vnd.databricks.v1+cell": {
     "cellMetadata": {
      "byteLimit": 2048000,
      "rowLimit": 10000
     },
     "inputWidgets": {},
     "nuid": "76982196-e5a0-4291-94a0-f9d5f6c7b266",
     "showTitle": false,
     "tableResultSettingsMap": {},
     "title": ""
    }
   },
   "outputs": [
    {
     "output_type": "display_data",
     "data": {
      "text/html": [
       "<style scoped>\n",
       "  .table-result-container {\n",
       "    max-height: 300px;\n",
       "    overflow: auto;\n",
       "  }\n",
       "  table, th, td {\n",
       "    border: 1px solid black;\n",
       "    border-collapse: collapse;\n",
       "  }\n",
       "  th, td {\n",
       "    padding: 5px;\n",
       "  }\n",
       "  th {\n",
       "    text-align: left;\n",
       "  }\n",
       "</style><div class='table-result-container'><table class='table-result'><thead style='background-color: white'><tr><th>Model_ID</th><th>Model_category</th><th>dim_model_key</th></tr></thead><tbody><tr><td>Hon-M220</td><td>Hon</td><td>null</td></tr><tr><td>Hon-M215</td><td>Hon</td><td>null</td></tr><tr><td>Vol-M110</td><td>Vol</td><td>null</td></tr><tr><td>Vol-M260</td><td>Vol</td><td>null</td></tr><tr><td>Bui-M31</td><td>Bui</td><td>null</td></tr><tr><td>BMW-M2</td><td>BMW</td><td>null</td></tr><tr><td>Acu-M60</td><td>Acu</td><td>null</td></tr><tr><td>Hyu-M157</td><td>Hyu</td><td>null</td></tr><tr><td>Ren-M130</td><td>Ren</td><td>null</td></tr><tr><td>Lin-M29</td><td>Lin</td><td>null</td></tr><tr><td>Tat-M179</td><td>Tat</td><td>null</td></tr><tr><td>Aud-M227</td><td>Aud</td><td>null</td></tr><tr><td>Aud-M234</td><td>Aud</td><td>null</td></tr><tr><td>Mar-M142</td><td>Mar</td><td>null</td></tr><tr><td>Kia-M212</td><td>Kia</td><td>null</td></tr><tr><td>Toy-M198</td><td>Toy</td><td>null</td></tr><tr><td>For-M20</td><td>For</td><td>null</td></tr><tr><td>Mah-M178</td><td>Mah</td><td>null</td></tr><tr><td>Hyu-M161</td><td>Hyu</td><td>null</td></tr><tr><td>Nis-M86</td><td>Nis</td><td>null</td></tr><tr><td>Hon-M217</td><td>Hon</td><td>null</td></tr><tr><td>BMW-M1</td><td>BMW</td><td>null</td></tr><tr><td>Vol-M256</td><td>Vol</td><td>null</td></tr><tr><td>Nis-M264</td><td>Nis</td><td>null</td></tr><tr><td>Hyu-M158</td><td>Hyu</td><td>null</td></tr><tr><td>Vol-M136</td><td>Vol</td><td>null</td></tr><tr><td>Toy-M100</td><td>Toy</td><td>null</td></tr><tr><td>Hyu-M74</td><td>Hyu</td><td>null</td></tr><tr><td>Aud-M240</td><td>Aud</td><td>null</td></tr><tr><td>Nis-M85</td><td>Nis</td><td>null</td></tr><tr><td>Nis-M269</td><td>Nis</td><td>null</td></tr><tr><td>BMW-M250</td><td>BMW</td><td>null</td></tr><tr><td>Toy-M203</td><td>Toy</td><td>null</td></tr><tr><td>Kia-M213</td><td>Kia</td><td>null</td></tr><tr><td>Che-M114</td><td>Che</td><td>null</td></tr><tr><td>Nis-M83</td><td>Nis</td><td>null</td></tr><tr><td>Fia-M118</td><td>Fia</td><td>null</td></tr><tr><td>For-M18</td><td>For</td><td>null</td></tr><tr><td>Toy-M104</td><td>Toy</td><td>null</td></tr><tr><td>Mer-M122</td><td>Mer</td><td>null</td></tr><tr><td>Cit-M116</td><td>Cit</td><td>null</td></tr><tr><td>Nis-M261</td><td>Nis</td><td>null</td></tr><tr><td>Mah-M173</td><td>Mah</td><td>null</td></tr><tr><td>Mer-M121</td><td>Mer</td><td>null</td></tr><tr><td>BMW-M243</td><td>BMW</td><td>null</td></tr><tr><td>Nis-M87</td><td>Nis</td><td>null</td></tr><tr><td>Toy-M206</td><td>Toy</td><td>null</td></tr><tr><td>Hon-M64</td><td>Hon</td><td>null</td></tr><tr><td>Vol-M258</td><td>Vol</td><td>null</td></tr><tr><td>For-M19</td><td>For</td><td>null</td></tr><tr><td>Hon-M219</td><td>Hon</td><td>null</td></tr><tr><td>GMC-M55</td><td>GMC</td><td>null</td></tr><tr><td>Inf-M79</td><td>Inf</td><td>null</td></tr><tr><td>Jee-M253</td><td>Jee</td><td>null</td></tr><tr><td>Hon-M70</td><td>Hon</td><td>null</td></tr><tr><td>GMC-M54</td><td>GMC</td><td>null</td></tr><tr><td>Jee-M12</td><td>Jee</td><td>null</td></tr><tr><td>Hon-M71</td><td>Hon</td><td>null</td></tr><tr><td>Mar-M137</td><td>Mar</td><td>null</td></tr><tr><td>Nis-M81</td><td>Nis</td><td>null</td></tr><tr><td>Aud-M232</td><td>Aud</td><td>null</td></tr><tr><td>Hyu-M75</td><td>Hyu</td><td>null</td></tr><tr><td>Acu-M61</td><td>Acu</td><td>null</td></tr><tr><td>For-M226</td><td>For</td><td>null</td></tr><tr><td>Cit-M115</td><td>Cit</td><td>null</td></tr><tr><td>BMW-M244</td><td>BMW</td><td>null</td></tr><tr><td>Hon-M216</td><td>Hon</td><td>null</td></tr><tr><td>Toy-M106</td><td>Toy</td><td>null</td></tr><tr><td>Ren-M132</td><td>Ren</td><td>null</td></tr><tr><td>Tat-M191</td><td>Tat</td><td>null</td></tr><tr><td>For-M21</td><td>For</td><td>null</td></tr><tr><td>Acu-M63</td><td>Acu</td><td>null</td></tr><tr><td>Acu-M59</td><td>Acu</td><td>null</td></tr><tr><td>Ram-M15</td><td>Ram</td><td>null</td></tr><tr><td>Nis-M88</td><td>Nis</td><td>null</td></tr><tr><td>BMW-M242</td><td>BMW</td><td>null</td></tr><tr><td>GMC-M52</td><td>GMC</td><td>null</td></tr><tr><td>Mar-M146</td><td>Mar</td><td>null</td></tr><tr><td>Aud-M239</td><td>Aud</td><td>null</td></tr><tr><td>Jee-M10</td><td>Jee</td><td>null</td></tr><tr><td>Aud-M233</td><td>Aud</td><td>null</td></tr><tr><td>Sko-M271</td><td>Sko</td><td>null</td></tr><tr><td>BMW-M245</td><td>BMW</td><td>null</td></tr><tr><td>Aud-M241</td><td>Aud</td><td>null</td></tr><tr><td>Vol-M259</td><td>Vol</td><td>null</td></tr><tr><td>Ram-M14</td><td>Ram</td><td>null</td></tr><tr><td>Nis-M262</td><td>Nis</td><td>null</td></tr><tr><td>Tat-M194</td><td>Tat</td><td>null</td></tr><tr><td>Aud-M238</td><td>Aud</td><td>null</td></tr><tr><td>MG-M251</td><td>MG</td><td>null</td></tr><tr><td>Jee-M254</td><td>Jee</td><td>null</td></tr><tr><td>Riv-M91</td><td>Riv</td><td>null</td></tr><tr><td>Che-M49</td><td>Che</td><td>null</td></tr><tr><td>Toy-M105</td><td>Toy</td><td>null</td></tr><tr><td>Hyu-M159</td><td>Hyu</td><td>null</td></tr><tr><td>Vol-M255</td><td>Vol</td><td>null</td></tr><tr><td>Tat-M188</td><td>Tat</td><td>null</td></tr><tr><td>BMW-M4</td><td>BMW</td><td>null</td></tr><tr><td>Toy-M200</td><td>Toy</td><td>null</td></tr><tr><td>Toy-M103</td><td>Toy</td><td>null</td></tr><tr><td>BMW-M247</td><td>BMW</td><td>null</td></tr><tr><td>Mah-M176</td><td>Mah</td><td>null</td></tr><tr><td>For-M221</td><td>For</td><td>null</td></tr><tr><td>Nis-M266</td><td>Nis</td><td>null</td></tr><tr><td>For-M17</td><td>For</td><td>null</td></tr><tr><td>Hyu-M154</td><td>Hyu</td><td>null</td></tr><tr><td>Mer-M7</td><td>Mer</td><td>null</td></tr><tr><td>Tes-M96</td><td>Tes</td><td>null</td></tr><tr><td>Lin-M30</td><td>Lin</td><td>null</td></tr><tr><td>Hon-M218</td><td>Hon</td><td>null</td></tr><tr><td>Vol-M108</td><td>Vol</td><td>null</td></tr><tr><td>Mah-M165</td><td>Mah</td><td>null</td></tr><tr><td>Hon-M66</td><td>Hon</td><td>null</td></tr><tr><td>Toy-M202</td><td>Toy</td><td>null</td></tr><tr><td>Cad-M36</td><td>Cad</td><td>null</td></tr><tr><td>Sub-M95</td><td>Sub</td><td>null</td></tr><tr><td>Tat-M181</td><td>Tat</td><td>null</td></tr><tr><td>Cad-M32</td><td>Cad</td><td>null</td></tr><tr><td>Hyu-M73</td><td>Hyu</td><td>null</td></tr><tr><td>Nis-M267</td><td>Nis</td><td>null</td></tr><tr><td>GMC-M53</td><td>GMC</td><td>null</td></tr><tr><td>Che-M40</td><td>Che</td><td>null</td></tr><tr><td>Che-M50</td><td>Che</td><td>null</td></tr><tr><td>Mar-M152</td><td>Mar</td><td>null</td></tr><tr><td>Cad-M38</td><td>Cad</td><td>null</td></tr><tr><td>Che-M41</td><td>Che</td><td>null</td></tr><tr><td>Vol-M257</td><td>Vol</td><td>null</td></tr><tr><td>For-M225</td><td>For</td><td>null</td></tr><tr><td>For-M223</td><td>For</td><td>null</td></tr><tr><td>Ren-M131</td><td>Ren</td><td>null</td></tr><tr><td>Che-M43</td><td>Che</td><td>null</td></tr><tr><td>Mah-M166</td><td>Mah</td><td>null</td></tr><tr><td>Mar-M151</td><td>Mar</td><td>null</td></tr><tr><td>Sub-M93</td><td>Sub</td><td>null</td></tr><tr><td>GMC-M57</td><td>GMC</td><td>null</td></tr><tr><td>Agr-M112</td><td>Agr</td><td>null</td></tr><tr><td>Mar-M138</td><td>Mar</td><td>null</td></tr><tr><td>Mar-M149</td><td>Mar</td><td>null</td></tr><tr><td>Che-M47</td><td>Che</td><td>null</td></tr><tr><td>Toy-M204</td><td>Toy</td><td>null</td></tr><tr><td>Cad-M39</td><td>Cad</td><td>null</td></tr><tr><td>Cad-M33</td><td>Cad</td><td>null</td></tr><tr><td>Hyu-M160</td><td>Hyu</td><td>null</td></tr><tr><td>Mah-M171</td><td>Mah</td><td>null</td></tr><tr><td>Tat-M184</td><td>Tat</td><td>null</td></tr><tr><td>Agr-M111</td><td>Agr</td><td>null</td></tr><tr><td>Lin-M27</td><td>Lin</td><td>null</td></tr><tr><td>Ren-M211</td><td>Ren</td><td>null</td></tr><tr><td>Nis-M265</td><td>Nis</td><td>null</td></tr><tr><td>Tat-M193</td><td>Tat</td><td>null</td></tr><tr><td>Che-M44</td><td>Che</td><td>null</td></tr><tr><td>Aud-M231</td><td>Aud</td><td>null</td></tr><tr><td>Ren-M208</td><td>Ren</td><td>null</td></tr><tr><td>MG-M252</td><td>MG</td><td>null</td></tr><tr><td>Tat-M182</td><td>Tat</td><td>null</td></tr><tr><td>GMC-M56</td><td>GMC</td><td>null</td></tr><tr><td>Mar-M141</td><td>Mar</td><td>null</td></tr><tr><td>Hyu-M164</td><td>Hyu</td><td>null</td></tr><tr><td>Peu-M125</td><td>Peu</td><td>null</td></tr><tr><td>Nis-M263</td><td>Nis</td><td>null</td></tr><tr><td>Hyu-M72</td><td>Hyu</td><td>null</td></tr><tr><td>Mit-M277</td><td>Mit</td><td>null</td></tr><tr><td>Toy-M101</td><td>Toy</td><td>null</td></tr><tr><td>For-M22</td><td>For</td><td>null</td></tr><tr><td>BMW-M248</td><td>BMW</td><td>null</td></tr><tr><td>Nis-M84</td><td>Nis</td><td>null</td></tr><tr><td>Mar-M150</td><td>Mar</td><td>null</td></tr><tr><td>Mar-M143</td><td>Mar</td><td>null</td></tr><tr><td>BMW-M246</td><td>BMW</td><td>null</td></tr><tr><td>Cad-M37</td><td>Cad</td><td>null</td></tr><tr><td>Nis-M268</td><td>Nis</td><td>null</td></tr><tr><td>Kia-M76</td><td>Kia</td><td>null</td></tr><tr><td>Aud-M228</td><td>Aud</td><td>null</td></tr><tr><td>Peu-M126</td><td>Peu</td><td>null</td></tr><tr><td>Tes-M97</td><td>Tes</td><td>null</td></tr><tr><td>Mah-M175</td><td>Mah</td><td>null</td></tr><tr><td>Hyu-M156</td><td>Hyu</td><td>null</td></tr><tr><td>Lin-M28</td><td>Lin</td><td>null</td></tr><tr><td>Toy-M107</td><td>Toy</td><td>null</td></tr><tr><td>Sub-M92</td><td>Sub</td><td>null</td></tr><tr><td>Che-M48</td><td>Che</td><td>null</td></tr><tr><td>For-M26</td><td>For</td><td>null</td></tr><tr><td>Vol-M135</td><td>Vol</td><td>null</td></tr><tr><td>Tat-M187</td><td>Tat</td><td>null</td></tr><tr><td>Hon-M120</td><td>Hon</td><td>null</td></tr><tr><td>Hyu-M163</td><td>Hyu</td><td>null</td></tr><tr><td>Mah-M177</td><td>Mah</td><td>null</td></tr><tr><td>Tat-M192</td><td>Tat</td><td>null</td></tr><tr><td>Kia-M77</td><td>Kia</td><td>null</td></tr><tr><td>Toy-M196</td><td>Toy</td><td>null</td></tr><tr><td>GMC-M58</td><td>GMC</td><td>null</td></tr><tr><td>Mah-M167</td><td>Mah</td><td>null</td></tr><tr><td>BMW-M5</td><td>BMW</td><td>null</td></tr><tr><td>BMW-M249</td><td>BMW</td><td>null</td></tr><tr><td>Mah-M172</td><td>Mah</td><td>null</td></tr><tr><td>Sub-M94</td><td>Sub</td><td>null</td></tr><tr><td>Tat-M180</td><td>Tat</td><td>null</td></tr><tr><td>For-M25</td><td>For</td><td>null</td></tr><tr><td>Che-M42</td><td>Che</td><td>null</td></tr><tr><td>Mer-M123</td><td>Mer</td><td>null</td></tr><tr><td>Peu-M124</td><td>Peu</td><td>null</td></tr><tr><td>Dod-M9</td><td>Dod</td><td>null</td></tr><tr><td>Mar-M140</td><td>Mar</td><td>null</td></tr><tr><td>For-M119</td><td>For</td><td>null</td></tr><tr><td>Tes-M98</td><td>Tes</td><td>null</td></tr><tr><td>Toy-M205</td><td>Toy</td><td>null</td></tr><tr><td>Ren-M129</td><td>Ren</td><td>null</td></tr><tr><td>Aud-M237</td><td>Aud</td><td>null</td></tr><tr><td>Toy-M133</td><td>Toy</td><td>null</td></tr><tr><td>Nis-M82</td><td>Nis</td><td>null</td></tr><tr><td>Tat-M183</td><td>Tat</td><td>null</td></tr><tr><td>Che-M51</td><td>Che</td><td>null</td></tr><tr><td>Jee-M11</td><td>Jee</td><td>null</td></tr><tr><td>Ren-M128</td><td>Ren</td><td>null</td></tr><tr><td>Cad-M34</td><td>Cad</td><td>null</td></tr><tr><td>Che-M46</td><td>Che</td><td>null</td></tr><tr><td>Ren-M127</td><td>Ren</td><td>null</td></tr><tr><td>Agr-M113</td><td>Agr</td><td>null</td></tr><tr><td>Toy-M199</td><td>Toy</td><td>null</td></tr><tr><td>Mar-M145</td><td>Mar</td><td>null</td></tr><tr><td>Sko-M273</td><td>Sko</td><td>null</td></tr><tr><td>Nis-M270</td><td>Nis</td><td>null</td></tr><tr><td>Aud-M235</td><td>Aud</td><td>null</td></tr><tr><td>Cad-M35</td><td>Cad</td><td>null</td></tr><tr><td>Mer-M8</td><td>Mer</td><td>null</td></tr><tr><td>For-M23</td><td>For</td><td>null</td></tr><tr><td>Aud-M236</td><td>Aud</td><td>null</td></tr><tr><td>Lex-M99</td><td>Lex</td><td>null</td></tr><tr><td>Ren-M209</td><td>Ren</td><td>null</td></tr><tr><td>Kia-M78</td><td>Kia</td><td>null</td></tr><tr><td>BMW-M3</td><td>BMW</td><td>null</td></tr><tr><td>Mah-M169</td><td>Mah</td><td>null</td></tr><tr><td>For-M16</td><td>For</td><td>null</td></tr><tr><td>Nis-M80</td><td>Nis</td><td>null</td></tr><tr><td>Toy-M201</td><td>Toy</td><td>null</td></tr><tr><td>Che-M45</td><td>Che</td><td>null</td></tr><tr><td>Mit-M275</td><td>Mit</td><td>null</td></tr><tr><td>Toy-M197</td><td>Toy</td><td>null</td></tr><tr><td>Tat-M190</td><td>Tat</td><td>null</td></tr><tr><td>Hon-M65</td><td>Hon</td><td>null</td></tr><tr><td>Toy-M102</td><td>Toy</td><td>null</td></tr><tr><td>Hon-M67</td><td>Hon</td><td>null</td></tr><tr><td>Sko-M274</td><td>Sko</td><td>null</td></tr><tr><td>Mah-M168</td><td>Mah</td><td>null</td></tr><tr><td>Mer-M6</td><td>Mer</td><td>null</td></tr><tr><td>Ren-M207</td><td>Ren</td><td>null</td></tr><tr><td>Hon-M68</td><td>Hon</td><td>null</td></tr><tr><td>Hon-M69</td><td>Hon</td><td>null</td></tr><tr><td>Mar-M144</td><td>Mar</td><td>null</td></tr><tr><td>Kia-M214</td><td>Kia</td><td>null</td></tr><tr><td>Sko-M272</td><td>Sko</td><td>null</td></tr><tr><td>Mit-M276</td><td>Mit</td><td>null</td></tr><tr><td>Mar-M148</td><td>Mar</td><td>null</td></tr><tr><td>For-M24</td><td>For</td><td>null</td></tr><tr><td>Mah-M170</td><td>Mah</td><td>null</td></tr><tr><td>Acu-M62</td><td>Acu</td><td>null</td></tr><tr><td>Hyu-M162</td><td>Hyu</td><td>null</td></tr><tr><td>Hyu-M155</td><td>Hyu</td><td>null</td></tr><tr><td>Ren-M210</td><td>Ren</td><td>null</td></tr><tr><td>Aud-M229</td><td>Aud</td><td>null</td></tr><tr><td>Tat-M185</td><td>Tat</td><td>null</td></tr><tr><td>Vol-M109</td><td>Vol</td><td>null</td></tr><tr><td>Mar-M147</td><td>Mar</td><td>null</td></tr><tr><td>Hyu-M153</td><td>Hyu</td><td>null</td></tr><tr><td>For-M224</td><td>For</td><td>null</td></tr><tr><td>Nis-M89</td><td>Nis</td><td>null</td></tr><tr><td>Riv-M90</td><td>Riv</td><td>null</td></tr><tr><td>Mar-M139</td><td>Mar</td><td>null</td></tr><tr><td>Jee-M13</td><td>Jee</td><td>null</td></tr><tr><td>Tat-M189</td><td>Tat</td><td>null</td></tr><tr><td>Toy-M134</td><td>Toy</td><td>null</td></tr><tr><td>Mah-M174</td><td>Mah</td><td>null</td></tr><tr><td>Aud-M230</td><td>Aud</td><td>null</td></tr><tr><td>Toy-M195</td><td>Toy</td><td>null</td></tr><tr><td>Fia-M117</td><td>Fia</td><td>null</td></tr><tr><td>For-M222</td><td>For</td><td>null</td></tr><tr><td>Tat-M186</td><td>Tat</td><td>null</td></tr></tbody></table></div>"
      ]
     },
     "metadata": {
      "application/vnd.databricks.v1+output": {
       "addedWidgets": {},
       "aggData": [],
       "aggError": "",
       "aggOverflow": false,
       "aggSchema": [],
       "aggSeriesLimitReached": false,
       "aggType": "",
       "arguments": {},
       "columnCustomDisplayInfos": {},
       "data": [
        [
         "Hon-M220",
         "Hon",
         null
        ],
        [
         "Hon-M215",
         "Hon",
         null
        ],
        [
         "Vol-M110",
         "Vol",
         null
        ],
        [
         "Vol-M260",
         "Vol",
         null
        ],
        [
         "Bui-M31",
         "Bui",
         null
        ],
        [
         "BMW-M2",
         "BMW",
         null
        ],
        [
         "Acu-M60",
         "Acu",
         null
        ],
        [
         "Hyu-M157",
         "Hyu",
         null
        ],
        [
         "Ren-M130",
         "Ren",
         null
        ],
        [
         "Lin-M29",
         "Lin",
         null
        ],
        [
         "Tat-M179",
         "Tat",
         null
        ],
        [
         "Aud-M227",
         "Aud",
         null
        ],
        [
         "Aud-M234",
         "Aud",
         null
        ],
        [
         "Mar-M142",
         "Mar",
         null
        ],
        [
         "Kia-M212",
         "Kia",
         null
        ],
        [
         "Toy-M198",
         "Toy",
         null
        ],
        [
         "For-M20",
         "For",
         null
        ],
        [
         "Mah-M178",
         "Mah",
         null
        ],
        [
         "Hyu-M161",
         "Hyu",
         null
        ],
        [
         "Nis-M86",
         "Nis",
         null
        ],
        [
         "Hon-M217",
         "Hon",
         null
        ],
        [
         "BMW-M1",
         "BMW",
         null
        ],
        [
         "Vol-M256",
         "Vol",
         null
        ],
        [
         "Nis-M264",
         "Nis",
         null
        ],
        [
         "Hyu-M158",
         "Hyu",
         null
        ],
        [
         "Vol-M136",
         "Vol",
         null
        ],
        [
         "Toy-M100",
         "Toy",
         null
        ],
        [
         "Hyu-M74",
         "Hyu",
         null
        ],
        [
         "Aud-M240",
         "Aud",
         null
        ],
        [
         "Nis-M85",
         "Nis",
         null
        ],
        [
         "Nis-M269",
         "Nis",
         null
        ],
        [
         "BMW-M250",
         "BMW",
         null
        ],
        [
         "Toy-M203",
         "Toy",
         null
        ],
        [
         "Kia-M213",
         "Kia",
         null
        ],
        [
         "Che-M114",
         "Che",
         null
        ],
        [
         "Nis-M83",
         "Nis",
         null
        ],
        [
         "Fia-M118",
         "Fia",
         null
        ],
        [
         "For-M18",
         "For",
         null
        ],
        [
         "Toy-M104",
         "Toy",
         null
        ],
        [
         "Mer-M122",
         "Mer",
         null
        ],
        [
         "Cit-M116",
         "Cit",
         null
        ],
        [
         "Nis-M261",
         "Nis",
         null
        ],
        [
         "Mah-M173",
         "Mah",
         null
        ],
        [
         "Mer-M121",
         "Mer",
         null
        ],
        [
         "BMW-M243",
         "BMW",
         null
        ],
        [
         "Nis-M87",
         "Nis",
         null
        ],
        [
         "Toy-M206",
         "Toy",
         null
        ],
        [
         "Hon-M64",
         "Hon",
         null
        ],
        [
         "Vol-M258",
         "Vol",
         null
        ],
        [
         "For-M19",
         "For",
         null
        ],
        [
         "Hon-M219",
         "Hon",
         null
        ],
        [
         "GMC-M55",
         "GMC",
         null
        ],
        [
         "Inf-M79",
         "Inf",
         null
        ],
        [
         "Jee-M253",
         "Jee",
         null
        ],
        [
         "Hon-M70",
         "Hon",
         null
        ],
        [
         "GMC-M54",
         "GMC",
         null
        ],
        [
         "Jee-M12",
         "Jee",
         null
        ],
        [
         "Hon-M71",
         "Hon",
         null
        ],
        [
         "Mar-M137",
         "Mar",
         null
        ],
        [
         "Nis-M81",
         "Nis",
         null
        ],
        [
         "Aud-M232",
         "Aud",
         null
        ],
        [
         "Hyu-M75",
         "Hyu",
         null
        ],
        [
         "Acu-M61",
         "Acu",
         null
        ],
        [
         "For-M226",
         "For",
         null
        ],
        [
         "Cit-M115",
         "Cit",
         null
        ],
        [
         "BMW-M244",
         "BMW",
         null
        ],
        [
         "Hon-M216",
         "Hon",
         null
        ],
        [
         "Toy-M106",
         "Toy",
         null
        ],
        [
         "Ren-M132",
         "Ren",
         null
        ],
        [
         "Tat-M191",
         "Tat",
         null
        ],
        [
         "For-M21",
         "For",
         null
        ],
        [
         "Acu-M63",
         "Acu",
         null
        ],
        [
         "Acu-M59",
         "Acu",
         null
        ],
        [
         "Ram-M15",
         "Ram",
         null
        ],
        [
         "Nis-M88",
         "Nis",
         null
        ],
        [
         "BMW-M242",
         "BMW",
         null
        ],
        [
         "GMC-M52",
         "GMC",
         null
        ],
        [
         "Mar-M146",
         "Mar",
         null
        ],
        [
         "Aud-M239",
         "Aud",
         null
        ],
        [
         "Jee-M10",
         "Jee",
         null
        ],
        [
         "Aud-M233",
         "Aud",
         null
        ],
        [
         "Sko-M271",
         "Sko",
         null
        ],
        [
         "BMW-M245",
         "BMW",
         null
        ],
        [
         "Aud-M241",
         "Aud",
         null
        ],
        [
         "Vol-M259",
         "Vol",
         null
        ],
        [
         "Ram-M14",
         "Ram",
         null
        ],
        [
         "Nis-M262",
         "Nis",
         null
        ],
        [
         "Tat-M194",
         "Tat",
         null
        ],
        [
         "Aud-M238",
         "Aud",
         null
        ],
        [
         "MG-M251",
         "MG",
         null
        ],
        [
         "Jee-M254",
         "Jee",
         null
        ],
        [
         "Riv-M91",
         "Riv",
         null
        ],
        [
         "Che-M49",
         "Che",
         null
        ],
        [
         "Toy-M105",
         "Toy",
         null
        ],
        [
         "Hyu-M159",
         "Hyu",
         null
        ],
        [
         "Vol-M255",
         "Vol",
         null
        ],
        [
         "Tat-M188",
         "Tat",
         null
        ],
        [
         "BMW-M4",
         "BMW",
         null
        ],
        [
         "Toy-M200",
         "Toy",
         null
        ],
        [
         "Toy-M103",
         "Toy",
         null
        ],
        [
         "BMW-M247",
         "BMW",
         null
        ],
        [
         "Mah-M176",
         "Mah",
         null
        ],
        [
         "For-M221",
         "For",
         null
        ],
        [
         "Nis-M266",
         "Nis",
         null
        ],
        [
         "For-M17",
         "For",
         null
        ],
        [
         "Hyu-M154",
         "Hyu",
         null
        ],
        [
         "Mer-M7",
         "Mer",
         null
        ],
        [
         "Tes-M96",
         "Tes",
         null
        ],
        [
         "Lin-M30",
         "Lin",
         null
        ],
        [
         "Hon-M218",
         "Hon",
         null
        ],
        [
         "Vol-M108",
         "Vol",
         null
        ],
        [
         "Mah-M165",
         "Mah",
         null
        ],
        [
         "Hon-M66",
         "Hon",
         null
        ],
        [
         "Toy-M202",
         "Toy",
         null
        ],
        [
         "Cad-M36",
         "Cad",
         null
        ],
        [
         "Sub-M95",
         "Sub",
         null
        ],
        [
         "Tat-M181",
         "Tat",
         null
        ],
        [
         "Cad-M32",
         "Cad",
         null
        ],
        [
         "Hyu-M73",
         "Hyu",
         null
        ],
        [
         "Nis-M267",
         "Nis",
         null
        ],
        [
         "GMC-M53",
         "GMC",
         null
        ],
        [
         "Che-M40",
         "Che",
         null
        ],
        [
         "Che-M50",
         "Che",
         null
        ],
        [
         "Mar-M152",
         "Mar",
         null
        ],
        [
         "Cad-M38",
         "Cad",
         null
        ],
        [
         "Che-M41",
         "Che",
         null
        ],
        [
         "Vol-M257",
         "Vol",
         null
        ],
        [
         "For-M225",
         "For",
         null
        ],
        [
         "For-M223",
         "For",
         null
        ],
        [
         "Ren-M131",
         "Ren",
         null
        ],
        [
         "Che-M43",
         "Che",
         null
        ],
        [
         "Mah-M166",
         "Mah",
         null
        ],
        [
         "Mar-M151",
         "Mar",
         null
        ],
        [
         "Sub-M93",
         "Sub",
         null
        ],
        [
         "GMC-M57",
         "GMC",
         null
        ],
        [
         "Agr-M112",
         "Agr",
         null
        ],
        [
         "Mar-M138",
         "Mar",
         null
        ],
        [
         "Mar-M149",
         "Mar",
         null
        ],
        [
         "Che-M47",
         "Che",
         null
        ],
        [
         "Toy-M204",
         "Toy",
         null
        ],
        [
         "Cad-M39",
         "Cad",
         null
        ],
        [
         "Cad-M33",
         "Cad",
         null
        ],
        [
         "Hyu-M160",
         "Hyu",
         null
        ],
        [
         "Mah-M171",
         "Mah",
         null
        ],
        [
         "Tat-M184",
         "Tat",
         null
        ],
        [
         "Agr-M111",
         "Agr",
         null
        ],
        [
         "Lin-M27",
         "Lin",
         null
        ],
        [
         "Ren-M211",
         "Ren",
         null
        ],
        [
         "Nis-M265",
         "Nis",
         null
        ],
        [
         "Tat-M193",
         "Tat",
         null
        ],
        [
         "Che-M44",
         "Che",
         null
        ],
        [
         "Aud-M231",
         "Aud",
         null
        ],
        [
         "Ren-M208",
         "Ren",
         null
        ],
        [
         "MG-M252",
         "MG",
         null
        ],
        [
         "Tat-M182",
         "Tat",
         null
        ],
        [
         "GMC-M56",
         "GMC",
         null
        ],
        [
         "Mar-M141",
         "Mar",
         null
        ],
        [
         "Hyu-M164",
         "Hyu",
         null
        ],
        [
         "Peu-M125",
         "Peu",
         null
        ],
        [
         "Nis-M263",
         "Nis",
         null
        ],
        [
         "Hyu-M72",
         "Hyu",
         null
        ],
        [
         "Mit-M277",
         "Mit",
         null
        ],
        [
         "Toy-M101",
         "Toy",
         null
        ],
        [
         "For-M22",
         "For",
         null
        ],
        [
         "BMW-M248",
         "BMW",
         null
        ],
        [
         "Nis-M84",
         "Nis",
         null
        ],
        [
         "Mar-M150",
         "Mar",
         null
        ],
        [
         "Mar-M143",
         "Mar",
         null
        ],
        [
         "BMW-M246",
         "BMW",
         null
        ],
        [
         "Cad-M37",
         "Cad",
         null
        ],
        [
         "Nis-M268",
         "Nis",
         null
        ],
        [
         "Kia-M76",
         "Kia",
         null
        ],
        [
         "Aud-M228",
         "Aud",
         null
        ],
        [
         "Peu-M126",
         "Peu",
         null
        ],
        [
         "Tes-M97",
         "Tes",
         null
        ],
        [
         "Mah-M175",
         "Mah",
         null
        ],
        [
         "Hyu-M156",
         "Hyu",
         null
        ],
        [
         "Lin-M28",
         "Lin",
         null
        ],
        [
         "Toy-M107",
         "Toy",
         null
        ],
        [
         "Sub-M92",
         "Sub",
         null
        ],
        [
         "Che-M48",
         "Che",
         null
        ],
        [
         "For-M26",
         "For",
         null
        ],
        [
         "Vol-M135",
         "Vol",
         null
        ],
        [
         "Tat-M187",
         "Tat",
         null
        ],
        [
         "Hon-M120",
         "Hon",
         null
        ],
        [
         "Hyu-M163",
         "Hyu",
         null
        ],
        [
         "Mah-M177",
         "Mah",
         null
        ],
        [
         "Tat-M192",
         "Tat",
         null
        ],
        [
         "Kia-M77",
         "Kia",
         null
        ],
        [
         "Toy-M196",
         "Toy",
         null
        ],
        [
         "GMC-M58",
         "GMC",
         null
        ],
        [
         "Mah-M167",
         "Mah",
         null
        ],
        [
         "BMW-M5",
         "BMW",
         null
        ],
        [
         "BMW-M249",
         "BMW",
         null
        ],
        [
         "Mah-M172",
         "Mah",
         null
        ],
        [
         "Sub-M94",
         "Sub",
         null
        ],
        [
         "Tat-M180",
         "Tat",
         null
        ],
        [
         "For-M25",
         "For",
         null
        ],
        [
         "Che-M42",
         "Che",
         null
        ],
        [
         "Mer-M123",
         "Mer",
         null
        ],
        [
         "Peu-M124",
         "Peu",
         null
        ],
        [
         "Dod-M9",
         "Dod",
         null
        ],
        [
         "Mar-M140",
         "Mar",
         null
        ],
        [
         "For-M119",
         "For",
         null
        ],
        [
         "Tes-M98",
         "Tes",
         null
        ],
        [
         "Toy-M205",
         "Toy",
         null
        ],
        [
         "Ren-M129",
         "Ren",
         null
        ],
        [
         "Aud-M237",
         "Aud",
         null
        ],
        [
         "Toy-M133",
         "Toy",
         null
        ],
        [
         "Nis-M82",
         "Nis",
         null
        ],
        [
         "Tat-M183",
         "Tat",
         null
        ],
        [
         "Che-M51",
         "Che",
         null
        ],
        [
         "Jee-M11",
         "Jee",
         null
        ],
        [
         "Ren-M128",
         "Ren",
         null
        ],
        [
         "Cad-M34",
         "Cad",
         null
        ],
        [
         "Che-M46",
         "Che",
         null
        ],
        [
         "Ren-M127",
         "Ren",
         null
        ],
        [
         "Agr-M113",
         "Agr",
         null
        ],
        [
         "Toy-M199",
         "Toy",
         null
        ],
        [
         "Mar-M145",
         "Mar",
         null
        ],
        [
         "Sko-M273",
         "Sko",
         null
        ],
        [
         "Nis-M270",
         "Nis",
         null
        ],
        [
         "Aud-M235",
         "Aud",
         null
        ],
        [
         "Cad-M35",
         "Cad",
         null
        ],
        [
         "Mer-M8",
         "Mer",
         null
        ],
        [
         "For-M23",
         "For",
         null
        ],
        [
         "Aud-M236",
         "Aud",
         null
        ],
        [
         "Lex-M99",
         "Lex",
         null
        ],
        [
         "Ren-M209",
         "Ren",
         null
        ],
        [
         "Kia-M78",
         "Kia",
         null
        ],
        [
         "BMW-M3",
         "BMW",
         null
        ],
        [
         "Mah-M169",
         "Mah",
         null
        ],
        [
         "For-M16",
         "For",
         null
        ],
        [
         "Nis-M80",
         "Nis",
         null
        ],
        [
         "Toy-M201",
         "Toy",
         null
        ],
        [
         "Che-M45",
         "Che",
         null
        ],
        [
         "Mit-M275",
         "Mit",
         null
        ],
        [
         "Toy-M197",
         "Toy",
         null
        ],
        [
         "Tat-M190",
         "Tat",
         null
        ],
        [
         "Hon-M65",
         "Hon",
         null
        ],
        [
         "Toy-M102",
         "Toy",
         null
        ],
        [
         "Hon-M67",
         "Hon",
         null
        ],
        [
         "Sko-M274",
         "Sko",
         null
        ],
        [
         "Mah-M168",
         "Mah",
         null
        ],
        [
         "Mer-M6",
         "Mer",
         null
        ],
        [
         "Ren-M207",
         "Ren",
         null
        ],
        [
         "Hon-M68",
         "Hon",
         null
        ],
        [
         "Hon-M69",
         "Hon",
         null
        ],
        [
         "Mar-M144",
         "Mar",
         null
        ],
        [
         "Kia-M214",
         "Kia",
         null
        ],
        [
         "Sko-M272",
         "Sko",
         null
        ],
        [
         "Mit-M276",
         "Mit",
         null
        ],
        [
         "Mar-M148",
         "Mar",
         null
        ],
        [
         "For-M24",
         "For",
         null
        ],
        [
         "Mah-M170",
         "Mah",
         null
        ],
        [
         "Acu-M62",
         "Acu",
         null
        ],
        [
         "Hyu-M162",
         "Hyu",
         null
        ],
        [
         "Hyu-M155",
         "Hyu",
         null
        ],
        [
         "Ren-M210",
         "Ren",
         null
        ],
        [
         "Aud-M229",
         "Aud",
         null
        ],
        [
         "Tat-M185",
         "Tat",
         null
        ],
        [
         "Vol-M109",
         "Vol",
         null
        ],
        [
         "Mar-M147",
         "Mar",
         null
        ],
        [
         "Hyu-M153",
         "Hyu",
         null
        ],
        [
         "For-M224",
         "For",
         null
        ],
        [
         "Nis-M89",
         "Nis",
         null
        ],
        [
         "Riv-M90",
         "Riv",
         null
        ],
        [
         "Mar-M139",
         "Mar",
         null
        ],
        [
         "Jee-M13",
         "Jee",
         null
        ],
        [
         "Tat-M189",
         "Tat",
         null
        ],
        [
         "Toy-M134",
         "Toy",
         null
        ],
        [
         "Mah-M174",
         "Mah",
         null
        ],
        [
         "Aud-M230",
         "Aud",
         null
        ],
        [
         "Toy-M195",
         "Toy",
         null
        ],
        [
         "Fia-M117",
         "Fia",
         null
        ],
        [
         "For-M222",
         "For",
         null
        ],
        [
         "Tat-M186",
         "Tat",
         null
        ]
       ],
       "datasetInfos": [],
       "dbfsResultPath": null,
       "isJsonSchema": true,
       "metadata": {},
       "overflow": false,
       "plotOptions": {
        "customPlotOptions": {},
        "displayType": "table",
        "pivotAggregation": null,
        "pivotColumns": null,
        "xColumns": null,
        "yColumns": null
       },
       "removedWidgets": [],
       "schema": [
        {
         "metadata": "{}",
         "name": "Model_ID",
         "type": "\"string\""
        },
        {
         "metadata": "{}",
         "name": "Model_category",
         "type": "\"string\""
        },
        {
         "metadata": "{}",
         "name": "dim_model_key",
         "type": "\"integer\""
        }
       ],
       "type": "table"
      }
     },
     "output_type": "display_data"
    }
   ],
   "source": [
    "display(df_filter)"
   ]
  },
  {
   "cell_type": "markdown",
   "metadata": {
    "application/vnd.databricks.v1+cell": {
     "cellMetadata": {},
     "inputWidgets": {},
     "nuid": "58e78dba-31f9-4eec-8604-138da2e9d22d",
     "showTitle": false,
     "tableResultSettingsMap": {},
     "title": ""
    }
   },
   "source": [
    "# Filtering new records and old records"
   ]
  },
  {
   "cell_type": "code",
   "execution_count": 0,
   "metadata": {
    "application/vnd.databricks.v1+cell": {
     "cellMetadata": {
      "byteLimit": 2048000,
      "rowLimit": 10000
     },
     "inputWidgets": {},
     "nuid": "853d96f0-7195-4055-9d08-6d67b1c62897",
     "showTitle": false,
     "tableResultSettingsMap": {},
     "title": ""
    }
   },
   "outputs": [],
   "source": [
    "df_filter_old= df_filter.filter(col('dim_model_key').isNotNull())"
   ]
  },
  {
   "cell_type": "code",
   "execution_count": 0,
   "metadata": {
    "application/vnd.databricks.v1+cell": {
     "cellMetadata": {
      "byteLimit": 2048000,
      "rowLimit": 10000
     },
     "inputWidgets": {},
     "nuid": "5291cb12-357c-4b90-a82e-6ce412bf5f02",
     "showTitle": false,
     "tableResultSettingsMap": {},
     "title": ""
    }
   },
   "outputs": [
    {
     "output_type": "display_data",
     "data": {
      "text/html": [
       "<style scoped>\n",
       "  .table-result-container {\n",
       "    max-height: 300px;\n",
       "    overflow: auto;\n",
       "  }\n",
       "  table, th, td {\n",
       "    border: 1px solid black;\n",
       "    border-collapse: collapse;\n",
       "  }\n",
       "  th, td {\n",
       "    padding: 5px;\n",
       "  }\n",
       "  th {\n",
       "    text-align: left;\n",
       "  }\n",
       "</style><div class='table-result-container'><table class='table-result'><thead style='background-color: white'><tr><th>Model_ID</th><th>Model_category</th><th>dim_model_key</th></tr></thead><tbody></tbody></table></div>"
      ]
     },
     "metadata": {
      "application/vnd.databricks.v1+output": {
       "addedWidgets": {},
       "aggData": [],
       "aggError": "",
       "aggOverflow": false,
       "aggSchema": [],
       "aggSeriesLimitReached": false,
       "aggType": "",
       "arguments": {},
       "columnCustomDisplayInfos": {},
       "data": [],
       "datasetInfos": [],
       "dbfsResultPath": null,
       "isJsonSchema": true,
       "metadata": {},
       "overflow": false,
       "plotOptions": {
        "customPlotOptions": {},
        "displayType": "table",
        "pivotAggregation": null,
        "pivotColumns": null,
        "xColumns": null,
        "yColumns": null
       },
       "removedWidgets": [],
       "schema": [
        {
         "metadata": "{}",
         "name": "Model_ID",
         "type": "\"string\""
        },
        {
         "metadata": "{}",
         "name": "Model_category",
         "type": "\"string\""
        },
        {
         "metadata": "{}",
         "name": "dim_model_key",
         "type": "\"integer\""
        }
       ],
       "type": "table"
      }
     },
     "output_type": "display_data"
    }
   ],
   "source": [
    "display(df_filter_old)"
   ]
  },
  {
   "cell_type": "code",
   "execution_count": 0,
   "metadata": {
    "application/vnd.databricks.v1+cell": {
     "cellMetadata": {
      "byteLimit": 2048000,
      "rowLimit": 10000
     },
     "inputWidgets": {},
     "nuid": "c253d9d3-c3d1-4967-8ea1-04c5854ae60b",
     "showTitle": false,
     "tableResultSettingsMap": {},
     "title": ""
    }
   },
   "outputs": [],
   "source": [
    "df_filter_new= df_filter.filter(col('dim_model_key').isNull()).select(df_source['Model_ID'],df_source['Model_category'])"
   ]
  },
  {
   "cell_type": "code",
   "execution_count": 0,
   "metadata": {
    "application/vnd.databricks.v1+cell": {
     "cellMetadata": {
      "byteLimit": 2048000,
      "rowLimit": 10000
     },
     "inputWidgets": {},
     "nuid": "f1f5c57e-f801-406c-a648-3e9fd6a4c91d",
     "showTitle": false,
     "tableResultSettingsMap": {},
     "title": ""
    }
   },
   "outputs": [
    {
     "output_type": "display_data",
     "data": {
      "text/html": [
       "<style scoped>\n",
       "  .table-result-container {\n",
       "    max-height: 300px;\n",
       "    overflow: auto;\n",
       "  }\n",
       "  table, th, td {\n",
       "    border: 1px solid black;\n",
       "    border-collapse: collapse;\n",
       "  }\n",
       "  th, td {\n",
       "    padding: 5px;\n",
       "  }\n",
       "  th {\n",
       "    text-align: left;\n",
       "  }\n",
       "</style><div class='table-result-container'><table class='table-result'><thead style='background-color: white'><tr><th>Model_ID</th><th>Model_category</th></tr></thead><tbody><tr><td>Hon-M220</td><td>Hon</td></tr><tr><td>Hon-M215</td><td>Hon</td></tr><tr><td>Vol-M110</td><td>Vol</td></tr><tr><td>Vol-M260</td><td>Vol</td></tr><tr><td>Bui-M31</td><td>Bui</td></tr><tr><td>BMW-M2</td><td>BMW</td></tr><tr><td>Acu-M60</td><td>Acu</td></tr><tr><td>Hyu-M157</td><td>Hyu</td></tr><tr><td>Ren-M130</td><td>Ren</td></tr><tr><td>Lin-M29</td><td>Lin</td></tr><tr><td>Tat-M179</td><td>Tat</td></tr><tr><td>Aud-M227</td><td>Aud</td></tr><tr><td>Aud-M234</td><td>Aud</td></tr><tr><td>Mar-M142</td><td>Mar</td></tr><tr><td>Kia-M212</td><td>Kia</td></tr><tr><td>Toy-M198</td><td>Toy</td></tr><tr><td>For-M20</td><td>For</td></tr><tr><td>Mah-M178</td><td>Mah</td></tr><tr><td>Hyu-M161</td><td>Hyu</td></tr><tr><td>Nis-M86</td><td>Nis</td></tr><tr><td>Hon-M217</td><td>Hon</td></tr><tr><td>BMW-M1</td><td>BMW</td></tr><tr><td>Vol-M256</td><td>Vol</td></tr><tr><td>Nis-M264</td><td>Nis</td></tr><tr><td>Hyu-M158</td><td>Hyu</td></tr><tr><td>Vol-M136</td><td>Vol</td></tr><tr><td>Toy-M100</td><td>Toy</td></tr><tr><td>Hyu-M74</td><td>Hyu</td></tr><tr><td>Aud-M240</td><td>Aud</td></tr><tr><td>Nis-M85</td><td>Nis</td></tr><tr><td>Nis-M269</td><td>Nis</td></tr><tr><td>BMW-M250</td><td>BMW</td></tr><tr><td>Toy-M203</td><td>Toy</td></tr><tr><td>Kia-M213</td><td>Kia</td></tr><tr><td>Che-M114</td><td>Che</td></tr><tr><td>Nis-M83</td><td>Nis</td></tr><tr><td>Fia-M118</td><td>Fia</td></tr><tr><td>For-M18</td><td>For</td></tr><tr><td>Toy-M104</td><td>Toy</td></tr><tr><td>Mer-M122</td><td>Mer</td></tr><tr><td>Cit-M116</td><td>Cit</td></tr><tr><td>Nis-M261</td><td>Nis</td></tr><tr><td>Mah-M173</td><td>Mah</td></tr><tr><td>Mer-M121</td><td>Mer</td></tr><tr><td>BMW-M243</td><td>BMW</td></tr><tr><td>Nis-M87</td><td>Nis</td></tr><tr><td>Toy-M206</td><td>Toy</td></tr><tr><td>Hon-M64</td><td>Hon</td></tr><tr><td>Vol-M258</td><td>Vol</td></tr><tr><td>For-M19</td><td>For</td></tr><tr><td>Hon-M219</td><td>Hon</td></tr><tr><td>GMC-M55</td><td>GMC</td></tr><tr><td>Inf-M79</td><td>Inf</td></tr><tr><td>Jee-M253</td><td>Jee</td></tr><tr><td>Hon-M70</td><td>Hon</td></tr><tr><td>GMC-M54</td><td>GMC</td></tr><tr><td>Jee-M12</td><td>Jee</td></tr><tr><td>Hon-M71</td><td>Hon</td></tr><tr><td>Mar-M137</td><td>Mar</td></tr><tr><td>Nis-M81</td><td>Nis</td></tr><tr><td>Aud-M232</td><td>Aud</td></tr><tr><td>Hyu-M75</td><td>Hyu</td></tr><tr><td>Acu-M61</td><td>Acu</td></tr><tr><td>For-M226</td><td>For</td></tr><tr><td>Cit-M115</td><td>Cit</td></tr><tr><td>BMW-M244</td><td>BMW</td></tr><tr><td>Hon-M216</td><td>Hon</td></tr><tr><td>Toy-M106</td><td>Toy</td></tr><tr><td>Ren-M132</td><td>Ren</td></tr><tr><td>Tat-M191</td><td>Tat</td></tr><tr><td>For-M21</td><td>For</td></tr><tr><td>Acu-M63</td><td>Acu</td></tr><tr><td>Acu-M59</td><td>Acu</td></tr><tr><td>Ram-M15</td><td>Ram</td></tr><tr><td>Nis-M88</td><td>Nis</td></tr><tr><td>BMW-M242</td><td>BMW</td></tr><tr><td>GMC-M52</td><td>GMC</td></tr><tr><td>Mar-M146</td><td>Mar</td></tr><tr><td>Aud-M239</td><td>Aud</td></tr><tr><td>Jee-M10</td><td>Jee</td></tr><tr><td>Aud-M233</td><td>Aud</td></tr><tr><td>Sko-M271</td><td>Sko</td></tr><tr><td>BMW-M245</td><td>BMW</td></tr><tr><td>Aud-M241</td><td>Aud</td></tr><tr><td>Vol-M259</td><td>Vol</td></tr><tr><td>Ram-M14</td><td>Ram</td></tr><tr><td>Nis-M262</td><td>Nis</td></tr><tr><td>Tat-M194</td><td>Tat</td></tr><tr><td>Aud-M238</td><td>Aud</td></tr><tr><td>MG-M251</td><td>MG</td></tr><tr><td>Jee-M254</td><td>Jee</td></tr><tr><td>Riv-M91</td><td>Riv</td></tr><tr><td>Che-M49</td><td>Che</td></tr><tr><td>Toy-M105</td><td>Toy</td></tr><tr><td>Hyu-M159</td><td>Hyu</td></tr><tr><td>Vol-M255</td><td>Vol</td></tr><tr><td>Tat-M188</td><td>Tat</td></tr><tr><td>BMW-M4</td><td>BMW</td></tr><tr><td>Toy-M200</td><td>Toy</td></tr><tr><td>Toy-M103</td><td>Toy</td></tr><tr><td>BMW-M247</td><td>BMW</td></tr><tr><td>Mah-M176</td><td>Mah</td></tr><tr><td>For-M221</td><td>For</td></tr><tr><td>Nis-M266</td><td>Nis</td></tr><tr><td>For-M17</td><td>For</td></tr><tr><td>Hyu-M154</td><td>Hyu</td></tr><tr><td>Mer-M7</td><td>Mer</td></tr><tr><td>Tes-M96</td><td>Tes</td></tr><tr><td>Lin-M30</td><td>Lin</td></tr><tr><td>Hon-M218</td><td>Hon</td></tr><tr><td>Vol-M108</td><td>Vol</td></tr><tr><td>Mah-M165</td><td>Mah</td></tr><tr><td>Hon-M66</td><td>Hon</td></tr><tr><td>Toy-M202</td><td>Toy</td></tr><tr><td>Cad-M36</td><td>Cad</td></tr><tr><td>Sub-M95</td><td>Sub</td></tr><tr><td>Tat-M181</td><td>Tat</td></tr><tr><td>Cad-M32</td><td>Cad</td></tr><tr><td>Hyu-M73</td><td>Hyu</td></tr><tr><td>Nis-M267</td><td>Nis</td></tr><tr><td>GMC-M53</td><td>GMC</td></tr><tr><td>Che-M40</td><td>Che</td></tr><tr><td>Che-M50</td><td>Che</td></tr><tr><td>Mar-M152</td><td>Mar</td></tr><tr><td>Cad-M38</td><td>Cad</td></tr><tr><td>Che-M41</td><td>Che</td></tr><tr><td>Vol-M257</td><td>Vol</td></tr><tr><td>For-M225</td><td>For</td></tr><tr><td>For-M223</td><td>For</td></tr><tr><td>Ren-M131</td><td>Ren</td></tr><tr><td>Che-M43</td><td>Che</td></tr><tr><td>Mah-M166</td><td>Mah</td></tr><tr><td>Mar-M151</td><td>Mar</td></tr><tr><td>Sub-M93</td><td>Sub</td></tr><tr><td>GMC-M57</td><td>GMC</td></tr><tr><td>Agr-M112</td><td>Agr</td></tr><tr><td>Mar-M138</td><td>Mar</td></tr><tr><td>Mar-M149</td><td>Mar</td></tr><tr><td>Che-M47</td><td>Che</td></tr><tr><td>Toy-M204</td><td>Toy</td></tr><tr><td>Cad-M39</td><td>Cad</td></tr><tr><td>Cad-M33</td><td>Cad</td></tr><tr><td>Hyu-M160</td><td>Hyu</td></tr><tr><td>Mah-M171</td><td>Mah</td></tr><tr><td>Tat-M184</td><td>Tat</td></tr><tr><td>Agr-M111</td><td>Agr</td></tr><tr><td>Lin-M27</td><td>Lin</td></tr><tr><td>Ren-M211</td><td>Ren</td></tr><tr><td>Nis-M265</td><td>Nis</td></tr><tr><td>Tat-M193</td><td>Tat</td></tr><tr><td>Che-M44</td><td>Che</td></tr><tr><td>Aud-M231</td><td>Aud</td></tr><tr><td>Ren-M208</td><td>Ren</td></tr><tr><td>MG-M252</td><td>MG</td></tr><tr><td>Tat-M182</td><td>Tat</td></tr><tr><td>GMC-M56</td><td>GMC</td></tr><tr><td>Mar-M141</td><td>Mar</td></tr><tr><td>Hyu-M164</td><td>Hyu</td></tr><tr><td>Peu-M125</td><td>Peu</td></tr><tr><td>Nis-M263</td><td>Nis</td></tr><tr><td>Hyu-M72</td><td>Hyu</td></tr><tr><td>Mit-M277</td><td>Mit</td></tr><tr><td>Toy-M101</td><td>Toy</td></tr><tr><td>For-M22</td><td>For</td></tr><tr><td>BMW-M248</td><td>BMW</td></tr><tr><td>Nis-M84</td><td>Nis</td></tr><tr><td>Mar-M150</td><td>Mar</td></tr><tr><td>Mar-M143</td><td>Mar</td></tr><tr><td>BMW-M246</td><td>BMW</td></tr><tr><td>Cad-M37</td><td>Cad</td></tr><tr><td>Nis-M268</td><td>Nis</td></tr><tr><td>Kia-M76</td><td>Kia</td></tr><tr><td>Aud-M228</td><td>Aud</td></tr><tr><td>Peu-M126</td><td>Peu</td></tr><tr><td>Tes-M97</td><td>Tes</td></tr><tr><td>Mah-M175</td><td>Mah</td></tr><tr><td>Hyu-M156</td><td>Hyu</td></tr><tr><td>Lin-M28</td><td>Lin</td></tr><tr><td>Toy-M107</td><td>Toy</td></tr><tr><td>Sub-M92</td><td>Sub</td></tr><tr><td>Che-M48</td><td>Che</td></tr><tr><td>For-M26</td><td>For</td></tr><tr><td>Vol-M135</td><td>Vol</td></tr><tr><td>Tat-M187</td><td>Tat</td></tr><tr><td>Hon-M120</td><td>Hon</td></tr><tr><td>Hyu-M163</td><td>Hyu</td></tr><tr><td>Mah-M177</td><td>Mah</td></tr><tr><td>Tat-M192</td><td>Tat</td></tr><tr><td>Kia-M77</td><td>Kia</td></tr><tr><td>Toy-M196</td><td>Toy</td></tr><tr><td>GMC-M58</td><td>GMC</td></tr><tr><td>Mah-M167</td><td>Mah</td></tr><tr><td>BMW-M5</td><td>BMW</td></tr><tr><td>BMW-M249</td><td>BMW</td></tr><tr><td>Mah-M172</td><td>Mah</td></tr><tr><td>Sub-M94</td><td>Sub</td></tr><tr><td>Tat-M180</td><td>Tat</td></tr><tr><td>For-M25</td><td>For</td></tr><tr><td>Che-M42</td><td>Che</td></tr><tr><td>Mer-M123</td><td>Mer</td></tr><tr><td>Peu-M124</td><td>Peu</td></tr><tr><td>Dod-M9</td><td>Dod</td></tr><tr><td>Mar-M140</td><td>Mar</td></tr><tr><td>For-M119</td><td>For</td></tr><tr><td>Tes-M98</td><td>Tes</td></tr><tr><td>Toy-M205</td><td>Toy</td></tr><tr><td>Ren-M129</td><td>Ren</td></tr><tr><td>Aud-M237</td><td>Aud</td></tr><tr><td>Toy-M133</td><td>Toy</td></tr><tr><td>Nis-M82</td><td>Nis</td></tr><tr><td>Tat-M183</td><td>Tat</td></tr><tr><td>Che-M51</td><td>Che</td></tr><tr><td>Jee-M11</td><td>Jee</td></tr><tr><td>Ren-M128</td><td>Ren</td></tr><tr><td>Cad-M34</td><td>Cad</td></tr><tr><td>Che-M46</td><td>Che</td></tr><tr><td>Ren-M127</td><td>Ren</td></tr><tr><td>Agr-M113</td><td>Agr</td></tr><tr><td>Toy-M199</td><td>Toy</td></tr><tr><td>Mar-M145</td><td>Mar</td></tr><tr><td>Sko-M273</td><td>Sko</td></tr><tr><td>Nis-M270</td><td>Nis</td></tr><tr><td>Aud-M235</td><td>Aud</td></tr><tr><td>Cad-M35</td><td>Cad</td></tr><tr><td>Mer-M8</td><td>Mer</td></tr><tr><td>For-M23</td><td>For</td></tr><tr><td>Aud-M236</td><td>Aud</td></tr><tr><td>Lex-M99</td><td>Lex</td></tr><tr><td>Ren-M209</td><td>Ren</td></tr><tr><td>Kia-M78</td><td>Kia</td></tr><tr><td>BMW-M3</td><td>BMW</td></tr><tr><td>Mah-M169</td><td>Mah</td></tr><tr><td>For-M16</td><td>For</td></tr><tr><td>Nis-M80</td><td>Nis</td></tr><tr><td>Toy-M201</td><td>Toy</td></tr><tr><td>Che-M45</td><td>Che</td></tr><tr><td>Mit-M275</td><td>Mit</td></tr><tr><td>Toy-M197</td><td>Toy</td></tr><tr><td>Tat-M190</td><td>Tat</td></tr><tr><td>Hon-M65</td><td>Hon</td></tr><tr><td>Toy-M102</td><td>Toy</td></tr><tr><td>Hon-M67</td><td>Hon</td></tr><tr><td>Sko-M274</td><td>Sko</td></tr><tr><td>Mah-M168</td><td>Mah</td></tr><tr><td>Mer-M6</td><td>Mer</td></tr><tr><td>Ren-M207</td><td>Ren</td></tr><tr><td>Hon-M68</td><td>Hon</td></tr><tr><td>Hon-M69</td><td>Hon</td></tr><tr><td>Mar-M144</td><td>Mar</td></tr><tr><td>Kia-M214</td><td>Kia</td></tr><tr><td>Sko-M272</td><td>Sko</td></tr><tr><td>Mit-M276</td><td>Mit</td></tr><tr><td>Mar-M148</td><td>Mar</td></tr><tr><td>For-M24</td><td>For</td></tr><tr><td>Mah-M170</td><td>Mah</td></tr><tr><td>Acu-M62</td><td>Acu</td></tr><tr><td>Hyu-M162</td><td>Hyu</td></tr><tr><td>Hyu-M155</td><td>Hyu</td></tr><tr><td>Ren-M210</td><td>Ren</td></tr><tr><td>Aud-M229</td><td>Aud</td></tr><tr><td>Tat-M185</td><td>Tat</td></tr><tr><td>Vol-M109</td><td>Vol</td></tr><tr><td>Mar-M147</td><td>Mar</td></tr><tr><td>Hyu-M153</td><td>Hyu</td></tr><tr><td>For-M224</td><td>For</td></tr><tr><td>Nis-M89</td><td>Nis</td></tr><tr><td>Riv-M90</td><td>Riv</td></tr><tr><td>Mar-M139</td><td>Mar</td></tr><tr><td>Jee-M13</td><td>Jee</td></tr><tr><td>Tat-M189</td><td>Tat</td></tr><tr><td>Toy-M134</td><td>Toy</td></tr><tr><td>Mah-M174</td><td>Mah</td></tr><tr><td>Aud-M230</td><td>Aud</td></tr><tr><td>Toy-M195</td><td>Toy</td></tr><tr><td>Fia-M117</td><td>Fia</td></tr><tr><td>For-M222</td><td>For</td></tr><tr><td>Tat-M186</td><td>Tat</td></tr></tbody></table></div>"
      ]
     },
     "metadata": {
      "application/vnd.databricks.v1+output": {
       "addedWidgets": {},
       "aggData": [],
       "aggError": "",
       "aggOverflow": false,
       "aggSchema": [],
       "aggSeriesLimitReached": false,
       "aggType": "",
       "arguments": {},
       "columnCustomDisplayInfos": {},
       "data": [
        [
         "Hon-M220",
         "Hon"
        ],
        [
         "Hon-M215",
         "Hon"
        ],
        [
         "Vol-M110",
         "Vol"
        ],
        [
         "Vol-M260",
         "Vol"
        ],
        [
         "Bui-M31",
         "Bui"
        ],
        [
         "BMW-M2",
         "BMW"
        ],
        [
         "Acu-M60",
         "Acu"
        ],
        [
         "Hyu-M157",
         "Hyu"
        ],
        [
         "Ren-M130",
         "Ren"
        ],
        [
         "Lin-M29",
         "Lin"
        ],
        [
         "Tat-M179",
         "Tat"
        ],
        [
         "Aud-M227",
         "Aud"
        ],
        [
         "Aud-M234",
         "Aud"
        ],
        [
         "Mar-M142",
         "Mar"
        ],
        [
         "Kia-M212",
         "Kia"
        ],
        [
         "Toy-M198",
         "Toy"
        ],
        [
         "For-M20",
         "For"
        ],
        [
         "Mah-M178",
         "Mah"
        ],
        [
         "Hyu-M161",
         "Hyu"
        ],
        [
         "Nis-M86",
         "Nis"
        ],
        [
         "Hon-M217",
         "Hon"
        ],
        [
         "BMW-M1",
         "BMW"
        ],
        [
         "Vol-M256",
         "Vol"
        ],
        [
         "Nis-M264",
         "Nis"
        ],
        [
         "Hyu-M158",
         "Hyu"
        ],
        [
         "Vol-M136",
         "Vol"
        ],
        [
         "Toy-M100",
         "Toy"
        ],
        [
         "Hyu-M74",
         "Hyu"
        ],
        [
         "Aud-M240",
         "Aud"
        ],
        [
         "Nis-M85",
         "Nis"
        ],
        [
         "Nis-M269",
         "Nis"
        ],
        [
         "BMW-M250",
         "BMW"
        ],
        [
         "Toy-M203",
         "Toy"
        ],
        [
         "Kia-M213",
         "Kia"
        ],
        [
         "Che-M114",
         "Che"
        ],
        [
         "Nis-M83",
         "Nis"
        ],
        [
         "Fia-M118",
         "Fia"
        ],
        [
         "For-M18",
         "For"
        ],
        [
         "Toy-M104",
         "Toy"
        ],
        [
         "Mer-M122",
         "Mer"
        ],
        [
         "Cit-M116",
         "Cit"
        ],
        [
         "Nis-M261",
         "Nis"
        ],
        [
         "Mah-M173",
         "Mah"
        ],
        [
         "Mer-M121",
         "Mer"
        ],
        [
         "BMW-M243",
         "BMW"
        ],
        [
         "Nis-M87",
         "Nis"
        ],
        [
         "Toy-M206",
         "Toy"
        ],
        [
         "Hon-M64",
         "Hon"
        ],
        [
         "Vol-M258",
         "Vol"
        ],
        [
         "For-M19",
         "For"
        ],
        [
         "Hon-M219",
         "Hon"
        ],
        [
         "GMC-M55",
         "GMC"
        ],
        [
         "Inf-M79",
         "Inf"
        ],
        [
         "Jee-M253",
         "Jee"
        ],
        [
         "Hon-M70",
         "Hon"
        ],
        [
         "GMC-M54",
         "GMC"
        ],
        [
         "Jee-M12",
         "Jee"
        ],
        [
         "Hon-M71",
         "Hon"
        ],
        [
         "Mar-M137",
         "Mar"
        ],
        [
         "Nis-M81",
         "Nis"
        ],
        [
         "Aud-M232",
         "Aud"
        ],
        [
         "Hyu-M75",
         "Hyu"
        ],
        [
         "Acu-M61",
         "Acu"
        ],
        [
         "For-M226",
         "For"
        ],
        [
         "Cit-M115",
         "Cit"
        ],
        [
         "BMW-M244",
         "BMW"
        ],
        [
         "Hon-M216",
         "Hon"
        ],
        [
         "Toy-M106",
         "Toy"
        ],
        [
         "Ren-M132",
         "Ren"
        ],
        [
         "Tat-M191",
         "Tat"
        ],
        [
         "For-M21",
         "For"
        ],
        [
         "Acu-M63",
         "Acu"
        ],
        [
         "Acu-M59",
         "Acu"
        ],
        [
         "Ram-M15",
         "Ram"
        ],
        [
         "Nis-M88",
         "Nis"
        ],
        [
         "BMW-M242",
         "BMW"
        ],
        [
         "GMC-M52",
         "GMC"
        ],
        [
         "Mar-M146",
         "Mar"
        ],
        [
         "Aud-M239",
         "Aud"
        ],
        [
         "Jee-M10",
         "Jee"
        ],
        [
         "Aud-M233",
         "Aud"
        ],
        [
         "Sko-M271",
         "Sko"
        ],
        [
         "BMW-M245",
         "BMW"
        ],
        [
         "Aud-M241",
         "Aud"
        ],
        [
         "Vol-M259",
         "Vol"
        ],
        [
         "Ram-M14",
         "Ram"
        ],
        [
         "Nis-M262",
         "Nis"
        ],
        [
         "Tat-M194",
         "Tat"
        ],
        [
         "Aud-M238",
         "Aud"
        ],
        [
         "MG-M251",
         "MG"
        ],
        [
         "Jee-M254",
         "Jee"
        ],
        [
         "Riv-M91",
         "Riv"
        ],
        [
         "Che-M49",
         "Che"
        ],
        [
         "Toy-M105",
         "Toy"
        ],
        [
         "Hyu-M159",
         "Hyu"
        ],
        [
         "Vol-M255",
         "Vol"
        ],
        [
         "Tat-M188",
         "Tat"
        ],
        [
         "BMW-M4",
         "BMW"
        ],
        [
         "Toy-M200",
         "Toy"
        ],
        [
         "Toy-M103",
         "Toy"
        ],
        [
         "BMW-M247",
         "BMW"
        ],
        [
         "Mah-M176",
         "Mah"
        ],
        [
         "For-M221",
         "For"
        ],
        [
         "Nis-M266",
         "Nis"
        ],
        [
         "For-M17",
         "For"
        ],
        [
         "Hyu-M154",
         "Hyu"
        ],
        [
         "Mer-M7",
         "Mer"
        ],
        [
         "Tes-M96",
         "Tes"
        ],
        [
         "Lin-M30",
         "Lin"
        ],
        [
         "Hon-M218",
         "Hon"
        ],
        [
         "Vol-M108",
         "Vol"
        ],
        [
         "Mah-M165",
         "Mah"
        ],
        [
         "Hon-M66",
         "Hon"
        ],
        [
         "Toy-M202",
         "Toy"
        ],
        [
         "Cad-M36",
         "Cad"
        ],
        [
         "Sub-M95",
         "Sub"
        ],
        [
         "Tat-M181",
         "Tat"
        ],
        [
         "Cad-M32",
         "Cad"
        ],
        [
         "Hyu-M73",
         "Hyu"
        ],
        [
         "Nis-M267",
         "Nis"
        ],
        [
         "GMC-M53",
         "GMC"
        ],
        [
         "Che-M40",
         "Che"
        ],
        [
         "Che-M50",
         "Che"
        ],
        [
         "Mar-M152",
         "Mar"
        ],
        [
         "Cad-M38",
         "Cad"
        ],
        [
         "Che-M41",
         "Che"
        ],
        [
         "Vol-M257",
         "Vol"
        ],
        [
         "For-M225",
         "For"
        ],
        [
         "For-M223",
         "For"
        ],
        [
         "Ren-M131",
         "Ren"
        ],
        [
         "Che-M43",
         "Che"
        ],
        [
         "Mah-M166",
         "Mah"
        ],
        [
         "Mar-M151",
         "Mar"
        ],
        [
         "Sub-M93",
         "Sub"
        ],
        [
         "GMC-M57",
         "GMC"
        ],
        [
         "Agr-M112",
         "Agr"
        ],
        [
         "Mar-M138",
         "Mar"
        ],
        [
         "Mar-M149",
         "Mar"
        ],
        [
         "Che-M47",
         "Che"
        ],
        [
         "Toy-M204",
         "Toy"
        ],
        [
         "Cad-M39",
         "Cad"
        ],
        [
         "Cad-M33",
         "Cad"
        ],
        [
         "Hyu-M160",
         "Hyu"
        ],
        [
         "Mah-M171",
         "Mah"
        ],
        [
         "Tat-M184",
         "Tat"
        ],
        [
         "Agr-M111",
         "Agr"
        ],
        [
         "Lin-M27",
         "Lin"
        ],
        [
         "Ren-M211",
         "Ren"
        ],
        [
         "Nis-M265",
         "Nis"
        ],
        [
         "Tat-M193",
         "Tat"
        ],
        [
         "Che-M44",
         "Che"
        ],
        [
         "Aud-M231",
         "Aud"
        ],
        [
         "Ren-M208",
         "Ren"
        ],
        [
         "MG-M252",
         "MG"
        ],
        [
         "Tat-M182",
         "Tat"
        ],
        [
         "GMC-M56",
         "GMC"
        ],
        [
         "Mar-M141",
         "Mar"
        ],
        [
         "Hyu-M164",
         "Hyu"
        ],
        [
         "Peu-M125",
         "Peu"
        ],
        [
         "Nis-M263",
         "Nis"
        ],
        [
         "Hyu-M72",
         "Hyu"
        ],
        [
         "Mit-M277",
         "Mit"
        ],
        [
         "Toy-M101",
         "Toy"
        ],
        [
         "For-M22",
         "For"
        ],
        [
         "BMW-M248",
         "BMW"
        ],
        [
         "Nis-M84",
         "Nis"
        ],
        [
         "Mar-M150",
         "Mar"
        ],
        [
         "Mar-M143",
         "Mar"
        ],
        [
         "BMW-M246",
         "BMW"
        ],
        [
         "Cad-M37",
         "Cad"
        ],
        [
         "Nis-M268",
         "Nis"
        ],
        [
         "Kia-M76",
         "Kia"
        ],
        [
         "Aud-M228",
         "Aud"
        ],
        [
         "Peu-M126",
         "Peu"
        ],
        [
         "Tes-M97",
         "Tes"
        ],
        [
         "Mah-M175",
         "Mah"
        ],
        [
         "Hyu-M156",
         "Hyu"
        ],
        [
         "Lin-M28",
         "Lin"
        ],
        [
         "Toy-M107",
         "Toy"
        ],
        [
         "Sub-M92",
         "Sub"
        ],
        [
         "Che-M48",
         "Che"
        ],
        [
         "For-M26",
         "For"
        ],
        [
         "Vol-M135",
         "Vol"
        ],
        [
         "Tat-M187",
         "Tat"
        ],
        [
         "Hon-M120",
         "Hon"
        ],
        [
         "Hyu-M163",
         "Hyu"
        ],
        [
         "Mah-M177",
         "Mah"
        ],
        [
         "Tat-M192",
         "Tat"
        ],
        [
         "Kia-M77",
         "Kia"
        ],
        [
         "Toy-M196",
         "Toy"
        ],
        [
         "GMC-M58",
         "GMC"
        ],
        [
         "Mah-M167",
         "Mah"
        ],
        [
         "BMW-M5",
         "BMW"
        ],
        [
         "BMW-M249",
         "BMW"
        ],
        [
         "Mah-M172",
         "Mah"
        ],
        [
         "Sub-M94",
         "Sub"
        ],
        [
         "Tat-M180",
         "Tat"
        ],
        [
         "For-M25",
         "For"
        ],
        [
         "Che-M42",
         "Che"
        ],
        [
         "Mer-M123",
         "Mer"
        ],
        [
         "Peu-M124",
         "Peu"
        ],
        [
         "Dod-M9",
         "Dod"
        ],
        [
         "Mar-M140",
         "Mar"
        ],
        [
         "For-M119",
         "For"
        ],
        [
         "Tes-M98",
         "Tes"
        ],
        [
         "Toy-M205",
         "Toy"
        ],
        [
         "Ren-M129",
         "Ren"
        ],
        [
         "Aud-M237",
         "Aud"
        ],
        [
         "Toy-M133",
         "Toy"
        ],
        [
         "Nis-M82",
         "Nis"
        ],
        [
         "Tat-M183",
         "Tat"
        ],
        [
         "Che-M51",
         "Che"
        ],
        [
         "Jee-M11",
         "Jee"
        ],
        [
         "Ren-M128",
         "Ren"
        ],
        [
         "Cad-M34",
         "Cad"
        ],
        [
         "Che-M46",
         "Che"
        ],
        [
         "Ren-M127",
         "Ren"
        ],
        [
         "Agr-M113",
         "Agr"
        ],
        [
         "Toy-M199",
         "Toy"
        ],
        [
         "Mar-M145",
         "Mar"
        ],
        [
         "Sko-M273",
         "Sko"
        ],
        [
         "Nis-M270",
         "Nis"
        ],
        [
         "Aud-M235",
         "Aud"
        ],
        [
         "Cad-M35",
         "Cad"
        ],
        [
         "Mer-M8",
         "Mer"
        ],
        [
         "For-M23",
         "For"
        ],
        [
         "Aud-M236",
         "Aud"
        ],
        [
         "Lex-M99",
         "Lex"
        ],
        [
         "Ren-M209",
         "Ren"
        ],
        [
         "Kia-M78",
         "Kia"
        ],
        [
         "BMW-M3",
         "BMW"
        ],
        [
         "Mah-M169",
         "Mah"
        ],
        [
         "For-M16",
         "For"
        ],
        [
         "Nis-M80",
         "Nis"
        ],
        [
         "Toy-M201",
         "Toy"
        ],
        [
         "Che-M45",
         "Che"
        ],
        [
         "Mit-M275",
         "Mit"
        ],
        [
         "Toy-M197",
         "Toy"
        ],
        [
         "Tat-M190",
         "Tat"
        ],
        [
         "Hon-M65",
         "Hon"
        ],
        [
         "Toy-M102",
         "Toy"
        ],
        [
         "Hon-M67",
         "Hon"
        ],
        [
         "Sko-M274",
         "Sko"
        ],
        [
         "Mah-M168",
         "Mah"
        ],
        [
         "Mer-M6",
         "Mer"
        ],
        [
         "Ren-M207",
         "Ren"
        ],
        [
         "Hon-M68",
         "Hon"
        ],
        [
         "Hon-M69",
         "Hon"
        ],
        [
         "Mar-M144",
         "Mar"
        ],
        [
         "Kia-M214",
         "Kia"
        ],
        [
         "Sko-M272",
         "Sko"
        ],
        [
         "Mit-M276",
         "Mit"
        ],
        [
         "Mar-M148",
         "Mar"
        ],
        [
         "For-M24",
         "For"
        ],
        [
         "Mah-M170",
         "Mah"
        ],
        [
         "Acu-M62",
         "Acu"
        ],
        [
         "Hyu-M162",
         "Hyu"
        ],
        [
         "Hyu-M155",
         "Hyu"
        ],
        [
         "Ren-M210",
         "Ren"
        ],
        [
         "Aud-M229",
         "Aud"
        ],
        [
         "Tat-M185",
         "Tat"
        ],
        [
         "Vol-M109",
         "Vol"
        ],
        [
         "Mar-M147",
         "Mar"
        ],
        [
         "Hyu-M153",
         "Hyu"
        ],
        [
         "For-M224",
         "For"
        ],
        [
         "Nis-M89",
         "Nis"
        ],
        [
         "Riv-M90",
         "Riv"
        ],
        [
         "Mar-M139",
         "Mar"
        ],
        [
         "Jee-M13",
         "Jee"
        ],
        [
         "Tat-M189",
         "Tat"
        ],
        [
         "Toy-M134",
         "Toy"
        ],
        [
         "Mah-M174",
         "Mah"
        ],
        [
         "Aud-M230",
         "Aud"
        ],
        [
         "Toy-M195",
         "Toy"
        ],
        [
         "Fia-M117",
         "Fia"
        ],
        [
         "For-M222",
         "For"
        ],
        [
         "Tat-M186",
         "Tat"
        ]
       ],
       "datasetInfos": [],
       "dbfsResultPath": null,
       "isJsonSchema": true,
       "metadata": {},
       "overflow": false,
       "plotOptions": {
        "customPlotOptions": {},
        "displayType": "table",
        "pivotAggregation": null,
        "pivotColumns": null,
        "xColumns": null,
        "yColumns": null
       },
       "removedWidgets": [],
       "schema": [
        {
         "metadata": "{}",
         "name": "Model_ID",
         "type": "\"string\""
        },
        {
         "metadata": "{}",
         "name": "Model_category",
         "type": "\"string\""
        }
       ],
       "type": "table"
      }
     },
     "output_type": "display_data"
    }
   ],
   "source": [
    "display(df_filter_new)"
   ]
  },
  {
   "cell_type": "markdown",
   "metadata": {
    "application/vnd.databricks.v1+cell": {
     "cellMetadata": {},
     "inputWidgets": {},
     "nuid": "2bfcf618-dabd-4411-b73f-e509406a6041",
     "showTitle": false,
     "tableResultSettingsMap": {},
     "title": ""
    }
   },
   "source": [
    "#create surrogate key"
   ]
  },
  {
   "cell_type": "markdown",
   "metadata": {
    "application/vnd.databricks.v1+cell": {
     "cellMetadata": {},
     "inputWidgets": {},
     "nuid": "d522c885-5e36-4e5e-a4da-6e5c66ffc45c",
     "showTitle": false,
     "tableResultSettingsMap": {},
     "title": ""
    }
   },
   "source": [
    "#fetch the max surrogate key from table"
   ]
  },
  {
   "cell_type": "code",
   "execution_count": 0,
   "metadata": {
    "application/vnd.databricks.v1+cell": {
     "cellMetadata": {
      "byteLimit": 2048000,
      "rowLimit": 10000
     },
     "inputWidgets": {},
     "nuid": "dbe1470e-2529-47ea-bffb-efdb920b7b4d",
     "showTitle": false,
     "tableResultSettingsMap": {},
     "title": ""
    }
   },
   "outputs": [],
   "source": [
    "if (incremental_flag=='0'):\n",
    "    max_value=1\n",
    "else:\n",
    "    max_value_df=spark.sql(\"select max(dim_model_key) from cars_sales_catalog.silver.dim_model\")\n",
    "    max_value=max_value_df.collect()[0][0]+1"
   ]
  },
  {
   "cell_type": "markdown",
   "metadata": {
    "application/vnd.databricks.v1+cell": {
     "cellMetadata": {},
     "inputWidgets": {},
     "nuid": "932f1d9c-a859-4d30-aed0-e687b5733dcf",
     "showTitle": false,
     "tableResultSettingsMap": {},
     "title": ""
    }
   },
   "source": [
    "#create surrogate key column and add max surrrogate key"
   ]
  },
  {
   "cell_type": "code",
   "execution_count": 0,
   "metadata": {
    "application/vnd.databricks.v1+cell": {
     "cellMetadata": {
      "byteLimit": 2048000,
      "rowLimit": 10000
     },
     "inputWidgets": {},
     "nuid": "3a67d08b-bde6-49ee-9ed7-dcb89713bb44",
     "showTitle": false,
     "tableResultSettingsMap": {},
     "title": ""
    }
   },
   "outputs": [],
   "source": [
    "df_filter_new=df_filter_new.withColumn('dim_model_key',max_value+monotonically_increasing_id())"
   ]
  },
  {
   "cell_type": "code",
   "execution_count": 0,
   "metadata": {
    "application/vnd.databricks.v1+cell": {
     "cellMetadata": {
      "byteLimit": 2048000,
      "rowLimit": 10000
     },
     "inputWidgets": {},
     "nuid": "f1decc67-c4ee-4b51-b94b-e63e39ee70df",
     "showTitle": false,
     "tableResultSettingsMap": {},
     "title": ""
    }
   },
   "outputs": [
    {
     "output_type": "display_data",
     "data": {
      "text/html": [
       "<style scoped>\n",
       "  .table-result-container {\n",
       "    max-height: 300px;\n",
       "    overflow: auto;\n",
       "  }\n",
       "  table, th, td {\n",
       "    border: 1px solid black;\n",
       "    border-collapse: collapse;\n",
       "  }\n",
       "  th, td {\n",
       "    padding: 5px;\n",
       "  }\n",
       "  th {\n",
       "    text-align: left;\n",
       "  }\n",
       "</style><div class='table-result-container'><table class='table-result'><thead style='background-color: white'><tr><th>Model_ID</th><th>Model_category</th><th>dim_model_key</th></tr></thead><tbody><tr><td>Hon-M220</td><td>Hon</td><td>1</td></tr><tr><td>Hon-M215</td><td>Hon</td><td>2</td></tr><tr><td>Vol-M110</td><td>Vol</td><td>3</td></tr><tr><td>Vol-M260</td><td>Vol</td><td>4</td></tr><tr><td>Bui-M31</td><td>Bui</td><td>5</td></tr><tr><td>BMW-M2</td><td>BMW</td><td>6</td></tr><tr><td>Acu-M60</td><td>Acu</td><td>7</td></tr><tr><td>Hyu-M157</td><td>Hyu</td><td>8</td></tr><tr><td>Ren-M130</td><td>Ren</td><td>9</td></tr><tr><td>Lin-M29</td><td>Lin</td><td>10</td></tr><tr><td>Tat-M179</td><td>Tat</td><td>11</td></tr><tr><td>Aud-M227</td><td>Aud</td><td>12</td></tr><tr><td>Aud-M234</td><td>Aud</td><td>13</td></tr><tr><td>Mar-M142</td><td>Mar</td><td>14</td></tr><tr><td>Kia-M212</td><td>Kia</td><td>15</td></tr><tr><td>Toy-M198</td><td>Toy</td><td>16</td></tr><tr><td>For-M20</td><td>For</td><td>17</td></tr><tr><td>Mah-M178</td><td>Mah</td><td>18</td></tr><tr><td>Hyu-M161</td><td>Hyu</td><td>19</td></tr><tr><td>Nis-M86</td><td>Nis</td><td>20</td></tr><tr><td>Hon-M217</td><td>Hon</td><td>21</td></tr><tr><td>BMW-M1</td><td>BMW</td><td>22</td></tr><tr><td>Vol-M256</td><td>Vol</td><td>23</td></tr><tr><td>Nis-M264</td><td>Nis</td><td>24</td></tr><tr><td>Hyu-M158</td><td>Hyu</td><td>25</td></tr><tr><td>Vol-M136</td><td>Vol</td><td>26</td></tr><tr><td>Toy-M100</td><td>Toy</td><td>27</td></tr><tr><td>Hyu-M74</td><td>Hyu</td><td>28</td></tr><tr><td>Aud-M240</td><td>Aud</td><td>29</td></tr><tr><td>Nis-M85</td><td>Nis</td><td>30</td></tr><tr><td>Nis-M269</td><td>Nis</td><td>31</td></tr><tr><td>BMW-M250</td><td>BMW</td><td>32</td></tr><tr><td>Toy-M203</td><td>Toy</td><td>33</td></tr><tr><td>Kia-M213</td><td>Kia</td><td>34</td></tr><tr><td>Che-M114</td><td>Che</td><td>35</td></tr><tr><td>Nis-M83</td><td>Nis</td><td>36</td></tr><tr><td>Fia-M118</td><td>Fia</td><td>37</td></tr><tr><td>For-M18</td><td>For</td><td>38</td></tr><tr><td>Toy-M104</td><td>Toy</td><td>39</td></tr><tr><td>Mer-M122</td><td>Mer</td><td>40</td></tr><tr><td>Cit-M116</td><td>Cit</td><td>41</td></tr><tr><td>Nis-M261</td><td>Nis</td><td>42</td></tr><tr><td>Mah-M173</td><td>Mah</td><td>43</td></tr><tr><td>Mer-M121</td><td>Mer</td><td>44</td></tr><tr><td>BMW-M243</td><td>BMW</td><td>45</td></tr><tr><td>Nis-M87</td><td>Nis</td><td>46</td></tr><tr><td>Toy-M206</td><td>Toy</td><td>47</td></tr><tr><td>Hon-M64</td><td>Hon</td><td>48</td></tr><tr><td>Vol-M258</td><td>Vol</td><td>49</td></tr><tr><td>For-M19</td><td>For</td><td>50</td></tr><tr><td>Hon-M219</td><td>Hon</td><td>51</td></tr><tr><td>GMC-M55</td><td>GMC</td><td>52</td></tr><tr><td>Inf-M79</td><td>Inf</td><td>53</td></tr><tr><td>Jee-M253</td><td>Jee</td><td>54</td></tr><tr><td>Hon-M70</td><td>Hon</td><td>55</td></tr><tr><td>GMC-M54</td><td>GMC</td><td>56</td></tr><tr><td>Jee-M12</td><td>Jee</td><td>57</td></tr><tr><td>Hon-M71</td><td>Hon</td><td>58</td></tr><tr><td>Mar-M137</td><td>Mar</td><td>59</td></tr><tr><td>Nis-M81</td><td>Nis</td><td>60</td></tr><tr><td>Aud-M232</td><td>Aud</td><td>61</td></tr><tr><td>Hyu-M75</td><td>Hyu</td><td>62</td></tr><tr><td>Acu-M61</td><td>Acu</td><td>63</td></tr><tr><td>For-M226</td><td>For</td><td>64</td></tr><tr><td>Cit-M115</td><td>Cit</td><td>65</td></tr><tr><td>BMW-M244</td><td>BMW</td><td>66</td></tr><tr><td>Hon-M216</td><td>Hon</td><td>67</td></tr><tr><td>Toy-M106</td><td>Toy</td><td>68</td></tr><tr><td>Ren-M132</td><td>Ren</td><td>69</td></tr><tr><td>Tat-M191</td><td>Tat</td><td>70</td></tr><tr><td>For-M21</td><td>For</td><td>71</td></tr><tr><td>Acu-M63</td><td>Acu</td><td>72</td></tr><tr><td>Acu-M59</td><td>Acu</td><td>73</td></tr><tr><td>Ram-M15</td><td>Ram</td><td>74</td></tr><tr><td>Nis-M88</td><td>Nis</td><td>75</td></tr><tr><td>BMW-M242</td><td>BMW</td><td>76</td></tr><tr><td>GMC-M52</td><td>GMC</td><td>77</td></tr><tr><td>Mar-M146</td><td>Mar</td><td>78</td></tr><tr><td>Aud-M239</td><td>Aud</td><td>79</td></tr><tr><td>Jee-M10</td><td>Jee</td><td>80</td></tr><tr><td>Aud-M233</td><td>Aud</td><td>81</td></tr><tr><td>Sko-M271</td><td>Sko</td><td>82</td></tr><tr><td>BMW-M245</td><td>BMW</td><td>83</td></tr><tr><td>Aud-M241</td><td>Aud</td><td>84</td></tr><tr><td>Vol-M259</td><td>Vol</td><td>85</td></tr><tr><td>Ram-M14</td><td>Ram</td><td>86</td></tr><tr><td>Nis-M262</td><td>Nis</td><td>87</td></tr><tr><td>Tat-M194</td><td>Tat</td><td>88</td></tr><tr><td>Aud-M238</td><td>Aud</td><td>89</td></tr><tr><td>MG-M251</td><td>MG</td><td>90</td></tr><tr><td>Jee-M254</td><td>Jee</td><td>91</td></tr><tr><td>Riv-M91</td><td>Riv</td><td>92</td></tr><tr><td>Che-M49</td><td>Che</td><td>93</td></tr><tr><td>Toy-M105</td><td>Toy</td><td>94</td></tr><tr><td>Hyu-M159</td><td>Hyu</td><td>95</td></tr><tr><td>Vol-M255</td><td>Vol</td><td>96</td></tr><tr><td>Tat-M188</td><td>Tat</td><td>97</td></tr><tr><td>BMW-M4</td><td>BMW</td><td>98</td></tr><tr><td>Toy-M200</td><td>Toy</td><td>99</td></tr><tr><td>Toy-M103</td><td>Toy</td><td>100</td></tr><tr><td>BMW-M247</td><td>BMW</td><td>101</td></tr><tr><td>Mah-M176</td><td>Mah</td><td>102</td></tr><tr><td>For-M221</td><td>For</td><td>103</td></tr><tr><td>Nis-M266</td><td>Nis</td><td>104</td></tr><tr><td>For-M17</td><td>For</td><td>105</td></tr><tr><td>Hyu-M154</td><td>Hyu</td><td>106</td></tr><tr><td>Mer-M7</td><td>Mer</td><td>107</td></tr><tr><td>Tes-M96</td><td>Tes</td><td>108</td></tr><tr><td>Lin-M30</td><td>Lin</td><td>109</td></tr><tr><td>Hon-M218</td><td>Hon</td><td>110</td></tr><tr><td>Vol-M108</td><td>Vol</td><td>111</td></tr><tr><td>Mah-M165</td><td>Mah</td><td>112</td></tr><tr><td>Hon-M66</td><td>Hon</td><td>113</td></tr><tr><td>Toy-M202</td><td>Toy</td><td>114</td></tr><tr><td>Cad-M36</td><td>Cad</td><td>115</td></tr><tr><td>Sub-M95</td><td>Sub</td><td>116</td></tr><tr><td>Tat-M181</td><td>Tat</td><td>117</td></tr><tr><td>Cad-M32</td><td>Cad</td><td>118</td></tr><tr><td>Hyu-M73</td><td>Hyu</td><td>119</td></tr><tr><td>Nis-M267</td><td>Nis</td><td>120</td></tr><tr><td>GMC-M53</td><td>GMC</td><td>121</td></tr><tr><td>Che-M40</td><td>Che</td><td>122</td></tr><tr><td>Che-M50</td><td>Che</td><td>123</td></tr><tr><td>Mar-M152</td><td>Mar</td><td>124</td></tr><tr><td>Cad-M38</td><td>Cad</td><td>125</td></tr><tr><td>Che-M41</td><td>Che</td><td>126</td></tr><tr><td>Vol-M257</td><td>Vol</td><td>127</td></tr><tr><td>For-M225</td><td>For</td><td>128</td></tr><tr><td>For-M223</td><td>For</td><td>129</td></tr><tr><td>Ren-M131</td><td>Ren</td><td>130</td></tr><tr><td>Che-M43</td><td>Che</td><td>131</td></tr><tr><td>Mah-M166</td><td>Mah</td><td>132</td></tr><tr><td>Mar-M151</td><td>Mar</td><td>133</td></tr><tr><td>Sub-M93</td><td>Sub</td><td>134</td></tr><tr><td>GMC-M57</td><td>GMC</td><td>135</td></tr><tr><td>Agr-M112</td><td>Agr</td><td>136</td></tr><tr><td>Mar-M138</td><td>Mar</td><td>137</td></tr><tr><td>Mar-M149</td><td>Mar</td><td>138</td></tr><tr><td>Che-M47</td><td>Che</td><td>139</td></tr><tr><td>Toy-M204</td><td>Toy</td><td>140</td></tr><tr><td>Cad-M39</td><td>Cad</td><td>141</td></tr><tr><td>Cad-M33</td><td>Cad</td><td>142</td></tr><tr><td>Hyu-M160</td><td>Hyu</td><td>143</td></tr><tr><td>Mah-M171</td><td>Mah</td><td>144</td></tr><tr><td>Tat-M184</td><td>Tat</td><td>145</td></tr><tr><td>Agr-M111</td><td>Agr</td><td>146</td></tr><tr><td>Lin-M27</td><td>Lin</td><td>147</td></tr><tr><td>Ren-M211</td><td>Ren</td><td>148</td></tr><tr><td>Nis-M265</td><td>Nis</td><td>149</td></tr><tr><td>Tat-M193</td><td>Tat</td><td>150</td></tr><tr><td>Che-M44</td><td>Che</td><td>151</td></tr><tr><td>Aud-M231</td><td>Aud</td><td>152</td></tr><tr><td>Ren-M208</td><td>Ren</td><td>153</td></tr><tr><td>MG-M252</td><td>MG</td><td>154</td></tr><tr><td>Tat-M182</td><td>Tat</td><td>155</td></tr><tr><td>GMC-M56</td><td>GMC</td><td>156</td></tr><tr><td>Mar-M141</td><td>Mar</td><td>157</td></tr><tr><td>Hyu-M164</td><td>Hyu</td><td>158</td></tr><tr><td>Peu-M125</td><td>Peu</td><td>159</td></tr><tr><td>Nis-M263</td><td>Nis</td><td>160</td></tr><tr><td>Hyu-M72</td><td>Hyu</td><td>161</td></tr><tr><td>Mit-M277</td><td>Mit</td><td>162</td></tr><tr><td>Toy-M101</td><td>Toy</td><td>163</td></tr><tr><td>For-M22</td><td>For</td><td>164</td></tr><tr><td>BMW-M248</td><td>BMW</td><td>165</td></tr><tr><td>Nis-M84</td><td>Nis</td><td>166</td></tr><tr><td>Mar-M150</td><td>Mar</td><td>167</td></tr><tr><td>Mar-M143</td><td>Mar</td><td>168</td></tr><tr><td>BMW-M246</td><td>BMW</td><td>169</td></tr><tr><td>Cad-M37</td><td>Cad</td><td>170</td></tr><tr><td>Nis-M268</td><td>Nis</td><td>171</td></tr><tr><td>Kia-M76</td><td>Kia</td><td>172</td></tr><tr><td>Aud-M228</td><td>Aud</td><td>173</td></tr><tr><td>Peu-M126</td><td>Peu</td><td>174</td></tr><tr><td>Tes-M97</td><td>Tes</td><td>175</td></tr><tr><td>Mah-M175</td><td>Mah</td><td>176</td></tr><tr><td>Hyu-M156</td><td>Hyu</td><td>177</td></tr><tr><td>Lin-M28</td><td>Lin</td><td>178</td></tr><tr><td>Toy-M107</td><td>Toy</td><td>179</td></tr><tr><td>Sub-M92</td><td>Sub</td><td>180</td></tr><tr><td>Che-M48</td><td>Che</td><td>181</td></tr><tr><td>For-M26</td><td>For</td><td>182</td></tr><tr><td>Vol-M135</td><td>Vol</td><td>183</td></tr><tr><td>Tat-M187</td><td>Tat</td><td>184</td></tr><tr><td>Hon-M120</td><td>Hon</td><td>185</td></tr><tr><td>Hyu-M163</td><td>Hyu</td><td>186</td></tr><tr><td>Mah-M177</td><td>Mah</td><td>187</td></tr><tr><td>Tat-M192</td><td>Tat</td><td>188</td></tr><tr><td>Kia-M77</td><td>Kia</td><td>189</td></tr><tr><td>Toy-M196</td><td>Toy</td><td>190</td></tr><tr><td>GMC-M58</td><td>GMC</td><td>191</td></tr><tr><td>Mah-M167</td><td>Mah</td><td>192</td></tr><tr><td>BMW-M5</td><td>BMW</td><td>193</td></tr><tr><td>BMW-M249</td><td>BMW</td><td>194</td></tr><tr><td>Mah-M172</td><td>Mah</td><td>195</td></tr><tr><td>Sub-M94</td><td>Sub</td><td>196</td></tr><tr><td>Tat-M180</td><td>Tat</td><td>197</td></tr><tr><td>For-M25</td><td>For</td><td>198</td></tr><tr><td>Che-M42</td><td>Che</td><td>199</td></tr><tr><td>Mer-M123</td><td>Mer</td><td>200</td></tr><tr><td>Peu-M124</td><td>Peu</td><td>201</td></tr><tr><td>Dod-M9</td><td>Dod</td><td>202</td></tr><tr><td>Mar-M140</td><td>Mar</td><td>203</td></tr><tr><td>For-M119</td><td>For</td><td>204</td></tr><tr><td>Tes-M98</td><td>Tes</td><td>205</td></tr><tr><td>Toy-M205</td><td>Toy</td><td>206</td></tr><tr><td>Ren-M129</td><td>Ren</td><td>207</td></tr><tr><td>Aud-M237</td><td>Aud</td><td>208</td></tr><tr><td>Toy-M133</td><td>Toy</td><td>209</td></tr><tr><td>Nis-M82</td><td>Nis</td><td>210</td></tr><tr><td>Tat-M183</td><td>Tat</td><td>211</td></tr><tr><td>Che-M51</td><td>Che</td><td>212</td></tr><tr><td>Jee-M11</td><td>Jee</td><td>213</td></tr><tr><td>Ren-M128</td><td>Ren</td><td>214</td></tr><tr><td>Cad-M34</td><td>Cad</td><td>215</td></tr><tr><td>Che-M46</td><td>Che</td><td>216</td></tr><tr><td>Ren-M127</td><td>Ren</td><td>217</td></tr><tr><td>Agr-M113</td><td>Agr</td><td>218</td></tr><tr><td>Toy-M199</td><td>Toy</td><td>219</td></tr><tr><td>Mar-M145</td><td>Mar</td><td>220</td></tr><tr><td>Sko-M273</td><td>Sko</td><td>221</td></tr><tr><td>Nis-M270</td><td>Nis</td><td>222</td></tr><tr><td>Aud-M235</td><td>Aud</td><td>223</td></tr><tr><td>Cad-M35</td><td>Cad</td><td>224</td></tr><tr><td>Mer-M8</td><td>Mer</td><td>225</td></tr><tr><td>For-M23</td><td>For</td><td>226</td></tr><tr><td>Aud-M236</td><td>Aud</td><td>227</td></tr><tr><td>Lex-M99</td><td>Lex</td><td>228</td></tr><tr><td>Ren-M209</td><td>Ren</td><td>229</td></tr><tr><td>Kia-M78</td><td>Kia</td><td>230</td></tr><tr><td>BMW-M3</td><td>BMW</td><td>231</td></tr><tr><td>Mah-M169</td><td>Mah</td><td>232</td></tr><tr><td>For-M16</td><td>For</td><td>233</td></tr><tr><td>Nis-M80</td><td>Nis</td><td>234</td></tr><tr><td>Toy-M201</td><td>Toy</td><td>235</td></tr><tr><td>Che-M45</td><td>Che</td><td>236</td></tr><tr><td>Mit-M275</td><td>Mit</td><td>237</td></tr><tr><td>Toy-M197</td><td>Toy</td><td>238</td></tr><tr><td>Tat-M190</td><td>Tat</td><td>239</td></tr><tr><td>Hon-M65</td><td>Hon</td><td>240</td></tr><tr><td>Toy-M102</td><td>Toy</td><td>241</td></tr><tr><td>Hon-M67</td><td>Hon</td><td>242</td></tr><tr><td>Sko-M274</td><td>Sko</td><td>243</td></tr><tr><td>Mah-M168</td><td>Mah</td><td>244</td></tr><tr><td>Mer-M6</td><td>Mer</td><td>245</td></tr><tr><td>Ren-M207</td><td>Ren</td><td>246</td></tr><tr><td>Hon-M68</td><td>Hon</td><td>247</td></tr><tr><td>Hon-M69</td><td>Hon</td><td>248</td></tr><tr><td>Mar-M144</td><td>Mar</td><td>249</td></tr><tr><td>Kia-M214</td><td>Kia</td><td>250</td></tr><tr><td>Sko-M272</td><td>Sko</td><td>251</td></tr><tr><td>Mit-M276</td><td>Mit</td><td>252</td></tr><tr><td>Mar-M148</td><td>Mar</td><td>253</td></tr><tr><td>For-M24</td><td>For</td><td>254</td></tr><tr><td>Mah-M170</td><td>Mah</td><td>255</td></tr><tr><td>Acu-M62</td><td>Acu</td><td>256</td></tr><tr><td>Hyu-M162</td><td>Hyu</td><td>257</td></tr><tr><td>Hyu-M155</td><td>Hyu</td><td>258</td></tr><tr><td>Ren-M210</td><td>Ren</td><td>259</td></tr><tr><td>Aud-M229</td><td>Aud</td><td>260</td></tr><tr><td>Tat-M185</td><td>Tat</td><td>261</td></tr><tr><td>Vol-M109</td><td>Vol</td><td>262</td></tr><tr><td>Mar-M147</td><td>Mar</td><td>263</td></tr><tr><td>Hyu-M153</td><td>Hyu</td><td>264</td></tr><tr><td>For-M224</td><td>For</td><td>265</td></tr><tr><td>Nis-M89</td><td>Nis</td><td>266</td></tr><tr><td>Riv-M90</td><td>Riv</td><td>267</td></tr><tr><td>Mar-M139</td><td>Mar</td><td>268</td></tr><tr><td>Jee-M13</td><td>Jee</td><td>269</td></tr><tr><td>Tat-M189</td><td>Tat</td><td>270</td></tr><tr><td>Toy-M134</td><td>Toy</td><td>271</td></tr><tr><td>Mah-M174</td><td>Mah</td><td>272</td></tr><tr><td>Aud-M230</td><td>Aud</td><td>273</td></tr><tr><td>Toy-M195</td><td>Toy</td><td>274</td></tr><tr><td>Fia-M117</td><td>Fia</td><td>275</td></tr><tr><td>For-M222</td><td>For</td><td>276</td></tr><tr><td>Tat-M186</td><td>Tat</td><td>277</td></tr></tbody></table></div>"
      ]
     },
     "metadata": {
      "application/vnd.databricks.v1+output": {
       "addedWidgets": {},
       "aggData": [],
       "aggError": "",
       "aggOverflow": false,
       "aggSchema": [],
       "aggSeriesLimitReached": false,
       "aggType": "",
       "arguments": {},
       "columnCustomDisplayInfos": {},
       "data": [
        [
         "Hon-M220",
         "Hon",
         1
        ],
        [
         "Hon-M215",
         "Hon",
         2
        ],
        [
         "Vol-M110",
         "Vol",
         3
        ],
        [
         "Vol-M260",
         "Vol",
         4
        ],
        [
         "Bui-M31",
         "Bui",
         5
        ],
        [
         "BMW-M2",
         "BMW",
         6
        ],
        [
         "Acu-M60",
         "Acu",
         7
        ],
        [
         "Hyu-M157",
         "Hyu",
         8
        ],
        [
         "Ren-M130",
         "Ren",
         9
        ],
        [
         "Lin-M29",
         "Lin",
         10
        ],
        [
         "Tat-M179",
         "Tat",
         11
        ],
        [
         "Aud-M227",
         "Aud",
         12
        ],
        [
         "Aud-M234",
         "Aud",
         13
        ],
        [
         "Mar-M142",
         "Mar",
         14
        ],
        [
         "Kia-M212",
         "Kia",
         15
        ],
        [
         "Toy-M198",
         "Toy",
         16
        ],
        [
         "For-M20",
         "For",
         17
        ],
        [
         "Mah-M178",
         "Mah",
         18
        ],
        [
         "Hyu-M161",
         "Hyu",
         19
        ],
        [
         "Nis-M86",
         "Nis",
         20
        ],
        [
         "Hon-M217",
         "Hon",
         21
        ],
        [
         "BMW-M1",
         "BMW",
         22
        ],
        [
         "Vol-M256",
         "Vol",
         23
        ],
        [
         "Nis-M264",
         "Nis",
         24
        ],
        [
         "Hyu-M158",
         "Hyu",
         25
        ],
        [
         "Vol-M136",
         "Vol",
         26
        ],
        [
         "Toy-M100",
         "Toy",
         27
        ],
        [
         "Hyu-M74",
         "Hyu",
         28
        ],
        [
         "Aud-M240",
         "Aud",
         29
        ],
        [
         "Nis-M85",
         "Nis",
         30
        ],
        [
         "Nis-M269",
         "Nis",
         31
        ],
        [
         "BMW-M250",
         "BMW",
         32
        ],
        [
         "Toy-M203",
         "Toy",
         33
        ],
        [
         "Kia-M213",
         "Kia",
         34
        ],
        [
         "Che-M114",
         "Che",
         35
        ],
        [
         "Nis-M83",
         "Nis",
         36
        ],
        [
         "Fia-M118",
         "Fia",
         37
        ],
        [
         "For-M18",
         "For",
         38
        ],
        [
         "Toy-M104",
         "Toy",
         39
        ],
        [
         "Mer-M122",
         "Mer",
         40
        ],
        [
         "Cit-M116",
         "Cit",
         41
        ],
        [
         "Nis-M261",
         "Nis",
         42
        ],
        [
         "Mah-M173",
         "Mah",
         43
        ],
        [
         "Mer-M121",
         "Mer",
         44
        ],
        [
         "BMW-M243",
         "BMW",
         45
        ],
        [
         "Nis-M87",
         "Nis",
         46
        ],
        [
         "Toy-M206",
         "Toy",
         47
        ],
        [
         "Hon-M64",
         "Hon",
         48
        ],
        [
         "Vol-M258",
         "Vol",
         49
        ],
        [
         "For-M19",
         "For",
         50
        ],
        [
         "Hon-M219",
         "Hon",
         51
        ],
        [
         "GMC-M55",
         "GMC",
         52
        ],
        [
         "Inf-M79",
         "Inf",
         53
        ],
        [
         "Jee-M253",
         "Jee",
         54
        ],
        [
         "Hon-M70",
         "Hon",
         55
        ],
        [
         "GMC-M54",
         "GMC",
         56
        ],
        [
         "Jee-M12",
         "Jee",
         57
        ],
        [
         "Hon-M71",
         "Hon",
         58
        ],
        [
         "Mar-M137",
         "Mar",
         59
        ],
        [
         "Nis-M81",
         "Nis",
         60
        ],
        [
         "Aud-M232",
         "Aud",
         61
        ],
        [
         "Hyu-M75",
         "Hyu",
         62
        ],
        [
         "Acu-M61",
         "Acu",
         63
        ],
        [
         "For-M226",
         "For",
         64
        ],
        [
         "Cit-M115",
         "Cit",
         65
        ],
        [
         "BMW-M244",
         "BMW",
         66
        ],
        [
         "Hon-M216",
         "Hon",
         67
        ],
        [
         "Toy-M106",
         "Toy",
         68
        ],
        [
         "Ren-M132",
         "Ren",
         69
        ],
        [
         "Tat-M191",
         "Tat",
         70
        ],
        [
         "For-M21",
         "For",
         71
        ],
        [
         "Acu-M63",
         "Acu",
         72
        ],
        [
         "Acu-M59",
         "Acu",
         73
        ],
        [
         "Ram-M15",
         "Ram",
         74
        ],
        [
         "Nis-M88",
         "Nis",
         75
        ],
        [
         "BMW-M242",
         "BMW",
         76
        ],
        [
         "GMC-M52",
         "GMC",
         77
        ],
        [
         "Mar-M146",
         "Mar",
         78
        ],
        [
         "Aud-M239",
         "Aud",
         79
        ],
        [
         "Jee-M10",
         "Jee",
         80
        ],
        [
         "Aud-M233",
         "Aud",
         81
        ],
        [
         "Sko-M271",
         "Sko",
         82
        ],
        [
         "BMW-M245",
         "BMW",
         83
        ],
        [
         "Aud-M241",
         "Aud",
         84
        ],
        [
         "Vol-M259",
         "Vol",
         85
        ],
        [
         "Ram-M14",
         "Ram",
         86
        ],
        [
         "Nis-M262",
         "Nis",
         87
        ],
        [
         "Tat-M194",
         "Tat",
         88
        ],
        [
         "Aud-M238",
         "Aud",
         89
        ],
        [
         "MG-M251",
         "MG",
         90
        ],
        [
         "Jee-M254",
         "Jee",
         91
        ],
        [
         "Riv-M91",
         "Riv",
         92
        ],
        [
         "Che-M49",
         "Che",
         93
        ],
        [
         "Toy-M105",
         "Toy",
         94
        ],
        [
         "Hyu-M159",
         "Hyu",
         95
        ],
        [
         "Vol-M255",
         "Vol",
         96
        ],
        [
         "Tat-M188",
         "Tat",
         97
        ],
        [
         "BMW-M4",
         "BMW",
         98
        ],
        [
         "Toy-M200",
         "Toy",
         99
        ],
        [
         "Toy-M103",
         "Toy",
         100
        ],
        [
         "BMW-M247",
         "BMW",
         101
        ],
        [
         "Mah-M176",
         "Mah",
         102
        ],
        [
         "For-M221",
         "For",
         103
        ],
        [
         "Nis-M266",
         "Nis",
         104
        ],
        [
         "For-M17",
         "For",
         105
        ],
        [
         "Hyu-M154",
         "Hyu",
         106
        ],
        [
         "Mer-M7",
         "Mer",
         107
        ],
        [
         "Tes-M96",
         "Tes",
         108
        ],
        [
         "Lin-M30",
         "Lin",
         109
        ],
        [
         "Hon-M218",
         "Hon",
         110
        ],
        [
         "Vol-M108",
         "Vol",
         111
        ],
        [
         "Mah-M165",
         "Mah",
         112
        ],
        [
         "Hon-M66",
         "Hon",
         113
        ],
        [
         "Toy-M202",
         "Toy",
         114
        ],
        [
         "Cad-M36",
         "Cad",
         115
        ],
        [
         "Sub-M95",
         "Sub",
         116
        ],
        [
         "Tat-M181",
         "Tat",
         117
        ],
        [
         "Cad-M32",
         "Cad",
         118
        ],
        [
         "Hyu-M73",
         "Hyu",
         119
        ],
        [
         "Nis-M267",
         "Nis",
         120
        ],
        [
         "GMC-M53",
         "GMC",
         121
        ],
        [
         "Che-M40",
         "Che",
         122
        ],
        [
         "Che-M50",
         "Che",
         123
        ],
        [
         "Mar-M152",
         "Mar",
         124
        ],
        [
         "Cad-M38",
         "Cad",
         125
        ],
        [
         "Che-M41",
         "Che",
         126
        ],
        [
         "Vol-M257",
         "Vol",
         127
        ],
        [
         "For-M225",
         "For",
         128
        ],
        [
         "For-M223",
         "For",
         129
        ],
        [
         "Ren-M131",
         "Ren",
         130
        ],
        [
         "Che-M43",
         "Che",
         131
        ],
        [
         "Mah-M166",
         "Mah",
         132
        ],
        [
         "Mar-M151",
         "Mar",
         133
        ],
        [
         "Sub-M93",
         "Sub",
         134
        ],
        [
         "GMC-M57",
         "GMC",
         135
        ],
        [
         "Agr-M112",
         "Agr",
         136
        ],
        [
         "Mar-M138",
         "Mar",
         137
        ],
        [
         "Mar-M149",
         "Mar",
         138
        ],
        [
         "Che-M47",
         "Che",
         139
        ],
        [
         "Toy-M204",
         "Toy",
         140
        ],
        [
         "Cad-M39",
         "Cad",
         141
        ],
        [
         "Cad-M33",
         "Cad",
         142
        ],
        [
         "Hyu-M160",
         "Hyu",
         143
        ],
        [
         "Mah-M171",
         "Mah",
         144
        ],
        [
         "Tat-M184",
         "Tat",
         145
        ],
        [
         "Agr-M111",
         "Agr",
         146
        ],
        [
         "Lin-M27",
         "Lin",
         147
        ],
        [
         "Ren-M211",
         "Ren",
         148
        ],
        [
         "Nis-M265",
         "Nis",
         149
        ],
        [
         "Tat-M193",
         "Tat",
         150
        ],
        [
         "Che-M44",
         "Che",
         151
        ],
        [
         "Aud-M231",
         "Aud",
         152
        ],
        [
         "Ren-M208",
         "Ren",
         153
        ],
        [
         "MG-M252",
         "MG",
         154
        ],
        [
         "Tat-M182",
         "Tat",
         155
        ],
        [
         "GMC-M56",
         "GMC",
         156
        ],
        [
         "Mar-M141",
         "Mar",
         157
        ],
        [
         "Hyu-M164",
         "Hyu",
         158
        ],
        [
         "Peu-M125",
         "Peu",
         159
        ],
        [
         "Nis-M263",
         "Nis",
         160
        ],
        [
         "Hyu-M72",
         "Hyu",
         161
        ],
        [
         "Mit-M277",
         "Mit",
         162
        ],
        [
         "Toy-M101",
         "Toy",
         163
        ],
        [
         "For-M22",
         "For",
         164
        ],
        [
         "BMW-M248",
         "BMW",
         165
        ],
        [
         "Nis-M84",
         "Nis",
         166
        ],
        [
         "Mar-M150",
         "Mar",
         167
        ],
        [
         "Mar-M143",
         "Mar",
         168
        ],
        [
         "BMW-M246",
         "BMW",
         169
        ],
        [
         "Cad-M37",
         "Cad",
         170
        ],
        [
         "Nis-M268",
         "Nis",
         171
        ],
        [
         "Kia-M76",
         "Kia",
         172
        ],
        [
         "Aud-M228",
         "Aud",
         173
        ],
        [
         "Peu-M126",
         "Peu",
         174
        ],
        [
         "Tes-M97",
         "Tes",
         175
        ],
        [
         "Mah-M175",
         "Mah",
         176
        ],
        [
         "Hyu-M156",
         "Hyu",
         177
        ],
        [
         "Lin-M28",
         "Lin",
         178
        ],
        [
         "Toy-M107",
         "Toy",
         179
        ],
        [
         "Sub-M92",
         "Sub",
         180
        ],
        [
         "Che-M48",
         "Che",
         181
        ],
        [
         "For-M26",
         "For",
         182
        ],
        [
         "Vol-M135",
         "Vol",
         183
        ],
        [
         "Tat-M187",
         "Tat",
         184
        ],
        [
         "Hon-M120",
         "Hon",
         185
        ],
        [
         "Hyu-M163",
         "Hyu",
         186
        ],
        [
         "Mah-M177",
         "Mah",
         187
        ],
        [
         "Tat-M192",
         "Tat",
         188
        ],
        [
         "Kia-M77",
         "Kia",
         189
        ],
        [
         "Toy-M196",
         "Toy",
         190
        ],
        [
         "GMC-M58",
         "GMC",
         191
        ],
        [
         "Mah-M167",
         "Mah",
         192
        ],
        [
         "BMW-M5",
         "BMW",
         193
        ],
        [
         "BMW-M249",
         "BMW",
         194
        ],
        [
         "Mah-M172",
         "Mah",
         195
        ],
        [
         "Sub-M94",
         "Sub",
         196
        ],
        [
         "Tat-M180",
         "Tat",
         197
        ],
        [
         "For-M25",
         "For",
         198
        ],
        [
         "Che-M42",
         "Che",
         199
        ],
        [
         "Mer-M123",
         "Mer",
         200
        ],
        [
         "Peu-M124",
         "Peu",
         201
        ],
        [
         "Dod-M9",
         "Dod",
         202
        ],
        [
         "Mar-M140",
         "Mar",
         203
        ],
        [
         "For-M119",
         "For",
         204
        ],
        [
         "Tes-M98",
         "Tes",
         205
        ],
        [
         "Toy-M205",
         "Toy",
         206
        ],
        [
         "Ren-M129",
         "Ren",
         207
        ],
        [
         "Aud-M237",
         "Aud",
         208
        ],
        [
         "Toy-M133",
         "Toy",
         209
        ],
        [
         "Nis-M82",
         "Nis",
         210
        ],
        [
         "Tat-M183",
         "Tat",
         211
        ],
        [
         "Che-M51",
         "Che",
         212
        ],
        [
         "Jee-M11",
         "Jee",
         213
        ],
        [
         "Ren-M128",
         "Ren",
         214
        ],
        [
         "Cad-M34",
         "Cad",
         215
        ],
        [
         "Che-M46",
         "Che",
         216
        ],
        [
         "Ren-M127",
         "Ren",
         217
        ],
        [
         "Agr-M113",
         "Agr",
         218
        ],
        [
         "Toy-M199",
         "Toy",
         219
        ],
        [
         "Mar-M145",
         "Mar",
         220
        ],
        [
         "Sko-M273",
         "Sko",
         221
        ],
        [
         "Nis-M270",
         "Nis",
         222
        ],
        [
         "Aud-M235",
         "Aud",
         223
        ],
        [
         "Cad-M35",
         "Cad",
         224
        ],
        [
         "Mer-M8",
         "Mer",
         225
        ],
        [
         "For-M23",
         "For",
         226
        ],
        [
         "Aud-M236",
         "Aud",
         227
        ],
        [
         "Lex-M99",
         "Lex",
         228
        ],
        [
         "Ren-M209",
         "Ren",
         229
        ],
        [
         "Kia-M78",
         "Kia",
         230
        ],
        [
         "BMW-M3",
         "BMW",
         231
        ],
        [
         "Mah-M169",
         "Mah",
         232
        ],
        [
         "For-M16",
         "For",
         233
        ],
        [
         "Nis-M80",
         "Nis",
         234
        ],
        [
         "Toy-M201",
         "Toy",
         235
        ],
        [
         "Che-M45",
         "Che",
         236
        ],
        [
         "Mit-M275",
         "Mit",
         237
        ],
        [
         "Toy-M197",
         "Toy",
         238
        ],
        [
         "Tat-M190",
         "Tat",
         239
        ],
        [
         "Hon-M65",
         "Hon",
         240
        ],
        [
         "Toy-M102",
         "Toy",
         241
        ],
        [
         "Hon-M67",
         "Hon",
         242
        ],
        [
         "Sko-M274",
         "Sko",
         243
        ],
        [
         "Mah-M168",
         "Mah",
         244
        ],
        [
         "Mer-M6",
         "Mer",
         245
        ],
        [
         "Ren-M207",
         "Ren",
         246
        ],
        [
         "Hon-M68",
         "Hon",
         247
        ],
        [
         "Hon-M69",
         "Hon",
         248
        ],
        [
         "Mar-M144",
         "Mar",
         249
        ],
        [
         "Kia-M214",
         "Kia",
         250
        ],
        [
         "Sko-M272",
         "Sko",
         251
        ],
        [
         "Mit-M276",
         "Mit",
         252
        ],
        [
         "Mar-M148",
         "Mar",
         253
        ],
        [
         "For-M24",
         "For",
         254
        ],
        [
         "Mah-M170",
         "Mah",
         255
        ],
        [
         "Acu-M62",
         "Acu",
         256
        ],
        [
         "Hyu-M162",
         "Hyu",
         257
        ],
        [
         "Hyu-M155",
         "Hyu",
         258
        ],
        [
         "Ren-M210",
         "Ren",
         259
        ],
        [
         "Aud-M229",
         "Aud",
         260
        ],
        [
         "Tat-M185",
         "Tat",
         261
        ],
        [
         "Vol-M109",
         "Vol",
         262
        ],
        [
         "Mar-M147",
         "Mar",
         263
        ],
        [
         "Hyu-M153",
         "Hyu",
         264
        ],
        [
         "For-M224",
         "For",
         265
        ],
        [
         "Nis-M89",
         "Nis",
         266
        ],
        [
         "Riv-M90",
         "Riv",
         267
        ],
        [
         "Mar-M139",
         "Mar",
         268
        ],
        [
         "Jee-M13",
         "Jee",
         269
        ],
        [
         "Tat-M189",
         "Tat",
         270
        ],
        [
         "Toy-M134",
         "Toy",
         271
        ],
        [
         "Mah-M174",
         "Mah",
         272
        ],
        [
         "Aud-M230",
         "Aud",
         273
        ],
        [
         "Toy-M195",
         "Toy",
         274
        ],
        [
         "Fia-M117",
         "Fia",
         275
        ],
        [
         "For-M222",
         "For",
         276
        ],
        [
         "Tat-M186",
         "Tat",
         277
        ]
       ],
       "datasetInfos": [],
       "dbfsResultPath": null,
       "isJsonSchema": true,
       "metadata": {},
       "overflow": false,
       "plotOptions": {
        "customPlotOptions": {},
        "displayType": "table",
        "pivotAggregation": null,
        "pivotColumns": null,
        "xColumns": null,
        "yColumns": null
       },
       "removedWidgets": [],
       "schema": [
        {
         "metadata": "{}",
         "name": "Model_ID",
         "type": "\"string\""
        },
        {
         "metadata": "{}",
         "name": "Model_category",
         "type": "\"string\""
        },
        {
         "metadata": "{}",
         "name": "dim_model_key",
         "type": "\"long\""
        }
       ],
       "type": "table"
      }
     },
     "output_type": "display_data"
    }
   ],
   "source": [
    "display(df_filter_new)"
   ]
  },
  {
   "cell_type": "markdown",
   "metadata": {
    "application/vnd.databricks.v1+cell": {
     "cellMetadata": {},
     "inputWidgets": {},
     "nuid": "c58f9941-6601-497e-899d-f5bb168ce551",
     "showTitle": false,
     "tableResultSettingsMap": {},
     "title": ""
    }
   },
   "source": [
    "#create final df"
   ]
  },
  {
   "cell_type": "code",
   "execution_count": 0,
   "metadata": {
    "application/vnd.databricks.v1+cell": {
     "cellMetadata": {
      "byteLimit": 2048000,
      "rowLimit": 10000
     },
     "inputWidgets": {},
     "nuid": "7362943d-6881-4da4-a489-005c02b8c1dd",
     "showTitle": false,
     "tableResultSettingsMap": {},
     "title": ""
    }
   },
   "outputs": [],
   "source": [
    "df_final=df_filter_new.union(df_filter_old)"
   ]
  },
  {
   "cell_type": "code",
   "execution_count": 0,
   "metadata": {
    "application/vnd.databricks.v1+cell": {
     "cellMetadata": {
      "byteLimit": 2048000,
      "rowLimit": 10000
     },
     "inputWidgets": {},
     "nuid": "17940293-c22a-4407-b271-98f1c4c74546",
     "showTitle": false,
     "tableResultSettingsMap": {},
     "title": ""
    }
   },
   "outputs": [
    {
     "output_type": "display_data",
     "data": {
      "text/html": [
       "<style scoped>\n",
       "  .table-result-container {\n",
       "    max-height: 300px;\n",
       "    overflow: auto;\n",
       "  }\n",
       "  table, th, td {\n",
       "    border: 1px solid black;\n",
       "    border-collapse: collapse;\n",
       "  }\n",
       "  th, td {\n",
       "    padding: 5px;\n",
       "  }\n",
       "  th {\n",
       "    text-align: left;\n",
       "  }\n",
       "</style><div class='table-result-container'><table class='table-result'><thead style='background-color: white'><tr><th>Model_ID</th><th>Model_category</th><th>dim_model_key</th></tr></thead><tbody><tr><td>Hon-M220</td><td>Hon</td><td>1</td></tr><tr><td>Hon-M215</td><td>Hon</td><td>2</td></tr><tr><td>Vol-M110</td><td>Vol</td><td>3</td></tr><tr><td>Vol-M260</td><td>Vol</td><td>4</td></tr><tr><td>Bui-M31</td><td>Bui</td><td>5</td></tr><tr><td>BMW-M2</td><td>BMW</td><td>6</td></tr><tr><td>Acu-M60</td><td>Acu</td><td>7</td></tr><tr><td>Hyu-M157</td><td>Hyu</td><td>8</td></tr><tr><td>Ren-M130</td><td>Ren</td><td>9</td></tr><tr><td>Lin-M29</td><td>Lin</td><td>10</td></tr><tr><td>Tat-M179</td><td>Tat</td><td>11</td></tr><tr><td>Aud-M227</td><td>Aud</td><td>12</td></tr><tr><td>Aud-M234</td><td>Aud</td><td>13</td></tr><tr><td>Mar-M142</td><td>Mar</td><td>14</td></tr><tr><td>Kia-M212</td><td>Kia</td><td>15</td></tr><tr><td>Toy-M198</td><td>Toy</td><td>16</td></tr><tr><td>For-M20</td><td>For</td><td>17</td></tr><tr><td>Mah-M178</td><td>Mah</td><td>18</td></tr><tr><td>Hyu-M161</td><td>Hyu</td><td>19</td></tr><tr><td>Nis-M86</td><td>Nis</td><td>20</td></tr><tr><td>Hon-M217</td><td>Hon</td><td>21</td></tr><tr><td>BMW-M1</td><td>BMW</td><td>22</td></tr><tr><td>Vol-M256</td><td>Vol</td><td>23</td></tr><tr><td>Nis-M264</td><td>Nis</td><td>24</td></tr><tr><td>Hyu-M158</td><td>Hyu</td><td>25</td></tr><tr><td>Vol-M136</td><td>Vol</td><td>26</td></tr><tr><td>Toy-M100</td><td>Toy</td><td>27</td></tr><tr><td>Hyu-M74</td><td>Hyu</td><td>28</td></tr><tr><td>Aud-M240</td><td>Aud</td><td>29</td></tr><tr><td>Nis-M85</td><td>Nis</td><td>30</td></tr><tr><td>Nis-M269</td><td>Nis</td><td>31</td></tr><tr><td>BMW-M250</td><td>BMW</td><td>32</td></tr><tr><td>Toy-M203</td><td>Toy</td><td>33</td></tr><tr><td>Kia-M213</td><td>Kia</td><td>34</td></tr><tr><td>Che-M114</td><td>Che</td><td>35</td></tr><tr><td>Nis-M83</td><td>Nis</td><td>36</td></tr><tr><td>Fia-M118</td><td>Fia</td><td>37</td></tr><tr><td>For-M18</td><td>For</td><td>38</td></tr><tr><td>Toy-M104</td><td>Toy</td><td>39</td></tr><tr><td>Mer-M122</td><td>Mer</td><td>40</td></tr><tr><td>Cit-M116</td><td>Cit</td><td>41</td></tr><tr><td>Nis-M261</td><td>Nis</td><td>42</td></tr><tr><td>Mah-M173</td><td>Mah</td><td>43</td></tr><tr><td>Mer-M121</td><td>Mer</td><td>44</td></tr><tr><td>BMW-M243</td><td>BMW</td><td>45</td></tr><tr><td>Nis-M87</td><td>Nis</td><td>46</td></tr><tr><td>Toy-M206</td><td>Toy</td><td>47</td></tr><tr><td>Hon-M64</td><td>Hon</td><td>48</td></tr><tr><td>Vol-M258</td><td>Vol</td><td>49</td></tr><tr><td>For-M19</td><td>For</td><td>50</td></tr><tr><td>Hon-M219</td><td>Hon</td><td>51</td></tr><tr><td>GMC-M55</td><td>GMC</td><td>52</td></tr><tr><td>Inf-M79</td><td>Inf</td><td>53</td></tr><tr><td>Jee-M253</td><td>Jee</td><td>54</td></tr><tr><td>Hon-M70</td><td>Hon</td><td>55</td></tr><tr><td>GMC-M54</td><td>GMC</td><td>56</td></tr><tr><td>Jee-M12</td><td>Jee</td><td>57</td></tr><tr><td>Hon-M71</td><td>Hon</td><td>58</td></tr><tr><td>Mar-M137</td><td>Mar</td><td>59</td></tr><tr><td>Nis-M81</td><td>Nis</td><td>60</td></tr><tr><td>Aud-M232</td><td>Aud</td><td>61</td></tr><tr><td>Hyu-M75</td><td>Hyu</td><td>62</td></tr><tr><td>Acu-M61</td><td>Acu</td><td>63</td></tr><tr><td>For-M226</td><td>For</td><td>64</td></tr><tr><td>Cit-M115</td><td>Cit</td><td>65</td></tr><tr><td>BMW-M244</td><td>BMW</td><td>66</td></tr><tr><td>Hon-M216</td><td>Hon</td><td>67</td></tr><tr><td>Toy-M106</td><td>Toy</td><td>68</td></tr><tr><td>Ren-M132</td><td>Ren</td><td>69</td></tr><tr><td>Tat-M191</td><td>Tat</td><td>70</td></tr><tr><td>For-M21</td><td>For</td><td>71</td></tr><tr><td>Acu-M63</td><td>Acu</td><td>72</td></tr><tr><td>Acu-M59</td><td>Acu</td><td>73</td></tr><tr><td>Ram-M15</td><td>Ram</td><td>74</td></tr><tr><td>Nis-M88</td><td>Nis</td><td>75</td></tr><tr><td>BMW-M242</td><td>BMW</td><td>76</td></tr><tr><td>GMC-M52</td><td>GMC</td><td>77</td></tr><tr><td>Mar-M146</td><td>Mar</td><td>78</td></tr><tr><td>Aud-M239</td><td>Aud</td><td>79</td></tr><tr><td>Jee-M10</td><td>Jee</td><td>80</td></tr><tr><td>Aud-M233</td><td>Aud</td><td>81</td></tr><tr><td>Sko-M271</td><td>Sko</td><td>82</td></tr><tr><td>BMW-M245</td><td>BMW</td><td>83</td></tr><tr><td>Aud-M241</td><td>Aud</td><td>84</td></tr><tr><td>Vol-M259</td><td>Vol</td><td>85</td></tr><tr><td>Ram-M14</td><td>Ram</td><td>86</td></tr><tr><td>Nis-M262</td><td>Nis</td><td>87</td></tr><tr><td>Tat-M194</td><td>Tat</td><td>88</td></tr><tr><td>Aud-M238</td><td>Aud</td><td>89</td></tr><tr><td>MG-M251</td><td>MG</td><td>90</td></tr><tr><td>Jee-M254</td><td>Jee</td><td>91</td></tr><tr><td>Riv-M91</td><td>Riv</td><td>92</td></tr><tr><td>Che-M49</td><td>Che</td><td>93</td></tr><tr><td>Toy-M105</td><td>Toy</td><td>94</td></tr><tr><td>Hyu-M159</td><td>Hyu</td><td>95</td></tr><tr><td>Vol-M255</td><td>Vol</td><td>96</td></tr><tr><td>Tat-M188</td><td>Tat</td><td>97</td></tr><tr><td>BMW-M4</td><td>BMW</td><td>98</td></tr><tr><td>Toy-M200</td><td>Toy</td><td>99</td></tr><tr><td>Toy-M103</td><td>Toy</td><td>100</td></tr><tr><td>BMW-M247</td><td>BMW</td><td>101</td></tr><tr><td>Mah-M176</td><td>Mah</td><td>102</td></tr><tr><td>For-M221</td><td>For</td><td>103</td></tr><tr><td>Nis-M266</td><td>Nis</td><td>104</td></tr><tr><td>For-M17</td><td>For</td><td>105</td></tr><tr><td>Hyu-M154</td><td>Hyu</td><td>106</td></tr><tr><td>Mer-M7</td><td>Mer</td><td>107</td></tr><tr><td>Tes-M96</td><td>Tes</td><td>108</td></tr><tr><td>Lin-M30</td><td>Lin</td><td>109</td></tr><tr><td>Hon-M218</td><td>Hon</td><td>110</td></tr><tr><td>Vol-M108</td><td>Vol</td><td>111</td></tr><tr><td>Mah-M165</td><td>Mah</td><td>112</td></tr><tr><td>Hon-M66</td><td>Hon</td><td>113</td></tr><tr><td>Toy-M202</td><td>Toy</td><td>114</td></tr><tr><td>Cad-M36</td><td>Cad</td><td>115</td></tr><tr><td>Sub-M95</td><td>Sub</td><td>116</td></tr><tr><td>Tat-M181</td><td>Tat</td><td>117</td></tr><tr><td>Cad-M32</td><td>Cad</td><td>118</td></tr><tr><td>Hyu-M73</td><td>Hyu</td><td>119</td></tr><tr><td>Nis-M267</td><td>Nis</td><td>120</td></tr><tr><td>GMC-M53</td><td>GMC</td><td>121</td></tr><tr><td>Che-M40</td><td>Che</td><td>122</td></tr><tr><td>Che-M50</td><td>Che</td><td>123</td></tr><tr><td>Mar-M152</td><td>Mar</td><td>124</td></tr><tr><td>Cad-M38</td><td>Cad</td><td>125</td></tr><tr><td>Che-M41</td><td>Che</td><td>126</td></tr><tr><td>Vol-M257</td><td>Vol</td><td>127</td></tr><tr><td>For-M225</td><td>For</td><td>128</td></tr><tr><td>For-M223</td><td>For</td><td>129</td></tr><tr><td>Ren-M131</td><td>Ren</td><td>130</td></tr><tr><td>Che-M43</td><td>Che</td><td>131</td></tr><tr><td>Mah-M166</td><td>Mah</td><td>132</td></tr><tr><td>Mar-M151</td><td>Mar</td><td>133</td></tr><tr><td>Sub-M93</td><td>Sub</td><td>134</td></tr><tr><td>GMC-M57</td><td>GMC</td><td>135</td></tr><tr><td>Agr-M112</td><td>Agr</td><td>136</td></tr><tr><td>Mar-M138</td><td>Mar</td><td>137</td></tr><tr><td>Mar-M149</td><td>Mar</td><td>138</td></tr><tr><td>Che-M47</td><td>Che</td><td>139</td></tr><tr><td>Toy-M204</td><td>Toy</td><td>140</td></tr><tr><td>Cad-M39</td><td>Cad</td><td>141</td></tr><tr><td>Cad-M33</td><td>Cad</td><td>142</td></tr><tr><td>Hyu-M160</td><td>Hyu</td><td>143</td></tr><tr><td>Mah-M171</td><td>Mah</td><td>144</td></tr><tr><td>Tat-M184</td><td>Tat</td><td>145</td></tr><tr><td>Agr-M111</td><td>Agr</td><td>146</td></tr><tr><td>Lin-M27</td><td>Lin</td><td>147</td></tr><tr><td>Ren-M211</td><td>Ren</td><td>148</td></tr><tr><td>Nis-M265</td><td>Nis</td><td>149</td></tr><tr><td>Tat-M193</td><td>Tat</td><td>150</td></tr><tr><td>Che-M44</td><td>Che</td><td>151</td></tr><tr><td>Aud-M231</td><td>Aud</td><td>152</td></tr><tr><td>Ren-M208</td><td>Ren</td><td>153</td></tr><tr><td>MG-M252</td><td>MG</td><td>154</td></tr><tr><td>Tat-M182</td><td>Tat</td><td>155</td></tr><tr><td>GMC-M56</td><td>GMC</td><td>156</td></tr><tr><td>Mar-M141</td><td>Mar</td><td>157</td></tr><tr><td>Hyu-M164</td><td>Hyu</td><td>158</td></tr><tr><td>Peu-M125</td><td>Peu</td><td>159</td></tr><tr><td>Nis-M263</td><td>Nis</td><td>160</td></tr><tr><td>Hyu-M72</td><td>Hyu</td><td>161</td></tr><tr><td>Mit-M277</td><td>Mit</td><td>162</td></tr><tr><td>Toy-M101</td><td>Toy</td><td>163</td></tr><tr><td>For-M22</td><td>For</td><td>164</td></tr><tr><td>BMW-M248</td><td>BMW</td><td>165</td></tr><tr><td>Nis-M84</td><td>Nis</td><td>166</td></tr><tr><td>Mar-M150</td><td>Mar</td><td>167</td></tr><tr><td>Mar-M143</td><td>Mar</td><td>168</td></tr><tr><td>BMW-M246</td><td>BMW</td><td>169</td></tr><tr><td>Cad-M37</td><td>Cad</td><td>170</td></tr><tr><td>Nis-M268</td><td>Nis</td><td>171</td></tr><tr><td>Kia-M76</td><td>Kia</td><td>172</td></tr><tr><td>Aud-M228</td><td>Aud</td><td>173</td></tr><tr><td>Peu-M126</td><td>Peu</td><td>174</td></tr><tr><td>Tes-M97</td><td>Tes</td><td>175</td></tr><tr><td>Mah-M175</td><td>Mah</td><td>176</td></tr><tr><td>Hyu-M156</td><td>Hyu</td><td>177</td></tr><tr><td>Lin-M28</td><td>Lin</td><td>178</td></tr><tr><td>Toy-M107</td><td>Toy</td><td>179</td></tr><tr><td>Sub-M92</td><td>Sub</td><td>180</td></tr><tr><td>Che-M48</td><td>Che</td><td>181</td></tr><tr><td>For-M26</td><td>For</td><td>182</td></tr><tr><td>Vol-M135</td><td>Vol</td><td>183</td></tr><tr><td>Tat-M187</td><td>Tat</td><td>184</td></tr><tr><td>Hon-M120</td><td>Hon</td><td>185</td></tr><tr><td>Hyu-M163</td><td>Hyu</td><td>186</td></tr><tr><td>Mah-M177</td><td>Mah</td><td>187</td></tr><tr><td>Tat-M192</td><td>Tat</td><td>188</td></tr><tr><td>Kia-M77</td><td>Kia</td><td>189</td></tr><tr><td>Toy-M196</td><td>Toy</td><td>190</td></tr><tr><td>GMC-M58</td><td>GMC</td><td>191</td></tr><tr><td>Mah-M167</td><td>Mah</td><td>192</td></tr><tr><td>BMW-M5</td><td>BMW</td><td>193</td></tr><tr><td>BMW-M249</td><td>BMW</td><td>194</td></tr><tr><td>Mah-M172</td><td>Mah</td><td>195</td></tr><tr><td>Sub-M94</td><td>Sub</td><td>196</td></tr><tr><td>Tat-M180</td><td>Tat</td><td>197</td></tr><tr><td>For-M25</td><td>For</td><td>198</td></tr><tr><td>Che-M42</td><td>Che</td><td>199</td></tr><tr><td>Mer-M123</td><td>Mer</td><td>200</td></tr><tr><td>Peu-M124</td><td>Peu</td><td>201</td></tr><tr><td>Dod-M9</td><td>Dod</td><td>202</td></tr><tr><td>Mar-M140</td><td>Mar</td><td>203</td></tr><tr><td>For-M119</td><td>For</td><td>204</td></tr><tr><td>Tes-M98</td><td>Tes</td><td>205</td></tr><tr><td>Toy-M205</td><td>Toy</td><td>206</td></tr><tr><td>Ren-M129</td><td>Ren</td><td>207</td></tr><tr><td>Aud-M237</td><td>Aud</td><td>208</td></tr><tr><td>Toy-M133</td><td>Toy</td><td>209</td></tr><tr><td>Nis-M82</td><td>Nis</td><td>210</td></tr><tr><td>Tat-M183</td><td>Tat</td><td>211</td></tr><tr><td>Che-M51</td><td>Che</td><td>212</td></tr><tr><td>Jee-M11</td><td>Jee</td><td>213</td></tr><tr><td>Ren-M128</td><td>Ren</td><td>214</td></tr><tr><td>Cad-M34</td><td>Cad</td><td>215</td></tr><tr><td>Che-M46</td><td>Che</td><td>216</td></tr><tr><td>Ren-M127</td><td>Ren</td><td>217</td></tr><tr><td>Agr-M113</td><td>Agr</td><td>218</td></tr><tr><td>Toy-M199</td><td>Toy</td><td>219</td></tr><tr><td>Mar-M145</td><td>Mar</td><td>220</td></tr><tr><td>Sko-M273</td><td>Sko</td><td>221</td></tr><tr><td>Nis-M270</td><td>Nis</td><td>222</td></tr><tr><td>Aud-M235</td><td>Aud</td><td>223</td></tr><tr><td>Cad-M35</td><td>Cad</td><td>224</td></tr><tr><td>Mer-M8</td><td>Mer</td><td>225</td></tr><tr><td>For-M23</td><td>For</td><td>226</td></tr><tr><td>Aud-M236</td><td>Aud</td><td>227</td></tr><tr><td>Lex-M99</td><td>Lex</td><td>228</td></tr><tr><td>Ren-M209</td><td>Ren</td><td>229</td></tr><tr><td>Kia-M78</td><td>Kia</td><td>230</td></tr><tr><td>BMW-M3</td><td>BMW</td><td>231</td></tr><tr><td>Mah-M169</td><td>Mah</td><td>232</td></tr><tr><td>For-M16</td><td>For</td><td>233</td></tr><tr><td>Nis-M80</td><td>Nis</td><td>234</td></tr><tr><td>Toy-M201</td><td>Toy</td><td>235</td></tr><tr><td>Che-M45</td><td>Che</td><td>236</td></tr><tr><td>Mit-M275</td><td>Mit</td><td>237</td></tr><tr><td>Toy-M197</td><td>Toy</td><td>238</td></tr><tr><td>Tat-M190</td><td>Tat</td><td>239</td></tr><tr><td>Hon-M65</td><td>Hon</td><td>240</td></tr><tr><td>Toy-M102</td><td>Toy</td><td>241</td></tr><tr><td>Hon-M67</td><td>Hon</td><td>242</td></tr><tr><td>Sko-M274</td><td>Sko</td><td>243</td></tr><tr><td>Mah-M168</td><td>Mah</td><td>244</td></tr><tr><td>Mer-M6</td><td>Mer</td><td>245</td></tr><tr><td>Ren-M207</td><td>Ren</td><td>246</td></tr><tr><td>Hon-M68</td><td>Hon</td><td>247</td></tr><tr><td>Hon-M69</td><td>Hon</td><td>248</td></tr><tr><td>Mar-M144</td><td>Mar</td><td>249</td></tr><tr><td>Kia-M214</td><td>Kia</td><td>250</td></tr><tr><td>Sko-M272</td><td>Sko</td><td>251</td></tr><tr><td>Mit-M276</td><td>Mit</td><td>252</td></tr><tr><td>Mar-M148</td><td>Mar</td><td>253</td></tr><tr><td>For-M24</td><td>For</td><td>254</td></tr><tr><td>Mah-M170</td><td>Mah</td><td>255</td></tr><tr><td>Acu-M62</td><td>Acu</td><td>256</td></tr><tr><td>Hyu-M162</td><td>Hyu</td><td>257</td></tr><tr><td>Hyu-M155</td><td>Hyu</td><td>258</td></tr><tr><td>Ren-M210</td><td>Ren</td><td>259</td></tr><tr><td>Aud-M229</td><td>Aud</td><td>260</td></tr><tr><td>Tat-M185</td><td>Tat</td><td>261</td></tr><tr><td>Vol-M109</td><td>Vol</td><td>262</td></tr><tr><td>Mar-M147</td><td>Mar</td><td>263</td></tr><tr><td>Hyu-M153</td><td>Hyu</td><td>264</td></tr><tr><td>For-M224</td><td>For</td><td>265</td></tr><tr><td>Nis-M89</td><td>Nis</td><td>266</td></tr><tr><td>Riv-M90</td><td>Riv</td><td>267</td></tr><tr><td>Mar-M139</td><td>Mar</td><td>268</td></tr><tr><td>Jee-M13</td><td>Jee</td><td>269</td></tr><tr><td>Tat-M189</td><td>Tat</td><td>270</td></tr><tr><td>Toy-M134</td><td>Toy</td><td>271</td></tr><tr><td>Mah-M174</td><td>Mah</td><td>272</td></tr><tr><td>Aud-M230</td><td>Aud</td><td>273</td></tr><tr><td>Toy-M195</td><td>Toy</td><td>274</td></tr><tr><td>Fia-M117</td><td>Fia</td><td>275</td></tr><tr><td>For-M222</td><td>For</td><td>276</td></tr><tr><td>Tat-M186</td><td>Tat</td><td>277</td></tr></tbody></table></div>"
      ]
     },
     "metadata": {
      "application/vnd.databricks.v1+output": {
       "addedWidgets": {},
       "aggData": [],
       "aggError": "",
       "aggOverflow": false,
       "aggSchema": [],
       "aggSeriesLimitReached": false,
       "aggType": "",
       "arguments": {},
       "columnCustomDisplayInfos": {},
       "data": [
        [
         "Hon-M220",
         "Hon",
         1
        ],
        [
         "Hon-M215",
         "Hon",
         2
        ],
        [
         "Vol-M110",
         "Vol",
         3
        ],
        [
         "Vol-M260",
         "Vol",
         4
        ],
        [
         "Bui-M31",
         "Bui",
         5
        ],
        [
         "BMW-M2",
         "BMW",
         6
        ],
        [
         "Acu-M60",
         "Acu",
         7
        ],
        [
         "Hyu-M157",
         "Hyu",
         8
        ],
        [
         "Ren-M130",
         "Ren",
         9
        ],
        [
         "Lin-M29",
         "Lin",
         10
        ],
        [
         "Tat-M179",
         "Tat",
         11
        ],
        [
         "Aud-M227",
         "Aud",
         12
        ],
        [
         "Aud-M234",
         "Aud",
         13
        ],
        [
         "Mar-M142",
         "Mar",
         14
        ],
        [
         "Kia-M212",
         "Kia",
         15
        ],
        [
         "Toy-M198",
         "Toy",
         16
        ],
        [
         "For-M20",
         "For",
         17
        ],
        [
         "Mah-M178",
         "Mah",
         18
        ],
        [
         "Hyu-M161",
         "Hyu",
         19
        ],
        [
         "Nis-M86",
         "Nis",
         20
        ],
        [
         "Hon-M217",
         "Hon",
         21
        ],
        [
         "BMW-M1",
         "BMW",
         22
        ],
        [
         "Vol-M256",
         "Vol",
         23
        ],
        [
         "Nis-M264",
         "Nis",
         24
        ],
        [
         "Hyu-M158",
         "Hyu",
         25
        ],
        [
         "Vol-M136",
         "Vol",
         26
        ],
        [
         "Toy-M100",
         "Toy",
         27
        ],
        [
         "Hyu-M74",
         "Hyu",
         28
        ],
        [
         "Aud-M240",
         "Aud",
         29
        ],
        [
         "Nis-M85",
         "Nis",
         30
        ],
        [
         "Nis-M269",
         "Nis",
         31
        ],
        [
         "BMW-M250",
         "BMW",
         32
        ],
        [
         "Toy-M203",
         "Toy",
         33
        ],
        [
         "Kia-M213",
         "Kia",
         34
        ],
        [
         "Che-M114",
         "Che",
         35
        ],
        [
         "Nis-M83",
         "Nis",
         36
        ],
        [
         "Fia-M118",
         "Fia",
         37
        ],
        [
         "For-M18",
         "For",
         38
        ],
        [
         "Toy-M104",
         "Toy",
         39
        ],
        [
         "Mer-M122",
         "Mer",
         40
        ],
        [
         "Cit-M116",
         "Cit",
         41
        ],
        [
         "Nis-M261",
         "Nis",
         42
        ],
        [
         "Mah-M173",
         "Mah",
         43
        ],
        [
         "Mer-M121",
         "Mer",
         44
        ],
        [
         "BMW-M243",
         "BMW",
         45
        ],
        [
         "Nis-M87",
         "Nis",
         46
        ],
        [
         "Toy-M206",
         "Toy",
         47
        ],
        [
         "Hon-M64",
         "Hon",
         48
        ],
        [
         "Vol-M258",
         "Vol",
         49
        ],
        [
         "For-M19",
         "For",
         50
        ],
        [
         "Hon-M219",
         "Hon",
         51
        ],
        [
         "GMC-M55",
         "GMC",
         52
        ],
        [
         "Inf-M79",
         "Inf",
         53
        ],
        [
         "Jee-M253",
         "Jee",
         54
        ],
        [
         "Hon-M70",
         "Hon",
         55
        ],
        [
         "GMC-M54",
         "GMC",
         56
        ],
        [
         "Jee-M12",
         "Jee",
         57
        ],
        [
         "Hon-M71",
         "Hon",
         58
        ],
        [
         "Mar-M137",
         "Mar",
         59
        ],
        [
         "Nis-M81",
         "Nis",
         60
        ],
        [
         "Aud-M232",
         "Aud",
         61
        ],
        [
         "Hyu-M75",
         "Hyu",
         62
        ],
        [
         "Acu-M61",
         "Acu",
         63
        ],
        [
         "For-M226",
         "For",
         64
        ],
        [
         "Cit-M115",
         "Cit",
         65
        ],
        [
         "BMW-M244",
         "BMW",
         66
        ],
        [
         "Hon-M216",
         "Hon",
         67
        ],
        [
         "Toy-M106",
         "Toy",
         68
        ],
        [
         "Ren-M132",
         "Ren",
         69
        ],
        [
         "Tat-M191",
         "Tat",
         70
        ],
        [
         "For-M21",
         "For",
         71
        ],
        [
         "Acu-M63",
         "Acu",
         72
        ],
        [
         "Acu-M59",
         "Acu",
         73
        ],
        [
         "Ram-M15",
         "Ram",
         74
        ],
        [
         "Nis-M88",
         "Nis",
         75
        ],
        [
         "BMW-M242",
         "BMW",
         76
        ],
        [
         "GMC-M52",
         "GMC",
         77
        ],
        [
         "Mar-M146",
         "Mar",
         78
        ],
        [
         "Aud-M239",
         "Aud",
         79
        ],
        [
         "Jee-M10",
         "Jee",
         80
        ],
        [
         "Aud-M233",
         "Aud",
         81
        ],
        [
         "Sko-M271",
         "Sko",
         82
        ],
        [
         "BMW-M245",
         "BMW",
         83
        ],
        [
         "Aud-M241",
         "Aud",
         84
        ],
        [
         "Vol-M259",
         "Vol",
         85
        ],
        [
         "Ram-M14",
         "Ram",
         86
        ],
        [
         "Nis-M262",
         "Nis",
         87
        ],
        [
         "Tat-M194",
         "Tat",
         88
        ],
        [
         "Aud-M238",
         "Aud",
         89
        ],
        [
         "MG-M251",
         "MG",
         90
        ],
        [
         "Jee-M254",
         "Jee",
         91
        ],
        [
         "Riv-M91",
         "Riv",
         92
        ],
        [
         "Che-M49",
         "Che",
         93
        ],
        [
         "Toy-M105",
         "Toy",
         94
        ],
        [
         "Hyu-M159",
         "Hyu",
         95
        ],
        [
         "Vol-M255",
         "Vol",
         96
        ],
        [
         "Tat-M188",
         "Tat",
         97
        ],
        [
         "BMW-M4",
         "BMW",
         98
        ],
        [
         "Toy-M200",
         "Toy",
         99
        ],
        [
         "Toy-M103",
         "Toy",
         100
        ],
        [
         "BMW-M247",
         "BMW",
         101
        ],
        [
         "Mah-M176",
         "Mah",
         102
        ],
        [
         "For-M221",
         "For",
         103
        ],
        [
         "Nis-M266",
         "Nis",
         104
        ],
        [
         "For-M17",
         "For",
         105
        ],
        [
         "Hyu-M154",
         "Hyu",
         106
        ],
        [
         "Mer-M7",
         "Mer",
         107
        ],
        [
         "Tes-M96",
         "Tes",
         108
        ],
        [
         "Lin-M30",
         "Lin",
         109
        ],
        [
         "Hon-M218",
         "Hon",
         110
        ],
        [
         "Vol-M108",
         "Vol",
         111
        ],
        [
         "Mah-M165",
         "Mah",
         112
        ],
        [
         "Hon-M66",
         "Hon",
         113
        ],
        [
         "Toy-M202",
         "Toy",
         114
        ],
        [
         "Cad-M36",
         "Cad",
         115
        ],
        [
         "Sub-M95",
         "Sub",
         116
        ],
        [
         "Tat-M181",
         "Tat",
         117
        ],
        [
         "Cad-M32",
         "Cad",
         118
        ],
        [
         "Hyu-M73",
         "Hyu",
         119
        ],
        [
         "Nis-M267",
         "Nis",
         120
        ],
        [
         "GMC-M53",
         "GMC",
         121
        ],
        [
         "Che-M40",
         "Che",
         122
        ],
        [
         "Che-M50",
         "Che",
         123
        ],
        [
         "Mar-M152",
         "Mar",
         124
        ],
        [
         "Cad-M38",
         "Cad",
         125
        ],
        [
         "Che-M41",
         "Che",
         126
        ],
        [
         "Vol-M257",
         "Vol",
         127
        ],
        [
         "For-M225",
         "For",
         128
        ],
        [
         "For-M223",
         "For",
         129
        ],
        [
         "Ren-M131",
         "Ren",
         130
        ],
        [
         "Che-M43",
         "Che",
         131
        ],
        [
         "Mah-M166",
         "Mah",
         132
        ],
        [
         "Mar-M151",
         "Mar",
         133
        ],
        [
         "Sub-M93",
         "Sub",
         134
        ],
        [
         "GMC-M57",
         "GMC",
         135
        ],
        [
         "Agr-M112",
         "Agr",
         136
        ],
        [
         "Mar-M138",
         "Mar",
         137
        ],
        [
         "Mar-M149",
         "Mar",
         138
        ],
        [
         "Che-M47",
         "Che",
         139
        ],
        [
         "Toy-M204",
         "Toy",
         140
        ],
        [
         "Cad-M39",
         "Cad",
         141
        ],
        [
         "Cad-M33",
         "Cad",
         142
        ],
        [
         "Hyu-M160",
         "Hyu",
         143
        ],
        [
         "Mah-M171",
         "Mah",
         144
        ],
        [
         "Tat-M184",
         "Tat",
         145
        ],
        [
         "Agr-M111",
         "Agr",
         146
        ],
        [
         "Lin-M27",
         "Lin",
         147
        ],
        [
         "Ren-M211",
         "Ren",
         148
        ],
        [
         "Nis-M265",
         "Nis",
         149
        ],
        [
         "Tat-M193",
         "Tat",
         150
        ],
        [
         "Che-M44",
         "Che",
         151
        ],
        [
         "Aud-M231",
         "Aud",
         152
        ],
        [
         "Ren-M208",
         "Ren",
         153
        ],
        [
         "MG-M252",
         "MG",
         154
        ],
        [
         "Tat-M182",
         "Tat",
         155
        ],
        [
         "GMC-M56",
         "GMC",
         156
        ],
        [
         "Mar-M141",
         "Mar",
         157
        ],
        [
         "Hyu-M164",
         "Hyu",
         158
        ],
        [
         "Peu-M125",
         "Peu",
         159
        ],
        [
         "Nis-M263",
         "Nis",
         160
        ],
        [
         "Hyu-M72",
         "Hyu",
         161
        ],
        [
         "Mit-M277",
         "Mit",
         162
        ],
        [
         "Toy-M101",
         "Toy",
         163
        ],
        [
         "For-M22",
         "For",
         164
        ],
        [
         "BMW-M248",
         "BMW",
         165
        ],
        [
         "Nis-M84",
         "Nis",
         166
        ],
        [
         "Mar-M150",
         "Mar",
         167
        ],
        [
         "Mar-M143",
         "Mar",
         168
        ],
        [
         "BMW-M246",
         "BMW",
         169
        ],
        [
         "Cad-M37",
         "Cad",
         170
        ],
        [
         "Nis-M268",
         "Nis",
         171
        ],
        [
         "Kia-M76",
         "Kia",
         172
        ],
        [
         "Aud-M228",
         "Aud",
         173
        ],
        [
         "Peu-M126",
         "Peu",
         174
        ],
        [
         "Tes-M97",
         "Tes",
         175
        ],
        [
         "Mah-M175",
         "Mah",
         176
        ],
        [
         "Hyu-M156",
         "Hyu",
         177
        ],
        [
         "Lin-M28",
         "Lin",
         178
        ],
        [
         "Toy-M107",
         "Toy",
         179
        ],
        [
         "Sub-M92",
         "Sub",
         180
        ],
        [
         "Che-M48",
         "Che",
         181
        ],
        [
         "For-M26",
         "For",
         182
        ],
        [
         "Vol-M135",
         "Vol",
         183
        ],
        [
         "Tat-M187",
         "Tat",
         184
        ],
        [
         "Hon-M120",
         "Hon",
         185
        ],
        [
         "Hyu-M163",
         "Hyu",
         186
        ],
        [
         "Mah-M177",
         "Mah",
         187
        ],
        [
         "Tat-M192",
         "Tat",
         188
        ],
        [
         "Kia-M77",
         "Kia",
         189
        ],
        [
         "Toy-M196",
         "Toy",
         190
        ],
        [
         "GMC-M58",
         "GMC",
         191
        ],
        [
         "Mah-M167",
         "Mah",
         192
        ],
        [
         "BMW-M5",
         "BMW",
         193
        ],
        [
         "BMW-M249",
         "BMW",
         194
        ],
        [
         "Mah-M172",
         "Mah",
         195
        ],
        [
         "Sub-M94",
         "Sub",
         196
        ],
        [
         "Tat-M180",
         "Tat",
         197
        ],
        [
         "For-M25",
         "For",
         198
        ],
        [
         "Che-M42",
         "Che",
         199
        ],
        [
         "Mer-M123",
         "Mer",
         200
        ],
        [
         "Peu-M124",
         "Peu",
         201
        ],
        [
         "Dod-M9",
         "Dod",
         202
        ],
        [
         "Mar-M140",
         "Mar",
         203
        ],
        [
         "For-M119",
         "For",
         204
        ],
        [
         "Tes-M98",
         "Tes",
         205
        ],
        [
         "Toy-M205",
         "Toy",
         206
        ],
        [
         "Ren-M129",
         "Ren",
         207
        ],
        [
         "Aud-M237",
         "Aud",
         208
        ],
        [
         "Toy-M133",
         "Toy",
         209
        ],
        [
         "Nis-M82",
         "Nis",
         210
        ],
        [
         "Tat-M183",
         "Tat",
         211
        ],
        [
         "Che-M51",
         "Che",
         212
        ],
        [
         "Jee-M11",
         "Jee",
         213
        ],
        [
         "Ren-M128",
         "Ren",
         214
        ],
        [
         "Cad-M34",
         "Cad",
         215
        ],
        [
         "Che-M46",
         "Che",
         216
        ],
        [
         "Ren-M127",
         "Ren",
         217
        ],
        [
         "Agr-M113",
         "Agr",
         218
        ],
        [
         "Toy-M199",
         "Toy",
         219
        ],
        [
         "Mar-M145",
         "Mar",
         220
        ],
        [
         "Sko-M273",
         "Sko",
         221
        ],
        [
         "Nis-M270",
         "Nis",
         222
        ],
        [
         "Aud-M235",
         "Aud",
         223
        ],
        [
         "Cad-M35",
         "Cad",
         224
        ],
        [
         "Mer-M8",
         "Mer",
         225
        ],
        [
         "For-M23",
         "For",
         226
        ],
        [
         "Aud-M236",
         "Aud",
         227
        ],
        [
         "Lex-M99",
         "Lex",
         228
        ],
        [
         "Ren-M209",
         "Ren",
         229
        ],
        [
         "Kia-M78",
         "Kia",
         230
        ],
        [
         "BMW-M3",
         "BMW",
         231
        ],
        [
         "Mah-M169",
         "Mah",
         232
        ],
        [
         "For-M16",
         "For",
         233
        ],
        [
         "Nis-M80",
         "Nis",
         234
        ],
        [
         "Toy-M201",
         "Toy",
         235
        ],
        [
         "Che-M45",
         "Che",
         236
        ],
        [
         "Mit-M275",
         "Mit",
         237
        ],
        [
         "Toy-M197",
         "Toy",
         238
        ],
        [
         "Tat-M190",
         "Tat",
         239
        ],
        [
         "Hon-M65",
         "Hon",
         240
        ],
        [
         "Toy-M102",
         "Toy",
         241
        ],
        [
         "Hon-M67",
         "Hon",
         242
        ],
        [
         "Sko-M274",
         "Sko",
         243
        ],
        [
         "Mah-M168",
         "Mah",
         244
        ],
        [
         "Mer-M6",
         "Mer",
         245
        ],
        [
         "Ren-M207",
         "Ren",
         246
        ],
        [
         "Hon-M68",
         "Hon",
         247
        ],
        [
         "Hon-M69",
         "Hon",
         248
        ],
        [
         "Mar-M144",
         "Mar",
         249
        ],
        [
         "Kia-M214",
         "Kia",
         250
        ],
        [
         "Sko-M272",
         "Sko",
         251
        ],
        [
         "Mit-M276",
         "Mit",
         252
        ],
        [
         "Mar-M148",
         "Mar",
         253
        ],
        [
         "For-M24",
         "For",
         254
        ],
        [
         "Mah-M170",
         "Mah",
         255
        ],
        [
         "Acu-M62",
         "Acu",
         256
        ],
        [
         "Hyu-M162",
         "Hyu",
         257
        ],
        [
         "Hyu-M155",
         "Hyu",
         258
        ],
        [
         "Ren-M210",
         "Ren",
         259
        ],
        [
         "Aud-M229",
         "Aud",
         260
        ],
        [
         "Tat-M185",
         "Tat",
         261
        ],
        [
         "Vol-M109",
         "Vol",
         262
        ],
        [
         "Mar-M147",
         "Mar",
         263
        ],
        [
         "Hyu-M153",
         "Hyu",
         264
        ],
        [
         "For-M224",
         "For",
         265
        ],
        [
         "Nis-M89",
         "Nis",
         266
        ],
        [
         "Riv-M90",
         "Riv",
         267
        ],
        [
         "Mar-M139",
         "Mar",
         268
        ],
        [
         "Jee-M13",
         "Jee",
         269
        ],
        [
         "Tat-M189",
         "Tat",
         270
        ],
        [
         "Toy-M134",
         "Toy",
         271
        ],
        [
         "Mah-M174",
         "Mah",
         272
        ],
        [
         "Aud-M230",
         "Aud",
         273
        ],
        [
         "Toy-M195",
         "Toy",
         274
        ],
        [
         "Fia-M117",
         "Fia",
         275
        ],
        [
         "For-M222",
         "For",
         276
        ],
        [
         "Tat-M186",
         "Tat",
         277
        ]
       ],
       "datasetInfos": [],
       "dbfsResultPath": null,
       "isJsonSchema": true,
       "metadata": {},
       "overflow": false,
       "plotOptions": {
        "customPlotOptions": {},
        "displayType": "table",
        "pivotAggregation": null,
        "pivotColumns": null,
        "xColumns": null,
        "yColumns": null
       },
       "removedWidgets": [],
       "schema": [
        {
         "metadata": "{}",
         "name": "Model_ID",
         "type": "\"string\""
        },
        {
         "metadata": "{}",
         "name": "Model_category",
         "type": "\"string\""
        },
        {
         "metadata": "{}",
         "name": "dim_model_key",
         "type": "\"long\""
        }
       ],
       "type": "table"
      }
     },
     "output_type": "display_data"
    }
   ],
   "source": [
    "display(df_final)"
   ]
  },
  {
   "cell_type": "code",
   "execution_count": 0,
   "metadata": {
    "application/vnd.databricks.v1+cell": {
     "cellMetadata": {
      "byteLimit": 2048000,
      "rowLimit": 10000
     },
     "inputWidgets": {},
     "nuid": "5252d005-096f-4f4a-8e81-604d6da08ee6",
     "showTitle": false,
     "tableResultSettingsMap": {},
     "title": ""
    }
   },
   "outputs": [],
   "source": [
    "from delta.tables import DeltaTable"
   ]
  },
  {
   "cell_type": "markdown",
   "metadata": {
    "application/vnd.databricks.v1+cell": {
     "cellMetadata": {},
     "inputWidgets": {},
     "nuid": "bc501065-3a3a-42e4-9b59-69cd9709b6d3",
     "showTitle": false,
     "tableResultSettingsMap": {},
     "title": ""
    }
   },
   "source": [
    "#SCD TYPE 1"
   ]
  },
  {
   "cell_type": "code",
   "execution_count": 0,
   "metadata": {
    "application/vnd.databricks.v1+cell": {
     "cellMetadata": {
      "byteLimit": 2048000,
      "rowLimit": 10000
     },
     "inputWidgets": {},
     "nuid": "da58ee74-d7a6-4ba9-a20f-e0f0e29b2a36",
     "showTitle": false,
     "tableResultSettingsMap": {},
     "title": ""
    }
   },
   "outputs": [],
   "source": [
    "if spark.catalog.tableExists('cars_sales_catalog.silver.dim_model'):\n",
    "    delta_table=DeltaTable.forPath(spark,'abfss://gold@azurecarsalesdata7.dfs.core.windows.net/dim_model')\n",
    "    delta_table.alias(\"target\").merge(df_final.alias(\"source\"),\"target.dim_model_key=source.dim_model_key\")\\\n",
    "                               .whenMatchedUpdateAll()\\\n",
    "                               .whenNotMatchedInsertAll()\\\n",
    "                               .execute()\n",
    "\n",
    "else:#initial run\n",
    "    df_final.write.format('delta')\\\n",
    "            .mode('overwrite')\\\n",
    "            .option('path',\"abfss://gold@azurecarsalesdata7.dfs.core.windows.net/dim_model\")\\\n",
    "            .saveAsTable('cars_sales_catalog.silver.dim_model')"
   ]
  },
  {
   "cell_type": "code",
   "execution_count": 0,
   "metadata": {
    "application/vnd.databricks.v1+cell": {
     "cellMetadata": {
      "byteLimit": 2048000,
      "implicitDf": true,
      "rowLimit": 10000
     },
     "inputWidgets": {},
     "nuid": "b10bd2dc-9baf-4bc1-bb5a-b90cf5231579",
     "showTitle": false,
     "tableResultSettingsMap": {},
     "title": ""
    }
   },
   "outputs": [
    {
     "output_type": "display_data",
     "data": {
      "text/html": [
       "<style scoped>\n",
       "  .table-result-container {\n",
       "    max-height: 300px;\n",
       "    overflow: auto;\n",
       "  }\n",
       "  table, th, td {\n",
       "    border: 1px solid black;\n",
       "    border-collapse: collapse;\n",
       "  }\n",
       "  th, td {\n",
       "    padding: 5px;\n",
       "  }\n",
       "  th {\n",
       "    text-align: left;\n",
       "  }\n",
       "</style><div class='table-result-container'><table class='table-result'><thead style='background-color: white'><tr><th>Model_ID</th><th>Model_category</th><th>dim_model_key</th></tr></thead><tbody><tr><td>Hon-M220</td><td>Hon</td><td>1</td></tr><tr><td>Hon-M215</td><td>Hon</td><td>2</td></tr><tr><td>Vol-M110</td><td>Vol</td><td>3</td></tr><tr><td>Vol-M260</td><td>Vol</td><td>4</td></tr><tr><td>Bui-M31</td><td>Bui</td><td>5</td></tr><tr><td>BMW-M2</td><td>BMW</td><td>6</td></tr><tr><td>Acu-M60</td><td>Acu</td><td>7</td></tr><tr><td>Hyu-M157</td><td>Hyu</td><td>8</td></tr><tr><td>Ren-M130</td><td>Ren</td><td>9</td></tr><tr><td>Lin-M29</td><td>Lin</td><td>10</td></tr><tr><td>Tat-M179</td><td>Tat</td><td>11</td></tr><tr><td>Aud-M227</td><td>Aud</td><td>12</td></tr><tr><td>Aud-M234</td><td>Aud</td><td>13</td></tr><tr><td>Mar-M142</td><td>Mar</td><td>14</td></tr><tr><td>Kia-M212</td><td>Kia</td><td>15</td></tr><tr><td>Toy-M198</td><td>Toy</td><td>16</td></tr><tr><td>For-M20</td><td>For</td><td>17</td></tr><tr><td>Mah-M178</td><td>Mah</td><td>18</td></tr><tr><td>Hyu-M161</td><td>Hyu</td><td>19</td></tr><tr><td>Nis-M86</td><td>Nis</td><td>20</td></tr><tr><td>Hon-M217</td><td>Hon</td><td>21</td></tr><tr><td>BMW-M1</td><td>BMW</td><td>22</td></tr><tr><td>Vol-M256</td><td>Vol</td><td>23</td></tr><tr><td>Nis-M264</td><td>Nis</td><td>24</td></tr><tr><td>Hyu-M158</td><td>Hyu</td><td>25</td></tr><tr><td>Vol-M136</td><td>Vol</td><td>26</td></tr><tr><td>Toy-M100</td><td>Toy</td><td>27</td></tr><tr><td>Hyu-M74</td><td>Hyu</td><td>28</td></tr><tr><td>Aud-M240</td><td>Aud</td><td>29</td></tr><tr><td>Nis-M85</td><td>Nis</td><td>30</td></tr><tr><td>Nis-M269</td><td>Nis</td><td>31</td></tr><tr><td>BMW-M250</td><td>BMW</td><td>32</td></tr><tr><td>Toy-M203</td><td>Toy</td><td>33</td></tr><tr><td>Kia-M213</td><td>Kia</td><td>34</td></tr><tr><td>Che-M114</td><td>Che</td><td>35</td></tr><tr><td>Nis-M83</td><td>Nis</td><td>36</td></tr><tr><td>Fia-M118</td><td>Fia</td><td>37</td></tr><tr><td>For-M18</td><td>For</td><td>38</td></tr><tr><td>Toy-M104</td><td>Toy</td><td>39</td></tr><tr><td>Mer-M122</td><td>Mer</td><td>40</td></tr><tr><td>Cit-M116</td><td>Cit</td><td>41</td></tr><tr><td>Nis-M261</td><td>Nis</td><td>42</td></tr><tr><td>Mah-M173</td><td>Mah</td><td>43</td></tr><tr><td>Mer-M121</td><td>Mer</td><td>44</td></tr><tr><td>BMW-M243</td><td>BMW</td><td>45</td></tr><tr><td>Nis-M87</td><td>Nis</td><td>46</td></tr><tr><td>Toy-M206</td><td>Toy</td><td>47</td></tr><tr><td>Hon-M64</td><td>Hon</td><td>48</td></tr><tr><td>Vol-M258</td><td>Vol</td><td>49</td></tr><tr><td>For-M19</td><td>For</td><td>50</td></tr><tr><td>Hon-M219</td><td>Hon</td><td>51</td></tr><tr><td>GMC-M55</td><td>GMC</td><td>52</td></tr><tr><td>Inf-M79</td><td>Inf</td><td>53</td></tr><tr><td>Jee-M253</td><td>Jee</td><td>54</td></tr><tr><td>Hon-M70</td><td>Hon</td><td>55</td></tr><tr><td>GMC-M54</td><td>GMC</td><td>56</td></tr><tr><td>Jee-M12</td><td>Jee</td><td>57</td></tr><tr><td>Hon-M71</td><td>Hon</td><td>58</td></tr><tr><td>Mar-M137</td><td>Mar</td><td>59</td></tr><tr><td>Nis-M81</td><td>Nis</td><td>60</td></tr><tr><td>Aud-M232</td><td>Aud</td><td>61</td></tr><tr><td>Hyu-M75</td><td>Hyu</td><td>62</td></tr><tr><td>Acu-M61</td><td>Acu</td><td>63</td></tr><tr><td>For-M226</td><td>For</td><td>64</td></tr><tr><td>Cit-M115</td><td>Cit</td><td>65</td></tr><tr><td>BMW-M244</td><td>BMW</td><td>66</td></tr><tr><td>Hon-M216</td><td>Hon</td><td>67</td></tr><tr><td>Toy-M106</td><td>Toy</td><td>68</td></tr><tr><td>Ren-M132</td><td>Ren</td><td>69</td></tr><tr><td>Tat-M191</td><td>Tat</td><td>70</td></tr><tr><td>For-M21</td><td>For</td><td>71</td></tr><tr><td>Acu-M63</td><td>Acu</td><td>72</td></tr><tr><td>Acu-M59</td><td>Acu</td><td>73</td></tr><tr><td>Ram-M15</td><td>Ram</td><td>74</td></tr><tr><td>Nis-M88</td><td>Nis</td><td>75</td></tr><tr><td>BMW-M242</td><td>BMW</td><td>76</td></tr><tr><td>GMC-M52</td><td>GMC</td><td>77</td></tr><tr><td>Mar-M146</td><td>Mar</td><td>78</td></tr><tr><td>Aud-M239</td><td>Aud</td><td>79</td></tr><tr><td>Jee-M10</td><td>Jee</td><td>80</td></tr><tr><td>Aud-M233</td><td>Aud</td><td>81</td></tr><tr><td>Sko-M271</td><td>Sko</td><td>82</td></tr><tr><td>BMW-M245</td><td>BMW</td><td>83</td></tr><tr><td>Aud-M241</td><td>Aud</td><td>84</td></tr><tr><td>Vol-M259</td><td>Vol</td><td>85</td></tr><tr><td>Ram-M14</td><td>Ram</td><td>86</td></tr><tr><td>Nis-M262</td><td>Nis</td><td>87</td></tr><tr><td>Tat-M194</td><td>Tat</td><td>88</td></tr><tr><td>Aud-M238</td><td>Aud</td><td>89</td></tr><tr><td>MG-M251</td><td>MG</td><td>90</td></tr><tr><td>Jee-M254</td><td>Jee</td><td>91</td></tr><tr><td>Riv-M91</td><td>Riv</td><td>92</td></tr><tr><td>Che-M49</td><td>Che</td><td>93</td></tr><tr><td>Toy-M105</td><td>Toy</td><td>94</td></tr><tr><td>Hyu-M159</td><td>Hyu</td><td>95</td></tr><tr><td>Vol-M255</td><td>Vol</td><td>96</td></tr><tr><td>Tat-M188</td><td>Tat</td><td>97</td></tr><tr><td>BMW-M4</td><td>BMW</td><td>98</td></tr><tr><td>Toy-M200</td><td>Toy</td><td>99</td></tr><tr><td>Toy-M103</td><td>Toy</td><td>100</td></tr><tr><td>BMW-M247</td><td>BMW</td><td>101</td></tr><tr><td>Mah-M176</td><td>Mah</td><td>102</td></tr><tr><td>For-M221</td><td>For</td><td>103</td></tr><tr><td>Nis-M266</td><td>Nis</td><td>104</td></tr><tr><td>For-M17</td><td>For</td><td>105</td></tr><tr><td>Hyu-M154</td><td>Hyu</td><td>106</td></tr><tr><td>Mer-M7</td><td>Mer</td><td>107</td></tr><tr><td>Tes-M96</td><td>Tes</td><td>108</td></tr><tr><td>Lin-M30</td><td>Lin</td><td>109</td></tr><tr><td>Hon-M218</td><td>Hon</td><td>110</td></tr><tr><td>Vol-M108</td><td>Vol</td><td>111</td></tr><tr><td>Mah-M165</td><td>Mah</td><td>112</td></tr><tr><td>Hon-M66</td><td>Hon</td><td>113</td></tr><tr><td>Toy-M202</td><td>Toy</td><td>114</td></tr><tr><td>Cad-M36</td><td>Cad</td><td>115</td></tr><tr><td>Sub-M95</td><td>Sub</td><td>116</td></tr><tr><td>Tat-M181</td><td>Tat</td><td>117</td></tr><tr><td>Cad-M32</td><td>Cad</td><td>118</td></tr><tr><td>Hyu-M73</td><td>Hyu</td><td>119</td></tr><tr><td>Nis-M267</td><td>Nis</td><td>120</td></tr><tr><td>GMC-M53</td><td>GMC</td><td>121</td></tr><tr><td>Che-M40</td><td>Che</td><td>122</td></tr><tr><td>Che-M50</td><td>Che</td><td>123</td></tr><tr><td>Mar-M152</td><td>Mar</td><td>124</td></tr><tr><td>Cad-M38</td><td>Cad</td><td>125</td></tr><tr><td>Che-M41</td><td>Che</td><td>126</td></tr><tr><td>Vol-M257</td><td>Vol</td><td>127</td></tr><tr><td>For-M225</td><td>For</td><td>128</td></tr><tr><td>For-M223</td><td>For</td><td>129</td></tr><tr><td>Ren-M131</td><td>Ren</td><td>130</td></tr><tr><td>Che-M43</td><td>Che</td><td>131</td></tr><tr><td>Mah-M166</td><td>Mah</td><td>132</td></tr><tr><td>Mar-M151</td><td>Mar</td><td>133</td></tr><tr><td>Sub-M93</td><td>Sub</td><td>134</td></tr><tr><td>GMC-M57</td><td>GMC</td><td>135</td></tr><tr><td>Agr-M112</td><td>Agr</td><td>136</td></tr><tr><td>Mar-M138</td><td>Mar</td><td>137</td></tr><tr><td>Mar-M149</td><td>Mar</td><td>138</td></tr><tr><td>Che-M47</td><td>Che</td><td>139</td></tr><tr><td>Toy-M204</td><td>Toy</td><td>140</td></tr><tr><td>Cad-M39</td><td>Cad</td><td>141</td></tr><tr><td>Cad-M33</td><td>Cad</td><td>142</td></tr><tr><td>Hyu-M160</td><td>Hyu</td><td>143</td></tr><tr><td>Mah-M171</td><td>Mah</td><td>144</td></tr><tr><td>Tat-M184</td><td>Tat</td><td>145</td></tr><tr><td>Agr-M111</td><td>Agr</td><td>146</td></tr><tr><td>Lin-M27</td><td>Lin</td><td>147</td></tr><tr><td>Ren-M211</td><td>Ren</td><td>148</td></tr><tr><td>Nis-M265</td><td>Nis</td><td>149</td></tr><tr><td>Tat-M193</td><td>Tat</td><td>150</td></tr><tr><td>Che-M44</td><td>Che</td><td>151</td></tr><tr><td>Aud-M231</td><td>Aud</td><td>152</td></tr><tr><td>Ren-M208</td><td>Ren</td><td>153</td></tr><tr><td>MG-M252</td><td>MG</td><td>154</td></tr><tr><td>Tat-M182</td><td>Tat</td><td>155</td></tr><tr><td>GMC-M56</td><td>GMC</td><td>156</td></tr><tr><td>Mar-M141</td><td>Mar</td><td>157</td></tr><tr><td>Hyu-M164</td><td>Hyu</td><td>158</td></tr><tr><td>Peu-M125</td><td>Peu</td><td>159</td></tr><tr><td>Nis-M263</td><td>Nis</td><td>160</td></tr><tr><td>Hyu-M72</td><td>Hyu</td><td>161</td></tr><tr><td>Mit-M277</td><td>Mit</td><td>162</td></tr><tr><td>Toy-M101</td><td>Toy</td><td>163</td></tr><tr><td>For-M22</td><td>For</td><td>164</td></tr><tr><td>BMW-M248</td><td>BMW</td><td>165</td></tr><tr><td>Nis-M84</td><td>Nis</td><td>166</td></tr><tr><td>Mar-M150</td><td>Mar</td><td>167</td></tr><tr><td>Mar-M143</td><td>Mar</td><td>168</td></tr><tr><td>BMW-M246</td><td>BMW</td><td>169</td></tr><tr><td>Cad-M37</td><td>Cad</td><td>170</td></tr><tr><td>Nis-M268</td><td>Nis</td><td>171</td></tr><tr><td>Kia-M76</td><td>Kia</td><td>172</td></tr><tr><td>Aud-M228</td><td>Aud</td><td>173</td></tr><tr><td>Peu-M126</td><td>Peu</td><td>174</td></tr><tr><td>Tes-M97</td><td>Tes</td><td>175</td></tr><tr><td>Mah-M175</td><td>Mah</td><td>176</td></tr><tr><td>Hyu-M156</td><td>Hyu</td><td>177</td></tr><tr><td>Lin-M28</td><td>Lin</td><td>178</td></tr><tr><td>Toy-M107</td><td>Toy</td><td>179</td></tr><tr><td>Sub-M92</td><td>Sub</td><td>180</td></tr><tr><td>Che-M48</td><td>Che</td><td>181</td></tr><tr><td>For-M26</td><td>For</td><td>182</td></tr><tr><td>Vol-M135</td><td>Vol</td><td>183</td></tr><tr><td>Tat-M187</td><td>Tat</td><td>184</td></tr><tr><td>Hon-M120</td><td>Hon</td><td>185</td></tr><tr><td>Hyu-M163</td><td>Hyu</td><td>186</td></tr><tr><td>Mah-M177</td><td>Mah</td><td>187</td></tr><tr><td>Tat-M192</td><td>Tat</td><td>188</td></tr><tr><td>Kia-M77</td><td>Kia</td><td>189</td></tr><tr><td>Toy-M196</td><td>Toy</td><td>190</td></tr><tr><td>GMC-M58</td><td>GMC</td><td>191</td></tr><tr><td>Mah-M167</td><td>Mah</td><td>192</td></tr><tr><td>BMW-M5</td><td>BMW</td><td>193</td></tr><tr><td>BMW-M249</td><td>BMW</td><td>194</td></tr><tr><td>Mah-M172</td><td>Mah</td><td>195</td></tr><tr><td>Sub-M94</td><td>Sub</td><td>196</td></tr><tr><td>Tat-M180</td><td>Tat</td><td>197</td></tr><tr><td>For-M25</td><td>For</td><td>198</td></tr><tr><td>Che-M42</td><td>Che</td><td>199</td></tr><tr><td>Mer-M123</td><td>Mer</td><td>200</td></tr><tr><td>Peu-M124</td><td>Peu</td><td>201</td></tr><tr><td>Dod-M9</td><td>Dod</td><td>202</td></tr><tr><td>Mar-M140</td><td>Mar</td><td>203</td></tr><tr><td>For-M119</td><td>For</td><td>204</td></tr><tr><td>Tes-M98</td><td>Tes</td><td>205</td></tr><tr><td>Toy-M205</td><td>Toy</td><td>206</td></tr><tr><td>Ren-M129</td><td>Ren</td><td>207</td></tr><tr><td>Aud-M237</td><td>Aud</td><td>208</td></tr><tr><td>Toy-M133</td><td>Toy</td><td>209</td></tr><tr><td>Nis-M82</td><td>Nis</td><td>210</td></tr><tr><td>Tat-M183</td><td>Tat</td><td>211</td></tr><tr><td>Che-M51</td><td>Che</td><td>212</td></tr><tr><td>Jee-M11</td><td>Jee</td><td>213</td></tr><tr><td>Ren-M128</td><td>Ren</td><td>214</td></tr><tr><td>Cad-M34</td><td>Cad</td><td>215</td></tr><tr><td>Che-M46</td><td>Che</td><td>216</td></tr><tr><td>Ren-M127</td><td>Ren</td><td>217</td></tr><tr><td>Agr-M113</td><td>Agr</td><td>218</td></tr><tr><td>Toy-M199</td><td>Toy</td><td>219</td></tr><tr><td>Mar-M145</td><td>Mar</td><td>220</td></tr><tr><td>Sko-M273</td><td>Sko</td><td>221</td></tr><tr><td>Nis-M270</td><td>Nis</td><td>222</td></tr><tr><td>Aud-M235</td><td>Aud</td><td>223</td></tr><tr><td>Cad-M35</td><td>Cad</td><td>224</td></tr><tr><td>Mer-M8</td><td>Mer</td><td>225</td></tr><tr><td>For-M23</td><td>For</td><td>226</td></tr><tr><td>Aud-M236</td><td>Aud</td><td>227</td></tr><tr><td>Lex-M99</td><td>Lex</td><td>228</td></tr><tr><td>Ren-M209</td><td>Ren</td><td>229</td></tr><tr><td>Kia-M78</td><td>Kia</td><td>230</td></tr><tr><td>BMW-M3</td><td>BMW</td><td>231</td></tr><tr><td>Mah-M169</td><td>Mah</td><td>232</td></tr><tr><td>For-M16</td><td>For</td><td>233</td></tr><tr><td>Nis-M80</td><td>Nis</td><td>234</td></tr><tr><td>Toy-M201</td><td>Toy</td><td>235</td></tr><tr><td>Che-M45</td><td>Che</td><td>236</td></tr><tr><td>Mit-M275</td><td>Mit</td><td>237</td></tr><tr><td>Toy-M197</td><td>Toy</td><td>238</td></tr><tr><td>Tat-M190</td><td>Tat</td><td>239</td></tr><tr><td>Hon-M65</td><td>Hon</td><td>240</td></tr><tr><td>Toy-M102</td><td>Toy</td><td>241</td></tr><tr><td>Hon-M67</td><td>Hon</td><td>242</td></tr><tr><td>Sko-M274</td><td>Sko</td><td>243</td></tr><tr><td>Mah-M168</td><td>Mah</td><td>244</td></tr><tr><td>Mer-M6</td><td>Mer</td><td>245</td></tr><tr><td>Ren-M207</td><td>Ren</td><td>246</td></tr><tr><td>Hon-M68</td><td>Hon</td><td>247</td></tr><tr><td>Hon-M69</td><td>Hon</td><td>248</td></tr><tr><td>Mar-M144</td><td>Mar</td><td>249</td></tr><tr><td>Kia-M214</td><td>Kia</td><td>250</td></tr><tr><td>Sko-M272</td><td>Sko</td><td>251</td></tr><tr><td>Mit-M276</td><td>Mit</td><td>252</td></tr><tr><td>Mar-M148</td><td>Mar</td><td>253</td></tr><tr><td>For-M24</td><td>For</td><td>254</td></tr><tr><td>Mah-M170</td><td>Mah</td><td>255</td></tr><tr><td>Acu-M62</td><td>Acu</td><td>256</td></tr><tr><td>Hyu-M162</td><td>Hyu</td><td>257</td></tr><tr><td>Hyu-M155</td><td>Hyu</td><td>258</td></tr><tr><td>Ren-M210</td><td>Ren</td><td>259</td></tr><tr><td>Aud-M229</td><td>Aud</td><td>260</td></tr><tr><td>Tat-M185</td><td>Tat</td><td>261</td></tr><tr><td>Vol-M109</td><td>Vol</td><td>262</td></tr><tr><td>Mar-M147</td><td>Mar</td><td>263</td></tr><tr><td>Hyu-M153</td><td>Hyu</td><td>264</td></tr><tr><td>For-M224</td><td>For</td><td>265</td></tr><tr><td>Nis-M89</td><td>Nis</td><td>266</td></tr><tr><td>Riv-M90</td><td>Riv</td><td>267</td></tr><tr><td>Mar-M139</td><td>Mar</td><td>268</td></tr><tr><td>Jee-M13</td><td>Jee</td><td>269</td></tr><tr><td>Tat-M189</td><td>Tat</td><td>270</td></tr><tr><td>Toy-M134</td><td>Toy</td><td>271</td></tr><tr><td>Mah-M174</td><td>Mah</td><td>272</td></tr><tr><td>Aud-M230</td><td>Aud</td><td>273</td></tr><tr><td>Toy-M195</td><td>Toy</td><td>274</td></tr><tr><td>Fia-M117</td><td>Fia</td><td>275</td></tr><tr><td>For-M222</td><td>For</td><td>276</td></tr><tr><td>Tat-M186</td><td>Tat</td><td>277</td></tr></tbody></table></div>"
      ]
     },
     "metadata": {
      "application/vnd.databricks.v1+output": {
       "addedWidgets": {},
       "aggData": [],
       "aggError": "",
       "aggOverflow": false,
       "aggSchema": [],
       "aggSeriesLimitReached": false,
       "aggType": "",
       "arguments": {},
       "columnCustomDisplayInfos": {},
       "data": [
        [
         "Hon-M220",
         "Hon",
         1
        ],
        [
         "Hon-M215",
         "Hon",
         2
        ],
        [
         "Vol-M110",
         "Vol",
         3
        ],
        [
         "Vol-M260",
         "Vol",
         4
        ],
        [
         "Bui-M31",
         "Bui",
         5
        ],
        [
         "BMW-M2",
         "BMW",
         6
        ],
        [
         "Acu-M60",
         "Acu",
         7
        ],
        [
         "Hyu-M157",
         "Hyu",
         8
        ],
        [
         "Ren-M130",
         "Ren",
         9
        ],
        [
         "Lin-M29",
         "Lin",
         10
        ],
        [
         "Tat-M179",
         "Tat",
         11
        ],
        [
         "Aud-M227",
         "Aud",
         12
        ],
        [
         "Aud-M234",
         "Aud",
         13
        ],
        [
         "Mar-M142",
         "Mar",
         14
        ],
        [
         "Kia-M212",
         "Kia",
         15
        ],
        [
         "Toy-M198",
         "Toy",
         16
        ],
        [
         "For-M20",
         "For",
         17
        ],
        [
         "Mah-M178",
         "Mah",
         18
        ],
        [
         "Hyu-M161",
         "Hyu",
         19
        ],
        [
         "Nis-M86",
         "Nis",
         20
        ],
        [
         "Hon-M217",
         "Hon",
         21
        ],
        [
         "BMW-M1",
         "BMW",
         22
        ],
        [
         "Vol-M256",
         "Vol",
         23
        ],
        [
         "Nis-M264",
         "Nis",
         24
        ],
        [
         "Hyu-M158",
         "Hyu",
         25
        ],
        [
         "Vol-M136",
         "Vol",
         26
        ],
        [
         "Toy-M100",
         "Toy",
         27
        ],
        [
         "Hyu-M74",
         "Hyu",
         28
        ],
        [
         "Aud-M240",
         "Aud",
         29
        ],
        [
         "Nis-M85",
         "Nis",
         30
        ],
        [
         "Nis-M269",
         "Nis",
         31
        ],
        [
         "BMW-M250",
         "BMW",
         32
        ],
        [
         "Toy-M203",
         "Toy",
         33
        ],
        [
         "Kia-M213",
         "Kia",
         34
        ],
        [
         "Che-M114",
         "Che",
         35
        ],
        [
         "Nis-M83",
         "Nis",
         36
        ],
        [
         "Fia-M118",
         "Fia",
         37
        ],
        [
         "For-M18",
         "For",
         38
        ],
        [
         "Toy-M104",
         "Toy",
         39
        ],
        [
         "Mer-M122",
         "Mer",
         40
        ],
        [
         "Cit-M116",
         "Cit",
         41
        ],
        [
         "Nis-M261",
         "Nis",
         42
        ],
        [
         "Mah-M173",
         "Mah",
         43
        ],
        [
         "Mer-M121",
         "Mer",
         44
        ],
        [
         "BMW-M243",
         "BMW",
         45
        ],
        [
         "Nis-M87",
         "Nis",
         46
        ],
        [
         "Toy-M206",
         "Toy",
         47
        ],
        [
         "Hon-M64",
         "Hon",
         48
        ],
        [
         "Vol-M258",
         "Vol",
         49
        ],
        [
         "For-M19",
         "For",
         50
        ],
        [
         "Hon-M219",
         "Hon",
         51
        ],
        [
         "GMC-M55",
         "GMC",
         52
        ],
        [
         "Inf-M79",
         "Inf",
         53
        ],
        [
         "Jee-M253",
         "Jee",
         54
        ],
        [
         "Hon-M70",
         "Hon",
         55
        ],
        [
         "GMC-M54",
         "GMC",
         56
        ],
        [
         "Jee-M12",
         "Jee",
         57
        ],
        [
         "Hon-M71",
         "Hon",
         58
        ],
        [
         "Mar-M137",
         "Mar",
         59
        ],
        [
         "Nis-M81",
         "Nis",
         60
        ],
        [
         "Aud-M232",
         "Aud",
         61
        ],
        [
         "Hyu-M75",
         "Hyu",
         62
        ],
        [
         "Acu-M61",
         "Acu",
         63
        ],
        [
         "For-M226",
         "For",
         64
        ],
        [
         "Cit-M115",
         "Cit",
         65
        ],
        [
         "BMW-M244",
         "BMW",
         66
        ],
        [
         "Hon-M216",
         "Hon",
         67
        ],
        [
         "Toy-M106",
         "Toy",
         68
        ],
        [
         "Ren-M132",
         "Ren",
         69
        ],
        [
         "Tat-M191",
         "Tat",
         70
        ],
        [
         "For-M21",
         "For",
         71
        ],
        [
         "Acu-M63",
         "Acu",
         72
        ],
        [
         "Acu-M59",
         "Acu",
         73
        ],
        [
         "Ram-M15",
         "Ram",
         74
        ],
        [
         "Nis-M88",
         "Nis",
         75
        ],
        [
         "BMW-M242",
         "BMW",
         76
        ],
        [
         "GMC-M52",
         "GMC",
         77
        ],
        [
         "Mar-M146",
         "Mar",
         78
        ],
        [
         "Aud-M239",
         "Aud",
         79
        ],
        [
         "Jee-M10",
         "Jee",
         80
        ],
        [
         "Aud-M233",
         "Aud",
         81
        ],
        [
         "Sko-M271",
         "Sko",
         82
        ],
        [
         "BMW-M245",
         "BMW",
         83
        ],
        [
         "Aud-M241",
         "Aud",
         84
        ],
        [
         "Vol-M259",
         "Vol",
         85
        ],
        [
         "Ram-M14",
         "Ram",
         86
        ],
        [
         "Nis-M262",
         "Nis",
         87
        ],
        [
         "Tat-M194",
         "Tat",
         88
        ],
        [
         "Aud-M238",
         "Aud",
         89
        ],
        [
         "MG-M251",
         "MG",
         90
        ],
        [
         "Jee-M254",
         "Jee",
         91
        ],
        [
         "Riv-M91",
         "Riv",
         92
        ],
        [
         "Che-M49",
         "Che",
         93
        ],
        [
         "Toy-M105",
         "Toy",
         94
        ],
        [
         "Hyu-M159",
         "Hyu",
         95
        ],
        [
         "Vol-M255",
         "Vol",
         96
        ],
        [
         "Tat-M188",
         "Tat",
         97
        ],
        [
         "BMW-M4",
         "BMW",
         98
        ],
        [
         "Toy-M200",
         "Toy",
         99
        ],
        [
         "Toy-M103",
         "Toy",
         100
        ],
        [
         "BMW-M247",
         "BMW",
         101
        ],
        [
         "Mah-M176",
         "Mah",
         102
        ],
        [
         "For-M221",
         "For",
         103
        ],
        [
         "Nis-M266",
         "Nis",
         104
        ],
        [
         "For-M17",
         "For",
         105
        ],
        [
         "Hyu-M154",
         "Hyu",
         106
        ],
        [
         "Mer-M7",
         "Mer",
         107
        ],
        [
         "Tes-M96",
         "Tes",
         108
        ],
        [
         "Lin-M30",
         "Lin",
         109
        ],
        [
         "Hon-M218",
         "Hon",
         110
        ],
        [
         "Vol-M108",
         "Vol",
         111
        ],
        [
         "Mah-M165",
         "Mah",
         112
        ],
        [
         "Hon-M66",
         "Hon",
         113
        ],
        [
         "Toy-M202",
         "Toy",
         114
        ],
        [
         "Cad-M36",
         "Cad",
         115
        ],
        [
         "Sub-M95",
         "Sub",
         116
        ],
        [
         "Tat-M181",
         "Tat",
         117
        ],
        [
         "Cad-M32",
         "Cad",
         118
        ],
        [
         "Hyu-M73",
         "Hyu",
         119
        ],
        [
         "Nis-M267",
         "Nis",
         120
        ],
        [
         "GMC-M53",
         "GMC",
         121
        ],
        [
         "Che-M40",
         "Che",
         122
        ],
        [
         "Che-M50",
         "Che",
         123
        ],
        [
         "Mar-M152",
         "Mar",
         124
        ],
        [
         "Cad-M38",
         "Cad",
         125
        ],
        [
         "Che-M41",
         "Che",
         126
        ],
        [
         "Vol-M257",
         "Vol",
         127
        ],
        [
         "For-M225",
         "For",
         128
        ],
        [
         "For-M223",
         "For",
         129
        ],
        [
         "Ren-M131",
         "Ren",
         130
        ],
        [
         "Che-M43",
         "Che",
         131
        ],
        [
         "Mah-M166",
         "Mah",
         132
        ],
        [
         "Mar-M151",
         "Mar",
         133
        ],
        [
         "Sub-M93",
         "Sub",
         134
        ],
        [
         "GMC-M57",
         "GMC",
         135
        ],
        [
         "Agr-M112",
         "Agr",
         136
        ],
        [
         "Mar-M138",
         "Mar",
         137
        ],
        [
         "Mar-M149",
         "Mar",
         138
        ],
        [
         "Che-M47",
         "Che",
         139
        ],
        [
         "Toy-M204",
         "Toy",
         140
        ],
        [
         "Cad-M39",
         "Cad",
         141
        ],
        [
         "Cad-M33",
         "Cad",
         142
        ],
        [
         "Hyu-M160",
         "Hyu",
         143
        ],
        [
         "Mah-M171",
         "Mah",
         144
        ],
        [
         "Tat-M184",
         "Tat",
         145
        ],
        [
         "Agr-M111",
         "Agr",
         146
        ],
        [
         "Lin-M27",
         "Lin",
         147
        ],
        [
         "Ren-M211",
         "Ren",
         148
        ],
        [
         "Nis-M265",
         "Nis",
         149
        ],
        [
         "Tat-M193",
         "Tat",
         150
        ],
        [
         "Che-M44",
         "Che",
         151
        ],
        [
         "Aud-M231",
         "Aud",
         152
        ],
        [
         "Ren-M208",
         "Ren",
         153
        ],
        [
         "MG-M252",
         "MG",
         154
        ],
        [
         "Tat-M182",
         "Tat",
         155
        ],
        [
         "GMC-M56",
         "GMC",
         156
        ],
        [
         "Mar-M141",
         "Mar",
         157
        ],
        [
         "Hyu-M164",
         "Hyu",
         158
        ],
        [
         "Peu-M125",
         "Peu",
         159
        ],
        [
         "Nis-M263",
         "Nis",
         160
        ],
        [
         "Hyu-M72",
         "Hyu",
         161
        ],
        [
         "Mit-M277",
         "Mit",
         162
        ],
        [
         "Toy-M101",
         "Toy",
         163
        ],
        [
         "For-M22",
         "For",
         164
        ],
        [
         "BMW-M248",
         "BMW",
         165
        ],
        [
         "Nis-M84",
         "Nis",
         166
        ],
        [
         "Mar-M150",
         "Mar",
         167
        ],
        [
         "Mar-M143",
         "Mar",
         168
        ],
        [
         "BMW-M246",
         "BMW",
         169
        ],
        [
         "Cad-M37",
         "Cad",
         170
        ],
        [
         "Nis-M268",
         "Nis",
         171
        ],
        [
         "Kia-M76",
         "Kia",
         172
        ],
        [
         "Aud-M228",
         "Aud",
         173
        ],
        [
         "Peu-M126",
         "Peu",
         174
        ],
        [
         "Tes-M97",
         "Tes",
         175
        ],
        [
         "Mah-M175",
         "Mah",
         176
        ],
        [
         "Hyu-M156",
         "Hyu",
         177
        ],
        [
         "Lin-M28",
         "Lin",
         178
        ],
        [
         "Toy-M107",
         "Toy",
         179
        ],
        [
         "Sub-M92",
         "Sub",
         180
        ],
        [
         "Che-M48",
         "Che",
         181
        ],
        [
         "For-M26",
         "For",
         182
        ],
        [
         "Vol-M135",
         "Vol",
         183
        ],
        [
         "Tat-M187",
         "Tat",
         184
        ],
        [
         "Hon-M120",
         "Hon",
         185
        ],
        [
         "Hyu-M163",
         "Hyu",
         186
        ],
        [
         "Mah-M177",
         "Mah",
         187
        ],
        [
         "Tat-M192",
         "Tat",
         188
        ],
        [
         "Kia-M77",
         "Kia",
         189
        ],
        [
         "Toy-M196",
         "Toy",
         190
        ],
        [
         "GMC-M58",
         "GMC",
         191
        ],
        [
         "Mah-M167",
         "Mah",
         192
        ],
        [
         "BMW-M5",
         "BMW",
         193
        ],
        [
         "BMW-M249",
         "BMW",
         194
        ],
        [
         "Mah-M172",
         "Mah",
         195
        ],
        [
         "Sub-M94",
         "Sub",
         196
        ],
        [
         "Tat-M180",
         "Tat",
         197
        ],
        [
         "For-M25",
         "For",
         198
        ],
        [
         "Che-M42",
         "Che",
         199
        ],
        [
         "Mer-M123",
         "Mer",
         200
        ],
        [
         "Peu-M124",
         "Peu",
         201
        ],
        [
         "Dod-M9",
         "Dod",
         202
        ],
        [
         "Mar-M140",
         "Mar",
         203
        ],
        [
         "For-M119",
         "For",
         204
        ],
        [
         "Tes-M98",
         "Tes",
         205
        ],
        [
         "Toy-M205",
         "Toy",
         206
        ],
        [
         "Ren-M129",
         "Ren",
         207
        ],
        [
         "Aud-M237",
         "Aud",
         208
        ],
        [
         "Toy-M133",
         "Toy",
         209
        ],
        [
         "Nis-M82",
         "Nis",
         210
        ],
        [
         "Tat-M183",
         "Tat",
         211
        ],
        [
         "Che-M51",
         "Che",
         212
        ],
        [
         "Jee-M11",
         "Jee",
         213
        ],
        [
         "Ren-M128",
         "Ren",
         214
        ],
        [
         "Cad-M34",
         "Cad",
         215
        ],
        [
         "Che-M46",
         "Che",
         216
        ],
        [
         "Ren-M127",
         "Ren",
         217
        ],
        [
         "Agr-M113",
         "Agr",
         218
        ],
        [
         "Toy-M199",
         "Toy",
         219
        ],
        [
         "Mar-M145",
         "Mar",
         220
        ],
        [
         "Sko-M273",
         "Sko",
         221
        ],
        [
         "Nis-M270",
         "Nis",
         222
        ],
        [
         "Aud-M235",
         "Aud",
         223
        ],
        [
         "Cad-M35",
         "Cad",
         224
        ],
        [
         "Mer-M8",
         "Mer",
         225
        ],
        [
         "For-M23",
         "For",
         226
        ],
        [
         "Aud-M236",
         "Aud",
         227
        ],
        [
         "Lex-M99",
         "Lex",
         228
        ],
        [
         "Ren-M209",
         "Ren",
         229
        ],
        [
         "Kia-M78",
         "Kia",
         230
        ],
        [
         "BMW-M3",
         "BMW",
         231
        ],
        [
         "Mah-M169",
         "Mah",
         232
        ],
        [
         "For-M16",
         "For",
         233
        ],
        [
         "Nis-M80",
         "Nis",
         234
        ],
        [
         "Toy-M201",
         "Toy",
         235
        ],
        [
         "Che-M45",
         "Che",
         236
        ],
        [
         "Mit-M275",
         "Mit",
         237
        ],
        [
         "Toy-M197",
         "Toy",
         238
        ],
        [
         "Tat-M190",
         "Tat",
         239
        ],
        [
         "Hon-M65",
         "Hon",
         240
        ],
        [
         "Toy-M102",
         "Toy",
         241
        ],
        [
         "Hon-M67",
         "Hon",
         242
        ],
        [
         "Sko-M274",
         "Sko",
         243
        ],
        [
         "Mah-M168",
         "Mah",
         244
        ],
        [
         "Mer-M6",
         "Mer",
         245
        ],
        [
         "Ren-M207",
         "Ren",
         246
        ],
        [
         "Hon-M68",
         "Hon",
         247
        ],
        [
         "Hon-M69",
         "Hon",
         248
        ],
        [
         "Mar-M144",
         "Mar",
         249
        ],
        [
         "Kia-M214",
         "Kia",
         250
        ],
        [
         "Sko-M272",
         "Sko",
         251
        ],
        [
         "Mit-M276",
         "Mit",
         252
        ],
        [
         "Mar-M148",
         "Mar",
         253
        ],
        [
         "For-M24",
         "For",
         254
        ],
        [
         "Mah-M170",
         "Mah",
         255
        ],
        [
         "Acu-M62",
         "Acu",
         256
        ],
        [
         "Hyu-M162",
         "Hyu",
         257
        ],
        [
         "Hyu-M155",
         "Hyu",
         258
        ],
        [
         "Ren-M210",
         "Ren",
         259
        ],
        [
         "Aud-M229",
         "Aud",
         260
        ],
        [
         "Tat-M185",
         "Tat",
         261
        ],
        [
         "Vol-M109",
         "Vol",
         262
        ],
        [
         "Mar-M147",
         "Mar",
         263
        ],
        [
         "Hyu-M153",
         "Hyu",
         264
        ],
        [
         "For-M224",
         "For",
         265
        ],
        [
         "Nis-M89",
         "Nis",
         266
        ],
        [
         "Riv-M90",
         "Riv",
         267
        ],
        [
         "Mar-M139",
         "Mar",
         268
        ],
        [
         "Jee-M13",
         "Jee",
         269
        ],
        [
         "Tat-M189",
         "Tat",
         270
        ],
        [
         "Toy-M134",
         "Toy",
         271
        ],
        [
         "Mah-M174",
         "Mah",
         272
        ],
        [
         "Aud-M230",
         "Aud",
         273
        ],
        [
         "Toy-M195",
         "Toy",
         274
        ],
        [
         "Fia-M117",
         "Fia",
         275
        ],
        [
         "For-M222",
         "For",
         276
        ],
        [
         "Tat-M186",
         "Tat",
         277
        ]
       ],
       "datasetInfos": [
        {
         "name": "_sqldf",
         "schema": {
          "fields": [
           {
            "metadata": {},
            "name": "Model_ID",
            "nullable": true,
            "type": "string"
           },
           {
            "metadata": {},
            "name": "Model_category",
            "nullable": true,
            "type": "string"
           },
           {
            "metadata": {},
            "name": "dim_model_key",
            "nullable": true,
            "type": "long"
           }
          ],
          "type": "struct"
         },
         "tableIdentifier": null,
         "typeStr": "pyspark.sql.connect.dataframe.DataFrame"
        }
       ],
       "dbfsResultPath": null,
       "isJsonSchema": true,
       "metadata": {
        "createTempViewForImplicitDf": true,
        "dataframeName": "_sqldf",
        "executionCount": 145
       },
       "overflow": false,
       "plotOptions": {
        "customPlotOptions": {},
        "displayType": "table",
        "pivotAggregation": null,
        "pivotColumns": null,
        "xColumns": null,
        "yColumns": null
       },
       "removedWidgets": [],
       "schema": [
        {
         "metadata": "{}",
         "name": "Model_ID",
         "type": "\"string\""
        },
        {
         "metadata": "{}",
         "name": "Model_category",
         "type": "\"string\""
        },
        {
         "metadata": "{}",
         "name": "dim_model_key",
         "type": "\"long\""
        }
       ],
       "type": "table"
      }
     },
     "output_type": "display_data"
    }
   ],
   "source": [
    "%sql\n",
    "select*from cars_sales_catalog.silver.dim_model"
   ]
  }
 ],
 "metadata": {
  "application/vnd.databricks.v1+notebook": {
   "computePreferences": null,
   "dashboards": [],
   "environmentMetadata": {
    "base_environment": "",
    "environment_version": "2"
   },
   "inputWidgetPreferences": null,
   "language": "python",
   "notebookMetadata": {
    "mostRecentlyExecutedCommandWithImplicitDF": {
     "commandId": 5214619366775738,
     "dataframes": [
      "_sqldf"
     ]
    },
    "pythonIndentUnit": 4
   },
   "notebookName": "gold model_dim",
   "widgets": {
    "incremental_flag": {
     "currentValue": "0",
     "nuid": "4c17e894-5d9e-464b-af0f-f0d0a6e62659",
     "typedWidgetInfo": {
      "autoCreated": false,
      "defaultValue": "0",
      "label": null,
      "name": "incremental_flag",
      "options": {
       "widgetDisplayType": "Text",
       "validationRegex": null
      },
      "parameterDataType": "String"
     },
     "widgetInfo": {
      "widgetType": "text",
      "defaultValue": "0",
      "label": null,
      "name": "incremental_flag",
      "options": {
       "widgetType": "text",
       "autoCreated": false,
       "validationRegex": null
      }
     }
    }
   }
  },
  "language_info": {
   "name": "python"
  }
 },
 "nbformat": 4,
 "nbformat_minor": 0
}